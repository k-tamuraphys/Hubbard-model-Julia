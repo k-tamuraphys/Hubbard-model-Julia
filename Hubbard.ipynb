{
 "cells": [
  {
   "cell_type": "markdown",
   "source": [
    "## **線形代数パッケージなどを読み込む**"
   ],
   "metadata": {}
  },
  {
   "cell_type": "code",
   "execution_count": 1,
   "source": [
    "using LinearAlgebra #線形代数パッケージ\n",
    "using Combinatorics #組み合わせ順列を扱うパッケージ\n",
    "using SparseArrays #疎行列を扱うパッケージ\n",
    "using Arpack #大規模な固有値問題のためのパッケージ"
   ],
   "outputs": [],
   "metadata": {}
  },
  {
   "cell_type": "markdown",
   "source": [
    "## **Pauli 行列**"
   ],
   "metadata": {}
  },
  {
   "cell_type": "code",
   "execution_count": 2,
   "source": [
    "const σ⁰ = [\n",
    "    1.0 0.0\n",
    "    0.0 1.0\n",
    "] |> sparse;\n",
    "\n",
    "const σ¹ = [\n",
    "    0.0 1.0\n",
    "    1.0 0.0\n",
    "] |> sparse;\n",
    "\n",
    "const σ² = [\n",
    "    0.0 -1.0im\n",
    "    1.0im 0.0\n",
    "] |> sparse;\n",
    "\n",
    "const σ³ = [\n",
    "    1.0 0.0\n",
    "    0.0 -1.0\n",
    "] |> sparse;\n",
    "\n",
    "const σ⁺ = [\n",
    "    0.0 1.0\n",
    "    0.0 0.0\n",
    "] |> sparse;\n",
    "\n",
    "const σ⁻ = [\n",
    "    0.0 0.0\n",
    "    1.0 0.0\n",
    "] |> sparse;"
   ],
   "outputs": [],
   "metadata": {}
  },
  {
   "cell_type": "markdown",
   "source": [
    "## **Jordan-Wigner 変換**"
   ],
   "metadata": {}
  },
  {
   "cell_type": "markdown",
   "source": [
    "$$\n",
    "\\begin{align*}\n",
    "c_k = (-\\sigma^3_1) \\otimes (-\\sigma^3_2) \\otimes \\cdots \\otimes (-\\sigma^3_{k-1}) \\otimes \\sigma^-_k \\otimes \\sigma^0_{k+1} \\otimes \\cdots \\otimes \\sigma^0_{N} \n",
    "\\end{align*}\n",
    "$$\n",
    "具体的な行列要素は\n",
    "$$\n",
    "\\begin{align*}\n",
    "(c_k)_{(i_1, \\dots, i_N), (j_1, \\dots, j_N)} = (-1)^{k-1} (-1)^{i_1 + i_2 + \\cdots + i_{k-1}} \\delta_{(i_1, \\dots, i_{k-1}), (j_1, \\dots, j_{k-1})} \\delta_{(i_{k+1}, \\dots, i_N), (j_{k+1}, \\dots, j_N)} \\delta_{i_k, 1} \\delta_{j_k, 0}\n",
    "\\end{align*}\n",
    "$$\n",
    "で与えられる。ただし 添字は$i = 0, 1$を取るものとする。"
   ],
   "metadata": {}
  },
  {
   "cell_type": "code",
   "execution_count": 3,
   "source": [
    "function JordanWigner(num_modes::Integer, index::Integer)\n",
    "    \"\"\"\n",
    "    Args:\n",
    "        num_sites (Integer): the number of lattice sites\n",
    "        index (Integer): lattice index\n",
    "    Returns:\n",
    "        Array{Float64, 2}\n",
    "    \"\"\"\n",
    "    pauli_strings = [-σ³ for i in 1:index-1]\n",
    "    append!(pauli_strings, [σ⁻]) # ! は破壊的処理(pythonで言うところの in_place = True) を意味する\n",
    "    append!(pauli_strings, [σ⁰ for i in index+1:num_modes])\n",
    "    return kron(pauli_strings...)\n",
    "end;\n",
    "\n",
    "function cop(num_modes::Integer, index::Integer)\n",
    "    \"\"\"\n",
    "    Args:\n",
    "        num_modes (Integer): the number of fermionic modes\n",
    "        index (Integer): index for mode\n",
    "    Returns:\n",
    "        Array{Float64, 2}\n",
    "    \"\"\"\n",
    "    dim = 2^num_modes\n",
    "    cop_mat = spzeros(dim, dim) #ゼロで初期化\n",
    "    base = reverse([2^i for i in 0:num_modes-1])\n",
    "    for binary_str in Iterators.product(collect(Iterators.repeated([0 1], num_modes-1))...)\n",
    "        binary_list = collect(binary_str)\n",
    "        insert!(binary_list, index, 1) # [i_1 ... i_k=1 ... i_N]という Array の作成\n",
    "        ind_left = dot(binary_list, base) + 1 # ２進数表記から整数へ変換(1から始まることに注意)\n",
    "        binary_list[index] = 0 # [i_1 ... i_k=0 ... i_N] という Array の作成\n",
    "        ind_right = dot(binary_list, base) + 1 # ２進数表記から整数へ変換(1から始まることに注意)\n",
    "        sgn = sum(binary_list[1:index-1]) + index - 1 \n",
    "        cop_mat[ind_left, ind_right] = (-1)^sgn　# 行列要素を代入\n",
    "    end\n",
    "\n",
    "    return cop_mat\n",
    "end;\n",
    "\n",
    "function cdg(num_modes::Integer, index::Integer)\n",
    "    return cop(num_modes, index)'\n",
    "end;\n",
    "\n",
    "function nop(num_modes::Integer, index::Integer)\n",
    "    return cdg(num_modes, index)*cop(num_modes, index)\n",
    "end;"
   ],
   "outputs": [],
   "metadata": {}
  },
  {
   "cell_type": "markdown",
   "source": [
    "## 粒子数セクターを取り出すための関数"
   ],
   "metadata": {}
  },
  {
   "cell_type": "code",
   "execution_count": 4,
   "source": [
    "function get_index_from_ns(nlist::Array, num_sites::Integer)::Array{Integer, 1} #２進数表記した時に0の個数がnlistになるような整数のリストを返す\n",
    "    \"\"\"\n",
    "    Args:\n",
    "        nlist (Array): the number of sites per each internal degrees of freedom\n",
    "        num_sites (Integer): the number of sites\n",
    "    Returns:\n",
    "        Array{Integer, 1}: list of indices\n",
    "    Example:\n",
    "        nlist=[2, 1], num_sites = 3 の時\n",
    "        nlist[1] = 2 に対応する bitstring は [0, 0, 1], [0, 1, 0], [1, 0, 0]\n",
    "        nlist[2] = 1 に対応する bitstring は [0, 1, 1], [1, 0, 1], [1, 1, 0]\n",
    "        これらを交互に要素が並ぶように連結し、10進数の整数に変換:\n",
    "        [0, 0, 1] + [0, 1, 1] = [0, 0, 0, 1, 1, 1] -> 7\n",
    "    \"\"\"\n",
    "    l = size(nlist)[1]\n",
    "    num_strings = l*num_sites\n",
    "    base = reverse([2^i for i in 0:num_strings-1])\n",
    "    binary_array = Array{Any}(nothing, l)\n",
    "    for s in 1:l\n",
    "        seed_vector = ones(Integer, num_sites)\n",
    "        for i in 1:nlist[s]\n",
    "            seed_vector[i] = 0\n",
    "        end\n",
    "        binary_array[s] = unique(permutations(seed_vector)) \n",
    "    end\n",
    "    return_array = Integer[]\n",
    "    for n_set in collect(Iterators.product(binary_array...))\n",
    "        h = hcat(n_set...)'\n",
    "        h = collect(Base.Flatten(h))\n",
    "        append!(return_array, dot(h, base))\n",
    "    end\n",
    "    return return_array\n",
    "end;"
   ],
   "outputs": [],
   "metadata": {}
  },
  {
   "cell_type": "code",
   "execution_count": 5,
   "source": [
    "get_index_from_ns([4, 4], 8)"
   ],
   "outputs": [
    {
     "output_type": "execute_result",
     "data": {
      "text/plain": [
       "4900-element Vector{Integer}:\n",
       "   255\n",
       "   639\n",
       "   735\n",
       "   759\n",
       "   765\n",
       "  2175\n",
       "  2271\n",
       "  2295\n",
       "  2301\n",
       "  2655\n",
       "  2679\n",
       "  2685\n",
       "  2775\n",
       "     ⋮\n",
       " 62850\n",
       " 62856\n",
       " 62880\n",
       " 63234\n",
       " 63240\n",
       " 63264\n",
       " 63360\n",
       " 64770\n",
       " 64776\n",
       " 64800\n",
       " 64896\n",
       " 65280"
      ]
     },
     "metadata": {},
     "execution_count": 5
    }
   ],
   "metadata": {}
  },
  {
   "cell_type": "markdown",
   "source": [
    "## **1次元鎖上の Fermi-Hubbard 模型**"
   ],
   "metadata": {}
  },
  {
   "cell_type": "code",
   "execution_count": 6,
   "source": [
    "function fermi_hubbard_model(num_sites::Integer, t::Number, onsite_interaction::Number; boundary_condition::String=\"open\", particle_num::Union{Integer, Nothing}=nothing, nup::Union{Integer, Nothing}=nothing, ndown::Union{Integer, Nothing}=nothing)\n",
    "    num_modes = 2*num_sites\n",
    "    dim = 2^num_modes\n",
    "    ham = spzeros(dim, dim)\n",
    "    cop_vec = [JordanWigner(num_modes, i) for i in 1:num_modes]\n",
    "    cdg_vec = adjoint.(cop_vec)\n",
    "    nop_vec = [cdg_vec[i]*cop_vec[i] for i in 1:num_modes]\n",
    "    for i in 1:num_sites-1\n",
    "        \"\"\"\n",
    "        hop_ham += t*(cdg(num_modes, 2*i-1)*cop(num_modes, 2*i+1) + cdg(num_modes, 2*i)*cop(num_modes, 2*i+2))\n",
    "        hop_ham += conj(t)*(cdg(num_modes, 2*i+1)*cop(num_modes, 2*i-1)+ cdg(num_modes, 2*i+2)*cop(num_modes, 2*i))\n",
    "        hop_ham += onsite_interaction*nop(num_modes, 2*i-1)*nop(num_modes, 2*i)\n",
    "        \"\"\"\n",
    "        add_ham = t*(cdg_vec[2*i-1]*cop_vec[2*i+1] + cdg_vec[2*i]*cop_vec[2*i+2])\n",
    "        add_ham += adjoint(add_ham)\n",
    "        add_ham += onsite_interaction*nop_vec[2*i-1]*nop_vec[2*i]\n",
    "        ham += add_ham\n",
    "    end\n",
    "    ham += onsite_interaction*nop_vec[2*num_sites-1]*nop_vec[2*num_sites]\n",
    "\n",
    "    if boundary_condition == \"periodic\" && num_sites > 2\n",
    "        add_ham = t*(cdg_vec[2*num_sites-1]*cop_vec[1] + cdg_vec[2*num_sites]*cop_vec[2])\n",
    "        add_ham += adjoint(add_ham)\n",
    "        ham += add_ham\n",
    "    end\n",
    "\n",
    "    if particle_num == nothing # particle_num が与えられない時はフルのハミルトニアンを返す\n",
    "        return ham\n",
    "    else \n",
    "        if nup == nothing && ndown == nothing # nup, ndown を指定しないときは particle_num で指定されたセクターのハミルトニアンを返す\n",
    "            indices = get_index_from_ns([particle_num], num_modes) .+ 1\n",
    "            return ham[indices, indices]\n",
    "        elseif  typeof(nup) <: Integer && typeof(ndown) <: Integer #nup, ndown が指定された時は、それらで決まるセクターのハミルトニアンを返す\n",
    "            if nup + ndown == particle_num\n",
    "                indices = get_index_from_ns([nup, ndown], num_sites) .+ 1\n",
    "                return ham[indices, indices]\n",
    "            else\n",
    "                println(\"$(nup) + $(ndown) is not $(particle_num).\")\n",
    "            end\n",
    "        else\n",
    "            println(\"nup and ndown must be Integer or Nothing, simulataneously.\")\n",
    "        end\n",
    "    end\n",
    "end;\n",
    "\n",
    "\n",
    "function fermi_hubbard_model2(num_sites::Integer, t::Number, onsite_interaction::Number; boundary_condition::String=\"open\", particle_num::Union{Integer, Nothing}=nothing, nup::Union{Integer, Nothing}=nothing, ndown::Union{Integer, Nothing}=nothing)\n",
    "    num_modes = 2*num_sites\n",
    "    dim = 2^num_modes\n",
    "    ham = spzeros(dim, dim)\n",
    "    cop_vec = [cop(num_modes, i) for i in 1:num_modes]\n",
    "    cdg_vec = adjoint.(cop_vec)\n",
    "    nop_vec = [cdg_vec[i]*cop_vec[i] for i in 1:num_modes]\n",
    "    for i in 1:num_sites-1\n",
    "        \"\"\"\n",
    "        hop_ham += t*(cdg(num_modes, 2*i-1)*cop(num_modes, 2*i+1) + cdg(num_modes, 2*i)*cop(num_modes, 2*i+2))\n",
    "        hop_ham += conj(t)*(cdg(num_modes, 2*i+1)*cop(num_modes, 2*i-1)+ cdg(num_modes, 2*i+2)*cop(num_modes, 2*i))\n",
    "        hop_ham += onsite_interaction*nop(num_modes, 2*i-1)*nop(num_modes, 2*i)\n",
    "        \"\"\"\n",
    "        add_ham = t*(cdg_vec[2*i-1]*cop_vec[2*i+1] + cdg_vec[2*i]*cop_vec[2*i+2])\n",
    "        add_ham += adjoint(add_ham)\n",
    "        add_ham += onsite_interaction*nop_vec[2*i-1]*nop_vec[2*i]\n",
    "        ham += add_ham\n",
    "    end\n",
    "    ham += onsite_interaction*nop_vec[2*num_sites-1]*nop_vec[2*num_sites]\n",
    "\n",
    "    if boundary_condition == \"periodic\" && num_sites > 2\n",
    "        add_ham = t*(cdg_vec[2*num_sites-1]*cop_vec[1] + cdg_vec[2*num_sites]*cop_vec[2])\n",
    "        add_ham += adjoint(add_ham)\n",
    "        ham += add_ham\n",
    "    end\n",
    "\n",
    "    if particle_num == nothing # particle_num が与えられない時はフルのハミルトニアンを返す\n",
    "        return ham\n",
    "    else \n",
    "        if nup == nothing && ndown == nothing # nup, ndown を指定しないときは particle_num で指定されたセクターのハミルトニアンを返す\n",
    "            indices = get_index_from_ns([particle_num], num_modes) .+ 1\n",
    "            return ham[indices, indices]\n",
    "        elseif  typeof(nup) <: Integer && typeof(ndown) <: Integer #nup, ndown が指定された時は、それらで決まるセクターのハミルトニアンを返す\n",
    "            if nup + ndown == particle_num\n",
    "                indices = get_index_from_ns([nup, ndown], num_sites) .+ 1\n",
    "                return ham[indices, indices]\n",
    "            else\n",
    "                println(\"$(nup) + $(ndown) is not $(particle_num).\")\n",
    "            end\n",
    "        else\n",
    "            println(\"nup and ndown must be Integer or Nothing, simulataneously.\")\n",
    "        end\n",
    "    end\n",
    "end;\n",
    "\n",
    "\n",
    "\n",
    "\n",
    "function lowest_energy(hamiltonian; sparse=true)::Real\n",
    "    if sparse == true\n",
    "        e, _ = eigs(hamiltonian, nev=1, which=:SR)\n",
    "        return e[1]\n",
    "    elseif sparse == false\n",
    "        ham = Hermitian(Matrix(hamiltonian))\n",
    "        e, _ = eigen(ham, 1:1)\n",
    "        return e[1]\n",
    "    end\n",
    "end;"
   ],
   "outputs": [],
   "metadata": {}
  },
  {
   "cell_type": "code",
   "execution_count": 7,
   "source": [
    "@time fermi_hubbard_model(8, -1.0, 1.0)"
   ],
   "outputs": [
    {
     "output_type": "stream",
     "name": "stdout",
     "text": [
      "  0.262753 seconds (101.31 k allocations: 257.191 MiB, 28.02% gc time, 35.12% compilation time)\n"
     ]
    },
    {
     "output_type": "execute_result",
     "data": {
      "text/plain": [
       "65536×65536 SparseMatrixCSC{Float64, Int64} with 517727 stored entries:\n",
       "⢻⣶⡴⠄⠀⣄⠀⠀⠀⠀⠀⠀⠀⠀⠀⠀⠀⠀⠀⠀⠀⠀⠀⠀⠀⠀⠀⠀⠀⠀⠀⠀⠀⠀⠀⠀⠀⠀⠀⠀\n",
       "⠐⠏⡻⣮⣗⠈⠃⢀⠀⠀⢦⡀⠀⠀⠀⠀⠀⠀⠀⠀⠀⠀⠀⠀⠀⠀⠀⠀⠀⠀⠀⠀⠀⠀⠀⠀⠀⠀⠀⠀\n",
       "⠀⢤⡙⠙⠻⣦⣄⢈⠳⠀⠀⠙⠦⠀⠀⠀⠀⠀⠀⠀⣄⠀⠀⠀⠀⠀⠀⠀⠀⠀⠀⠀⠀⠀⠀⠀⠀⠀⠀⠀\n",
       "⠀⠀⠉⢀⡀⢙⡿⣯⣡⣄⠀⠀⠀⠀⠀⡀⠀⠀⠀⠀⠈⠳⣄⠀⠀⠀⠀⠀⠀⠀⠀⠀⠀⠀⠀⠀⠀⠀⠀⠀\n",
       "⠀⠀⠀⠀⠙⠂⠁⢾⢿⣷⡀⠀⠀⠀⠀⠙⢦⡀⠀⠀⠀⠀⠈⠳⣄⠀⠀⠀⠀⠀⠀⠀⠀⠀⠀⠀⠀⠀⠀⠀\n",
       "⠀⠀⠈⠳⣄⠀⠀⠀⠀⠈⢿⣷⡴⢄⠀⣄⠀⠉⠀⠀⠀⠀⠀⠀⠈⠀⠀⠀⠀⠀⠀⠀⠀⠀⠀⠀⠀⠀⠀⠀\n",
       "⠀⠀⠀⠀⠈⠃⠀⠀⠀⠀⠐⢏⣻⣾⣇⠈⠃⢀⠀⠀⠀⠀⠀⠀⠀⠀⠀⠀⠀⠀⠀⠀⠀⠀⠀⠀⠀⠀⠀⠀\n",
       "⠀⠀⠀⠀⠀⠀⠀⠠⣄⠀⠀⢤⡉⠙⠻⣦⣄⢈⠳⠀⠀⠀⠀⠀⠀⠀⠀⠀⠀⠠⣄⠀⠀⠀⠀⠀⠀⠀⠀⠀\n",
       "⠀⠀⠀⠀⠀⠀⠀⠀⠈⠳⡄⠀⠉⢀⡀⢙⡿⣯⣱⡄⠀⠀⠀⠀⠀⠀⠀⠀⠀⠀⠈⠳⣄⠀⠀⠀⠀⠀⠀⠀\n",
       "⠀⠀⠀⠀⠀⠀⠀⠀⠀⠀⠀⠀⠀⠀⠙⠂⠑⠾⢿⣷⠀⠀⠀⠀⠀⠀⠀⠀⠀⠀⠀⠀⠈⠳⣄⠀⠀⠀⠀⠀\n",
       "⠀⠀⠀⠀⠀⠙⢦⡀⠀⠀⠀⠀⠀⠀⠀⠀⠀⠀⠀⠀⢿⣷⡶⢄⠠⣄⠀⠀⠀⠀⠀⠀⠀⠀⠀⠀⠀⠀⠀⠀\n",
       "⠀⠀⠀⠀⠀⠀⠀⠙⢦⡀⠀⠀⠀⠀⠀⠀⠀⠀⠀⠀⠘⢏⣻⣾⣅⠈⠁⣀⠀⠘⢦⡀⠀⠀⠀⠀⠀⠀⠀⠀\n",
       "⠀⠀⠀⠀⠀⠀⠀⠀⠀⠙⠂⠀⠀⠀⠀⠀⠀⠀⠀⠀⠀⢦⡁⠙⠻⣦⣄⣈⠓⠀⠀⠙⠂⠀⠀⠀⠀⠀⠀⠀\n",
       "⠀⠀⠀⠀⠀⠀⠀⠀⠀⠀⠀⠀⠀⠀⠀⠀⠀⠀⠀⠀⠀⠀⠁⢠⡀⢹⡿⣯⣱⠄⠀⠀⠀⠀⢠⡀⠀⠀⠀⠀\n",
       "⠀⠀⠀⠀⠀⠀⠀⠀⠀⠀⠀⠀⠀⠀⠀⡀⠀⠀⠀⠀⠀⠀⣀⠀⠙⠀⠑⠞⢿⣷⡀⠀⠀⠀⠀⠙⢦⡀⠀⠀\n",
       "⠀⠀⠀⠀⠀⠀⠀⠀⠀⠀⠀⠀⠀⠀⠀⠙⢦⡀⠀⠀⠀⠀⠈⠳⣄⠀⠀⠀⠀⠈⢿⣷⡷⢀⠠⣄⠀⠀⠀⠀\n",
       "⠀⠀⠀⠀⠀⠀⠀⠀⠀⠀⠀⠀⠀⠀⠀⠀⠀⠙⢦⡀⠀⠀⠀⠀⠈⠀⠀⠀⠀⠀⠙⢋⣻⣾⣅⠈⠁⣀⠀⠀\n",
       "⠀⠀⠀⠀⠀⠀⠀⠀⠀⠀⠀⠀⠀⠀⠀⠀⠀⠀⠀⠙⠀⠀⠀⠀⠀⠀⠀⠲⣄⠀⠀⢦⡁⠙⠻⣦⣄⣌⠓⠀\n",
       "⠀⠀⠀⠀⠀⠀⠀⠀⠀⠀⠀⠀⠀⠀⠀⠀⠀⠀⠀⠀⠀⠀⠀⠀⠀⠀⠀⠀⠈⠳⠀⠀⠁⢠⡀⢽⡻⣮⣰⠄\n",
       "⠀⠀⠀⠀⠀⠀⠀⠀⠀⠀⠀⠀⠀⠀⠀⠀⠀⠀⠀⠀⠀⠀⠀⠀⠀⠀⠀⠀⠀⠀⠀⠀⠀⠀⠙⠀⠐⠞⠿⣧"
      ]
     },
     "metadata": {},
     "execution_count": 7
    }
   ],
   "metadata": {}
  },
  {
   "cell_type": "code",
   "execution_count": 8,
   "source": [
    "@time fermi_hubbard_model2(8, -1.0, 1.0)"
   ],
   "outputs": [
    {
     "output_type": "stream",
     "name": "stdout",
     "text": [
      "  5.491987 seconds (7.80 M allocations: 1.060 GiB, 1.97% gc time, 3.73% compilation time)\n"
     ]
    },
    {
     "output_type": "execute_result",
     "data": {
      "text/plain": [
       "65536×65536 SparseMatrixCSC{Float64, Int64} with 517727 stored entries:\n",
       "⢻⣶⡴⠄⠀⣄⠀⠀⠀⠀⠀⠀⠀⠀⠀⠀⠀⠀⠀⠀⠀⠀⠀⠀⠀⠀⠀⠀⠀⠀⠀⠀⠀⠀⠀⠀⠀⠀⠀⠀\n",
       "⠐⠏⡻⣮⣗⠈⠃⢀⠀⠀⢦⡀⠀⠀⠀⠀⠀⠀⠀⠀⠀⠀⠀⠀⠀⠀⠀⠀⠀⠀⠀⠀⠀⠀⠀⠀⠀⠀⠀⠀\n",
       "⠀⢤⡙⠙⠻⣦⣄⢈⠳⠀⠀⠙⠦⠀⠀⠀⠀⠀⠀⠀⣄⠀⠀⠀⠀⠀⠀⠀⠀⠀⠀⠀⠀⠀⠀⠀⠀⠀⠀⠀\n",
       "⠀⠀⠉⢀⡀⢙⡿⣯⣡⣄⠀⠀⠀⠀⠀⡀⠀⠀⠀⠀⠈⠳⣄⠀⠀⠀⠀⠀⠀⠀⠀⠀⠀⠀⠀⠀⠀⠀⠀⠀\n",
       "⠀⠀⠀⠀⠙⠂⠁⢾⢿⣷⡀⠀⠀⠀⠀⠙⢦⡀⠀⠀⠀⠀⠈⠳⣄⠀⠀⠀⠀⠀⠀⠀⠀⠀⠀⠀⠀⠀⠀⠀\n",
       "⠀⠀⠈⠳⣄⠀⠀⠀⠀⠈⢿⣷⡴⢄⠀⣄⠀⠉⠀⠀⠀⠀⠀⠀⠈⠀⠀⠀⠀⠀⠀⠀⠀⠀⠀⠀⠀⠀⠀⠀\n",
       "⠀⠀⠀⠀⠈⠃⠀⠀⠀⠀⠐⢏⣻⣾⣇⠈⠃⢀⠀⠀⠀⠀⠀⠀⠀⠀⠀⠀⠀⠀⠀⠀⠀⠀⠀⠀⠀⠀⠀⠀\n",
       "⠀⠀⠀⠀⠀⠀⠀⠠⣄⠀⠀⢤⡉⠙⠻⣦⣄⢈⠳⠀⠀⠀⠀⠀⠀⠀⠀⠀⠀⠠⣄⠀⠀⠀⠀⠀⠀⠀⠀⠀\n",
       "⠀⠀⠀⠀⠀⠀⠀⠀⠈⠳⡄⠀⠉⢀⡀⢙⡿⣯⣱⡄⠀⠀⠀⠀⠀⠀⠀⠀⠀⠀⠈⠳⣄⠀⠀⠀⠀⠀⠀⠀\n",
       "⠀⠀⠀⠀⠀⠀⠀⠀⠀⠀⠀⠀⠀⠀⠙⠂⠑⠾⢿⣷⠀⠀⠀⠀⠀⠀⠀⠀⠀⠀⠀⠀⠈⠳⣄⠀⠀⠀⠀⠀\n",
       "⠀⠀⠀⠀⠀⠙⢦⡀⠀⠀⠀⠀⠀⠀⠀⠀⠀⠀⠀⠀⢿⣷⡶⢄⠠⣄⠀⠀⠀⠀⠀⠀⠀⠀⠀⠀⠀⠀⠀⠀\n",
       "⠀⠀⠀⠀⠀⠀⠀⠙⢦⡀⠀⠀⠀⠀⠀⠀⠀⠀⠀⠀⠘⢏⣻⣾⣅⠈⠁⣀⠀⠘⢦⡀⠀⠀⠀⠀⠀⠀⠀⠀\n",
       "⠀⠀⠀⠀⠀⠀⠀⠀⠀⠙⠂⠀⠀⠀⠀⠀⠀⠀⠀⠀⠀⢦⡁⠙⠻⣦⣄⣈⠓⠀⠀⠙⠂⠀⠀⠀⠀⠀⠀⠀\n",
       "⠀⠀⠀⠀⠀⠀⠀⠀⠀⠀⠀⠀⠀⠀⠀⠀⠀⠀⠀⠀⠀⠀⠁⢠⡀⢹⡿⣯⣱⠄⠀⠀⠀⠀⢠⡀⠀⠀⠀⠀\n",
       "⠀⠀⠀⠀⠀⠀⠀⠀⠀⠀⠀⠀⠀⠀⠀⡀⠀⠀⠀⠀⠀⠀⣀⠀⠙⠀⠑⠞⢿⣷⡀⠀⠀⠀⠀⠙⢦⡀⠀⠀\n",
       "⠀⠀⠀⠀⠀⠀⠀⠀⠀⠀⠀⠀⠀⠀⠀⠙⢦⡀⠀⠀⠀⠀⠈⠳⣄⠀⠀⠀⠀⠈⢿⣷⡷⢀⠠⣄⠀⠀⠀⠀\n",
       "⠀⠀⠀⠀⠀⠀⠀⠀⠀⠀⠀⠀⠀⠀⠀⠀⠀⠙⢦⡀⠀⠀⠀⠀⠈⠀⠀⠀⠀⠀⠙⢋⣻⣾⣅⠈⠁⣀⠀⠀\n",
       "⠀⠀⠀⠀⠀⠀⠀⠀⠀⠀⠀⠀⠀⠀⠀⠀⠀⠀⠀⠙⠀⠀⠀⠀⠀⠀⠀⠲⣄⠀⠀⢦⡁⠙⠻⣦⣄⣌⠓⠀\n",
       "⠀⠀⠀⠀⠀⠀⠀⠀⠀⠀⠀⠀⠀⠀⠀⠀⠀⠀⠀⠀⠀⠀⠀⠀⠀⠀⠀⠀⠈⠳⠀⠀⠁⢠⡀⢽⡻⣮⣰⠄\n",
       "⠀⠀⠀⠀⠀⠀⠀⠀⠀⠀⠀⠀⠀⠀⠀⠀⠀⠀⠀⠀⠀⠀⠀⠀⠀⠀⠀⠀⠀⠀⠀⠀⠀⠀⠙⠀⠐⠞⠿⣧"
      ]
     },
     "metadata": {},
     "execution_count": 8
    }
   ],
   "metadata": {}
  },
  {
   "cell_type": "markdown",
   "source": [
    "## **対角化**"
   ],
   "metadata": {}
  },
  {
   "cell_type": "code",
   "execution_count": 9,
   "source": [
    "using Dates"
   ],
   "outputs": [],
   "metadata": {}
  },
  {
   "cell_type": "code",
   "execution_count": 10,
   "source": [
    "start = Dates.now()\n",
    "fhm_ham = fermi_hubbard_model(6, -1.0, 1.0, particle_num=6, nup=3, ndown=3)\n",
    "energies, ψ = eigen(Matrix(fhm_ham))\n",
    "elapsed_time = Dates.now() - start\n",
    "println(\"elapsed_time is $(elapsed_time).\")"
   ],
   "outputs": [
    {
     "output_type": "stream",
     "name": "stdout",
     "text": [
      "elapsed_time is 992 milliseconds.\n"
     ]
    }
   ],
   "metadata": {}
  },
  {
   "cell_type": "markdown",
   "source": [
    "## 疎行列のまま解く"
   ],
   "metadata": {}
  },
  {
   "cell_type": "code",
   "execution_count": 11,
   "source": [
    "start = Dates.now()\n",
    "dim = size(fhm_ham)[1]\n",
    "energies, ψ = eigs(fhm_ham, nev = dim-1, which=:SR)\n",
    "elapsed_time = Dates.now() - start\n",
    "println(\"elapsed_time is $(elapsed_time).\")"
   ],
   "outputs": [
    {
     "output_type": "stream",
     "name": "stdout",
     "text": [
      "elapsed_time is 1715 milliseconds.\n"
     ]
    }
   ],
   "metadata": {}
  },
  {
   "cell_type": "code",
   "execution_count": 13,
   "source": [
    "fhm_ham = fermi_hubbard_model(8, -1.0, 1.0, particle_num=8, nup=4, ndown=4);"
   ],
   "outputs": [],
   "metadata": {}
  },
  {
   "cell_type": "code",
   "execution_count": 14,
   "source": [
    "@time lowest_energy(fhm_ham, sparse=true)"
   ],
   "outputs": [
    {
     "output_type": "stream",
     "name": "stdout",
     "text": [
      "  0.160557 seconds (103.42 k allocations: 7.340 MiB, 23.35% compilation time)\n"
     ]
    },
    {
     "output_type": "execute_result",
     "data": {
      "text/plain": [
       "-7.694833200102684"
      ]
     },
     "metadata": {},
     "execution_count": 14
    }
   ],
   "metadata": {}
  },
  {
   "cell_type": "code",
   "execution_count": 15,
   "source": [
    "@time lowest_energy(fhm_ham, sparse=false)"
   ],
   "outputs": [
    {
     "output_type": "stream",
     "name": "stdout",
     "text": [
      "  7.477506 seconds (18 allocations: 551.303 MiB, 0.42% gc time)\n"
     ]
    },
    {
     "output_type": "execute_result",
     "data": {
      "text/plain": [
       "-7.694833200102686"
      ]
     },
     "metadata": {},
     "execution_count": 15
    }
   ],
   "metadata": {}
  },
  {
   "cell_type": "markdown",
   "source": [
    "## **基底エネルギーの相互作用のパラメータ依存性とプロット**"
   ],
   "metadata": {}
  },
  {
   "cell_type": "code",
   "execution_count": 16,
   "source": [
    "using Plots"
   ],
   "outputs": [],
   "metadata": {}
  },
  {
   "cell_type": "code",
   "execution_count": 17,
   "source": [
    "function u_dependence(num_size::Integer, t::Number, umin::Real, umax::Real, length::Integer; boundary_condition::String=\"open\", particle_num::Union{Integer, Nothing}=nothing, nup::Union{Integer, Nothing}=nothing, ndown::Union{Integer, Nothing}=nothing)::Array{Real, 1}\n",
    "    energies = Real[]\n",
    "    for onsite_interaction in range(umin, umax, length=length)\n",
    "        fhm_ham = fermi_hubbard_model(\n",
    "            num_size,\n",
    "            t,\n",
    "            onsite_interaction,\n",
    "            boundary_condition=boundary_condition,\n",
    "            particle_num=particle_num,\n",
    "            nup=nup,\n",
    "            ndown=ndown\n",
    "        )\n",
    "        e = lowest_energy(fhm_ham)\n",
    "        append!(energies, e)\n",
    "    end\n",
    "    return energies\n",
    "end;"
   ],
   "outputs": [],
   "metadata": {}
  },
  {
   "cell_type": "code",
   "execution_count": 18,
   "source": [
    "start = Dates.now()\n",
    "num_size = 10\n",
    "particle_num = 10\n",
    "nup = 5\n",
    "ndown = 5\n",
    "t = -1.0\n",
    "umin = -1.5\n",
    "umax = 1.5\n",
    "Δu = 0.1\n",
    "length = Int(floor((umax - umin)/Δu))\n",
    "u_list = collect(range(umin, umax, length=length))\n",
    "energies = u_dependence(\n",
    "    num_size,\n",
    "    t,\n",
    "    umin,\n",
    "    umax,\n",
    "    length,\n",
    "    boundary_condition=\"periodic\",\n",
    "    particle_num=particle_num,\n",
    "    nup=nup,\n",
    "    ndown=ndown\n",
    ")\n",
    "energies = round.(energies, digits=8)\n",
    "scatter(\n",
    "    u_list,\n",
    "    energies,\n",
    "    title=\"U vs ground energy\",\n",
    "    xlabel=\"U\", \n",
    "    ylabel=\"energy\",\n",
    "    label=\"\"\n",
    ")|> display\n",
    "elapsed_time = Dates.now() - start\n",
    "println(\"elapsed_time is $(elapsed_time).\")"
   ],
   "outputs": [
    {
     "output_type": "display_data",
     "data": {
      "image/svg+xml": "<?xml version=\"1.0\" encoding=\"utf-8\"?>\n<svg xmlns=\"http://www.w3.org/2000/svg\" xmlns:xlink=\"http://www.w3.org/1999/xlink\" width=\"600\" height=\"400\" viewBox=\"0 0 2400 1600\">\n<defs>\n  <clipPath id=\"clip570\">\n    <rect x=\"0\" y=\"0\" width=\"2400\" height=\"1600\"/>\n  </clipPath>\n</defs>\n<path clip-path=\"url(#clip570)\" d=\"\nM0 1600 L2400 1600 L2400 0 L0 0  Z\n  \" fill=\"#ffffff\" fill-rule=\"evenodd\" fill-opacity=\"1\"/>\n<defs>\n  <clipPath id=\"clip571\">\n    <rect x=\"480\" y=\"0\" width=\"1681\" height=\"1600\"/>\n  </clipPath>\n</defs>\n<path clip-path=\"url(#clip570)\" d=\"\nM242.621 1423.18 L2352.76 1423.18 L2352.76 123.472 L242.621 123.472  Z\n  \" fill=\"#ffffff\" fill-rule=\"evenodd\" fill-opacity=\"1\"/>\n<defs>\n  <clipPath id=\"clip572\">\n    <rect x=\"242\" y=\"123\" width=\"2111\" height=\"1301\"/>\n  </clipPath>\n</defs>\n<polyline clip-path=\"url(#clip572)\" style=\"stroke:#000000; stroke-linecap:butt; stroke-linejoin:round; stroke-width:2; stroke-opacity:0.1; fill:none\" points=\"\n  302.342,1423.18 302.342,123.472 \n  \"/>\n<polyline clip-path=\"url(#clip572)\" style=\"stroke:#000000; stroke-linecap:butt; stroke-linejoin:round; stroke-width:2; stroke-opacity:0.1; fill:none\" points=\"\n  634.124,1423.18 634.124,123.472 \n  \"/>\n<polyline clip-path=\"url(#clip572)\" style=\"stroke:#000000; stroke-linecap:butt; stroke-linejoin:round; stroke-width:2; stroke-opacity:0.1; fill:none\" points=\"\n  965.906,1423.18 965.906,123.472 \n  \"/>\n<polyline clip-path=\"url(#clip572)\" style=\"stroke:#000000; stroke-linecap:butt; stroke-linejoin:round; stroke-width:2; stroke-opacity:0.1; fill:none\" points=\"\n  1297.69,1423.18 1297.69,123.472 \n  \"/>\n<polyline clip-path=\"url(#clip572)\" style=\"stroke:#000000; stroke-linecap:butt; stroke-linejoin:round; stroke-width:2; stroke-opacity:0.1; fill:none\" points=\"\n  1629.47,1423.18 1629.47,123.472 \n  \"/>\n<polyline clip-path=\"url(#clip572)\" style=\"stroke:#000000; stroke-linecap:butt; stroke-linejoin:round; stroke-width:2; stroke-opacity:0.1; fill:none\" points=\"\n  1961.25,1423.18 1961.25,123.472 \n  \"/>\n<polyline clip-path=\"url(#clip572)\" style=\"stroke:#000000; stroke-linecap:butt; stroke-linejoin:round; stroke-width:2; stroke-opacity:0.1; fill:none\" points=\"\n  2293.04,1423.18 2293.04,123.472 \n  \"/>\n<polyline clip-path=\"url(#clip570)\" style=\"stroke:#000000; stroke-linecap:butt; stroke-linejoin:round; stroke-width:4; stroke-opacity:1; fill:none\" points=\"\n  242.621,1423.18 2352.76,1423.18 \n  \"/>\n<polyline clip-path=\"url(#clip570)\" style=\"stroke:#000000; stroke-linecap:butt; stroke-linejoin:round; stroke-width:4; stroke-opacity:1; fill:none\" points=\"\n  302.342,1423.18 302.342,1404.28 \n  \"/>\n<polyline clip-path=\"url(#clip570)\" style=\"stroke:#000000; stroke-linecap:butt; stroke-linejoin:round; stroke-width:4; stroke-opacity:1; fill:none\" points=\"\n  634.124,1423.18 634.124,1404.28 \n  \"/>\n<polyline clip-path=\"url(#clip570)\" style=\"stroke:#000000; stroke-linecap:butt; stroke-linejoin:round; stroke-width:4; stroke-opacity:1; fill:none\" points=\"\n  965.906,1423.18 965.906,1404.28 \n  \"/>\n<polyline clip-path=\"url(#clip570)\" style=\"stroke:#000000; stroke-linecap:butt; stroke-linejoin:round; stroke-width:4; stroke-opacity:1; fill:none\" points=\"\n  1297.69,1423.18 1297.69,1404.28 \n  \"/>\n<polyline clip-path=\"url(#clip570)\" style=\"stroke:#000000; stroke-linecap:butt; stroke-linejoin:round; stroke-width:4; stroke-opacity:1; fill:none\" points=\"\n  1629.47,1423.18 1629.47,1404.28 \n  \"/>\n<polyline clip-path=\"url(#clip570)\" style=\"stroke:#000000; stroke-linecap:butt; stroke-linejoin:round; stroke-width:4; stroke-opacity:1; fill:none\" points=\"\n  1961.25,1423.18 1961.25,1404.28 \n  \"/>\n<polyline clip-path=\"url(#clip570)\" style=\"stroke:#000000; stroke-linecap:butt; stroke-linejoin:round; stroke-width:4; stroke-opacity:1; fill:none\" points=\"\n  2293.04,1423.18 2293.04,1404.28 \n  \"/>\n<path clip-path=\"url(#clip570)\" d=\"M249.367 1467.02 L279.043 1467.02 L279.043 1470.96 L249.367 1470.96 L249.367 1467.02 Z\" fill=\"#000000\" fill-rule=\"evenodd\" fill-opacity=\"1\" /><path clip-path=\"url(#clip570)\" d=\"M289.946 1479.92 L297.585 1479.92 L297.585 1453.55 L289.275 1455.22 L289.275 1450.96 L297.538 1449.29 L302.214 1449.29 L302.214 1479.92 L309.853 1479.92 L309.853 1483.85 L289.946 1483.85 L289.946 1479.92 Z\" fill=\"#000000\" fill-rule=\"evenodd\" fill-opacity=\"1\" /><path clip-path=\"url(#clip570)\" d=\"M319.298 1477.97 L324.182 1477.97 L324.182 1483.85 L319.298 1483.85 L319.298 1477.97 Z\" fill=\"#000000\" fill-rule=\"evenodd\" fill-opacity=\"1\" /><path clip-path=\"url(#clip570)\" d=\"M334.413 1449.29 L352.77 1449.29 L352.77 1453.23 L338.696 1453.23 L338.696 1461.7 Q339.714 1461.35 340.733 1461.19 Q341.751 1461 342.77 1461 Q348.557 1461 351.936 1464.18 Q355.316 1467.35 355.316 1472.76 Q355.316 1478.34 351.844 1481.44 Q348.371 1484.52 342.052 1484.52 Q339.876 1484.52 337.608 1484.15 Q335.362 1483.78 332.955 1483.04 L332.955 1478.34 Q335.038 1479.48 337.26 1480.03 Q339.483 1480.59 341.959 1480.59 Q345.964 1480.59 348.302 1478.48 Q350.64 1476.38 350.64 1472.76 Q350.64 1469.15 348.302 1467.05 Q345.964 1464.94 341.959 1464.94 Q340.084 1464.94 338.209 1465.36 Q336.358 1465.77 334.413 1466.65 L334.413 1449.29 Z\" fill=\"#000000\" fill-rule=\"evenodd\" fill-opacity=\"1\" /><path clip-path=\"url(#clip570)\" d=\"M580.652 1467.02 L610.328 1467.02 L610.328 1470.96 L580.652 1470.96 L580.652 1467.02 Z\" fill=\"#000000\" fill-rule=\"evenodd\" fill-opacity=\"1\" /><path clip-path=\"url(#clip570)\" d=\"M621.23 1479.92 L628.869 1479.92 L628.869 1453.55 L620.559 1455.22 L620.559 1450.96 L628.823 1449.29 L633.499 1449.29 L633.499 1479.92 L641.138 1479.92 L641.138 1483.85 L621.23 1483.85 L621.23 1479.92 Z\" fill=\"#000000\" fill-rule=\"evenodd\" fill-opacity=\"1\" /><path clip-path=\"url(#clip570)\" d=\"M650.582 1477.97 L655.466 1477.97 L655.466 1483.85 L650.582 1483.85 L650.582 1477.97 Z\" fill=\"#000000\" fill-rule=\"evenodd\" fill-opacity=\"1\" /><path clip-path=\"url(#clip570)\" d=\"M675.651 1452.37 Q672.04 1452.37 670.212 1455.94 Q668.406 1459.48 668.406 1466.61 Q668.406 1473.71 670.212 1477.28 Q672.04 1480.82 675.651 1480.82 Q679.286 1480.82 681.091 1477.28 Q682.92 1473.71 682.92 1466.61 Q682.92 1459.48 681.091 1455.94 Q679.286 1452.37 675.651 1452.37 M675.651 1448.67 Q681.462 1448.67 684.517 1453.27 Q687.596 1457.86 687.596 1466.61 Q687.596 1475.33 684.517 1479.94 Q681.462 1484.52 675.651 1484.52 Q669.841 1484.52 666.763 1479.94 Q663.707 1475.33 663.707 1466.61 Q663.707 1457.86 666.763 1453.27 Q669.841 1448.67 675.651 1448.67 Z\" fill=\"#000000\" fill-rule=\"evenodd\" fill-opacity=\"1\" /><path clip-path=\"url(#clip570)\" d=\"M912.932 1467.02 L942.608 1467.02 L942.608 1470.96 L912.932 1470.96 L912.932 1467.02 Z\" fill=\"#000000\" fill-rule=\"evenodd\" fill-opacity=\"1\" /><path clip-path=\"url(#clip570)\" d=\"M962.7 1452.37 Q959.089 1452.37 957.26 1455.94 Q955.455 1459.48 955.455 1466.61 Q955.455 1473.71 957.26 1477.28 Q959.089 1480.82 962.7 1480.82 Q966.334 1480.82 968.14 1477.28 Q969.969 1473.71 969.969 1466.61 Q969.969 1459.48 968.14 1455.94 Q966.334 1452.37 962.7 1452.37 M962.7 1448.67 Q968.51 1448.67 971.566 1453.27 Q974.644 1457.86 974.644 1466.61 Q974.644 1475.33 971.566 1479.94 Q968.51 1484.52 962.7 1484.52 Q956.89 1484.52 953.811 1479.94 Q950.756 1475.33 950.756 1466.61 Q950.756 1457.86 953.811 1453.27 Q956.89 1448.67 962.7 1448.67 Z\" fill=\"#000000\" fill-rule=\"evenodd\" fill-opacity=\"1\" /><path clip-path=\"url(#clip570)\" d=\"M982.862 1477.97 L987.746 1477.97 L987.746 1483.85 L982.862 1483.85 L982.862 1477.97 Z\" fill=\"#000000\" fill-rule=\"evenodd\" fill-opacity=\"1\" /><path clip-path=\"url(#clip570)\" d=\"M997.978 1449.29 L1016.33 1449.29 L1016.33 1453.23 L1002.26 1453.23 L1002.26 1461.7 Q1003.28 1461.35 1004.3 1461.19 Q1005.32 1461 1006.33 1461 Q1012.12 1461 1015.5 1464.18 Q1018.88 1467.35 1018.88 1472.76 Q1018.88 1478.34 1015.41 1481.44 Q1011.94 1484.52 1005.62 1484.52 Q1003.44 1484.52 1001.17 1484.15 Q998.927 1483.78 996.519 1483.04 L996.519 1478.34 Q998.603 1479.48 1000.82 1480.03 Q1003.05 1480.59 1005.52 1480.59 Q1009.53 1480.59 1011.87 1478.48 Q1014.2 1476.38 1014.2 1472.76 Q1014.2 1469.15 1011.87 1467.05 Q1009.53 1464.94 1005.52 1464.94 Q1003.65 1464.94 1001.77 1465.36 Q999.922 1465.77 997.978 1466.65 L997.978 1449.29 Z\" fill=\"#000000\" fill-rule=\"evenodd\" fill-opacity=\"1\" /><path clip-path=\"url(#clip570)\" d=\"M1275.07 1452.37 Q1271.46 1452.37 1269.63 1455.94 Q1267.83 1459.48 1267.83 1466.61 Q1267.83 1473.71 1269.63 1477.28 Q1271.46 1480.82 1275.07 1480.82 Q1278.71 1480.82 1280.51 1477.28 Q1282.34 1473.71 1282.34 1466.61 Q1282.34 1459.48 1280.51 1455.94 Q1278.71 1452.37 1275.07 1452.37 M1275.07 1448.67 Q1280.88 1448.67 1283.94 1453.27 Q1287.02 1457.86 1287.02 1466.61 Q1287.02 1475.33 1283.94 1479.94 Q1280.88 1484.52 1275.07 1484.52 Q1269.26 1484.52 1266.18 1479.94 Q1263.13 1475.33 1263.13 1466.61 Q1263.13 1457.86 1266.18 1453.27 Q1269.26 1448.67 1275.07 1448.67 Z\" fill=\"#000000\" fill-rule=\"evenodd\" fill-opacity=\"1\" /><path clip-path=\"url(#clip570)\" d=\"M1295.23 1477.97 L1300.12 1477.97 L1300.12 1483.85 L1295.23 1483.85 L1295.23 1477.97 Z\" fill=\"#000000\" fill-rule=\"evenodd\" fill-opacity=\"1\" /><path clip-path=\"url(#clip570)\" d=\"M1320.3 1452.37 Q1316.69 1452.37 1314.86 1455.94 Q1313.06 1459.48 1313.06 1466.61 Q1313.06 1473.71 1314.86 1477.28 Q1316.69 1480.82 1320.3 1480.82 Q1323.94 1480.82 1325.74 1477.28 Q1327.57 1473.71 1327.57 1466.61 Q1327.57 1459.48 1325.74 1455.94 Q1323.94 1452.37 1320.3 1452.37 M1320.3 1448.67 Q1326.11 1448.67 1329.17 1453.27 Q1332.25 1457.86 1332.25 1466.61 Q1332.25 1475.33 1329.17 1479.94 Q1326.11 1484.52 1320.3 1484.52 Q1314.49 1484.52 1311.42 1479.94 Q1308.36 1475.33 1308.36 1466.61 Q1308.36 1457.86 1311.42 1453.27 Q1314.49 1448.67 1320.3 1448.67 Z\" fill=\"#000000\" fill-rule=\"evenodd\" fill-opacity=\"1\" /><path clip-path=\"url(#clip570)\" d=\"M1607.35 1452.37 Q1603.74 1452.37 1601.91 1455.94 Q1600.11 1459.48 1600.11 1466.61 Q1600.11 1473.71 1601.91 1477.28 Q1603.74 1480.82 1607.35 1480.82 Q1610.99 1480.82 1612.79 1477.28 Q1614.62 1473.71 1614.62 1466.61 Q1614.62 1459.48 1612.79 1455.94 Q1610.99 1452.37 1607.35 1452.37 M1607.35 1448.67 Q1613.16 1448.67 1616.22 1453.27 Q1619.3 1457.86 1619.3 1466.61 Q1619.3 1475.33 1616.22 1479.94 Q1613.16 1484.52 1607.35 1484.52 Q1601.54 1484.52 1598.46 1479.94 Q1595.41 1475.33 1595.41 1466.61 Q1595.41 1457.86 1598.46 1453.27 Q1601.54 1448.67 1607.35 1448.67 Z\" fill=\"#000000\" fill-rule=\"evenodd\" fill-opacity=\"1\" /><path clip-path=\"url(#clip570)\" d=\"M1627.51 1477.97 L1632.4 1477.97 L1632.4 1483.85 L1627.51 1483.85 L1627.51 1477.97 Z\" fill=\"#000000\" fill-rule=\"evenodd\" fill-opacity=\"1\" /><path clip-path=\"url(#clip570)\" d=\"M1642.63 1449.29 L1660.99 1449.29 L1660.99 1453.23 L1646.91 1453.23 L1646.91 1461.7 Q1647.93 1461.35 1648.95 1461.19 Q1649.97 1461 1650.99 1461 Q1656.77 1461 1660.15 1464.18 Q1663.53 1467.35 1663.53 1472.76 Q1663.53 1478.34 1660.06 1481.44 Q1656.59 1484.52 1650.27 1484.52 Q1648.09 1484.52 1645.82 1484.15 Q1643.58 1483.78 1641.17 1483.04 L1641.17 1478.34 Q1643.26 1479.48 1645.48 1480.03 Q1647.7 1480.59 1650.18 1480.59 Q1654.18 1480.59 1656.52 1478.48 Q1658.86 1476.38 1658.86 1472.76 Q1658.86 1469.15 1656.52 1467.05 Q1654.18 1464.94 1650.18 1464.94 Q1648.3 1464.94 1646.43 1465.36 Q1644.57 1465.77 1642.63 1466.65 L1642.63 1449.29 Z\" fill=\"#000000\" fill-rule=\"evenodd\" fill-opacity=\"1\" /><path clip-path=\"url(#clip570)\" d=\"M1928.41 1479.92 L1936.04 1479.92 L1936.04 1453.55 L1927.73 1455.22 L1927.73 1450.96 L1936 1449.29 L1940.67 1449.29 L1940.67 1479.92 L1948.31 1479.92 L1948.31 1483.85 L1928.41 1483.85 L1928.41 1479.92 Z\" fill=\"#000000\" fill-rule=\"evenodd\" fill-opacity=\"1\" /><path clip-path=\"url(#clip570)\" d=\"M1957.76 1477.97 L1962.64 1477.97 L1962.64 1483.85 L1957.76 1483.85 L1957.76 1477.97 Z\" fill=\"#000000\" fill-rule=\"evenodd\" fill-opacity=\"1\" /><path clip-path=\"url(#clip570)\" d=\"M1982.83 1452.37 Q1979.22 1452.37 1977.39 1455.94 Q1975.58 1459.48 1975.58 1466.61 Q1975.58 1473.71 1977.39 1477.28 Q1979.22 1480.82 1982.83 1480.82 Q1986.46 1480.82 1988.27 1477.28 Q1990.1 1473.71 1990.1 1466.61 Q1990.1 1459.48 1988.27 1455.94 Q1986.46 1452.37 1982.83 1452.37 M1982.83 1448.67 Q1988.64 1448.67 1991.69 1453.27 Q1994.77 1457.86 1994.77 1466.61 Q1994.77 1475.33 1991.69 1479.94 Q1988.64 1484.52 1982.83 1484.52 Q1977.02 1484.52 1973.94 1479.94 Q1970.88 1475.33 1970.88 1466.61 Q1970.88 1457.86 1973.94 1453.27 Q1977.02 1448.67 1982.83 1448.67 Z\" fill=\"#000000\" fill-rule=\"evenodd\" fill-opacity=\"1\" /><path clip-path=\"url(#clip570)\" d=\"M2260.69 1479.92 L2268.32 1479.92 L2268.32 1453.55 L2260.01 1455.22 L2260.01 1450.96 L2268.28 1449.29 L2272.95 1449.29 L2272.95 1479.92 L2280.59 1479.92 L2280.59 1483.85 L2260.69 1483.85 L2260.69 1479.92 Z\" fill=\"#000000\" fill-rule=\"evenodd\" fill-opacity=\"1\" /><path clip-path=\"url(#clip570)\" d=\"M2290.04 1477.97 L2294.92 1477.97 L2294.92 1483.85 L2290.04 1483.85 L2290.04 1477.97 Z\" fill=\"#000000\" fill-rule=\"evenodd\" fill-opacity=\"1\" /><path clip-path=\"url(#clip570)\" d=\"M2305.15 1449.29 L2323.51 1449.29 L2323.51 1453.23 L2309.44 1453.23 L2309.44 1461.7 Q2310.45 1461.35 2311.47 1461.19 Q2312.49 1461 2313.51 1461 Q2319.3 1461 2322.68 1464.18 Q2326.06 1467.35 2326.06 1472.76 Q2326.06 1478.34 2322.58 1481.44 Q2319.11 1484.52 2312.79 1484.52 Q2310.62 1484.52 2308.35 1484.15 Q2306.1 1483.78 2303.69 1483.04 L2303.69 1478.34 Q2305.78 1479.48 2308 1480.03 Q2310.22 1480.59 2312.7 1480.59 Q2316.7 1480.59 2319.04 1478.48 Q2321.38 1476.38 2321.38 1472.76 Q2321.38 1469.15 2319.04 1467.05 Q2316.7 1464.94 2312.7 1464.94 Q2310.82 1464.94 2308.95 1465.36 Q2307.1 1465.77 2305.15 1466.65 L2305.15 1449.29 Z\" fill=\"#000000\" fill-rule=\"evenodd\" fill-opacity=\"1\" /><path clip-path=\"url(#clip570)\" d=\"M1279.5 1520.52 L1285.96 1520.52 L1285.96 1549.39 Q1285.96 1557.03 1288.73 1560.4 Q1291.5 1563.75 1297.7 1563.75 Q1303.88 1563.75 1306.65 1560.4 Q1309.42 1557.03 1309.42 1549.39 L1309.42 1520.52 L1315.88 1520.52 L1315.88 1550.19 Q1315.88 1559.48 1311.26 1564.22 Q1306.68 1568.97 1297.7 1568.97 Q1288.7 1568.97 1284.08 1564.22 Q1279.5 1559.48 1279.5 1550.19 L1279.5 1520.52 Z\" fill=\"#000000\" fill-rule=\"evenodd\" fill-opacity=\"1\" /><polyline clip-path=\"url(#clip572)\" style=\"stroke:#000000; stroke-linecap:butt; stroke-linejoin:round; stroke-width:2; stroke-opacity:0.1; fill:none\" points=\"\n  242.621,1209.77 2352.76,1209.77 \n  \"/>\n<polyline clip-path=\"url(#clip572)\" style=\"stroke:#000000; stroke-linecap:butt; stroke-linejoin:round; stroke-width:2; stroke-opacity:0.1; fill:none\" points=\"\n  242.621,882.804 2352.76,882.804 \n  \"/>\n<polyline clip-path=\"url(#clip572)\" style=\"stroke:#000000; stroke-linecap:butt; stroke-linejoin:round; stroke-width:2; stroke-opacity:0.1; fill:none\" points=\"\n  242.621,555.834 2352.76,555.834 \n  \"/>\n<polyline clip-path=\"url(#clip572)\" style=\"stroke:#000000; stroke-linecap:butt; stroke-linejoin:round; stroke-width:2; stroke-opacity:0.1; fill:none\" points=\"\n  242.621,228.863 2352.76,228.863 \n  \"/>\n<polyline clip-path=\"url(#clip570)\" style=\"stroke:#000000; stroke-linecap:butt; stroke-linejoin:round; stroke-width:4; stroke-opacity:1; fill:none\" points=\"\n  242.621,1423.18 242.621,123.472 \n  \"/>\n<polyline clip-path=\"url(#clip570)\" style=\"stroke:#000000; stroke-linecap:butt; stroke-linejoin:round; stroke-width:4; stroke-opacity:1; fill:none\" points=\"\n  242.621,1209.77 261.518,1209.77 \n  \"/>\n<polyline clip-path=\"url(#clip570)\" style=\"stroke:#000000; stroke-linecap:butt; stroke-linejoin:round; stroke-width:4; stroke-opacity:1; fill:none\" points=\"\n  242.621,882.804 261.518,882.804 \n  \"/>\n<polyline clip-path=\"url(#clip570)\" style=\"stroke:#000000; stroke-linecap:butt; stroke-linejoin:round; stroke-width:4; stroke-opacity:1; fill:none\" points=\"\n  242.621,555.834 261.518,555.834 \n  \"/>\n<polyline clip-path=\"url(#clip570)\" style=\"stroke:#000000; stroke-linecap:butt; stroke-linejoin:round; stroke-width:4; stroke-opacity:1; fill:none\" points=\"\n  242.621,228.863 261.518,228.863 \n  \"/>\n<path clip-path=\"url(#clip570)\" d=\"M114.584 1210.23 L144.26 1210.23 L144.26 1214.16 L114.584 1214.16 L114.584 1210.23 Z\" fill=\"#000000\" fill-rule=\"evenodd\" fill-opacity=\"1\" /><path clip-path=\"url(#clip570)\" d=\"M155.163 1223.12 L162.802 1223.12 L162.802 1196.75 L154.491 1198.42 L154.491 1194.16 L162.755 1192.49 L167.431 1192.49 L167.431 1223.12 L175.07 1223.12 L175.07 1227.05 L155.163 1227.05 L155.163 1223.12 Z\" fill=\"#000000\" fill-rule=\"evenodd\" fill-opacity=\"1\" /><path clip-path=\"url(#clip570)\" d=\"M195.093 1207.91 Q191.945 1207.91 190.093 1210.06 Q188.264 1212.22 188.264 1215.97 Q188.264 1219.69 190.093 1221.87 Q191.945 1224.02 195.093 1224.02 Q198.241 1224.02 200.07 1221.87 Q201.922 1219.69 201.922 1215.97 Q201.922 1212.22 200.07 1210.06 Q198.241 1207.91 195.093 1207.91 M204.375 1193.26 L204.375 1197.52 Q202.616 1196.68 200.811 1196.24 Q199.028 1195.8 197.269 1195.8 Q192.639 1195.8 190.186 1198.93 Q187.755 1202.05 187.408 1208.37 Q188.774 1206.36 190.834 1205.3 Q192.894 1204.21 195.371 1204.21 Q200.579 1204.21 203.588 1207.38 Q206.621 1210.53 206.621 1215.97 Q206.621 1221.29 203.473 1224.51 Q200.325 1227.73 195.093 1227.73 Q189.098 1227.73 185.926 1223.14 Q182.755 1218.54 182.755 1209.81 Q182.755 1201.61 186.644 1196.75 Q190.533 1191.87 197.084 1191.87 Q198.843 1191.87 200.625 1192.22 Q202.431 1192.56 204.375 1193.26 Z\" fill=\"#000000\" fill-rule=\"evenodd\" fill-opacity=\"1\" /><path clip-path=\"url(#clip570)\" d=\"M114.26 883.255 L143.936 883.255 L143.936 887.191 L114.26 887.191 L114.26 883.255 Z\" fill=\"#000000\" fill-rule=\"evenodd\" fill-opacity=\"1\" /><path clip-path=\"url(#clip570)\" d=\"M154.839 896.149 L162.477 896.149 L162.477 869.783 L154.167 871.45 L154.167 867.191 L162.431 865.524 L167.107 865.524 L167.107 896.149 L174.746 896.149 L174.746 900.084 L154.839 900.084 L154.839 896.149 Z\" fill=\"#000000\" fill-rule=\"evenodd\" fill-opacity=\"1\" /><path clip-path=\"url(#clip570)\" d=\"M197.037 869.598 L185.232 888.047 L197.037 888.047 L197.037 869.598 M195.811 865.524 L201.69 865.524 L201.69 888.047 L206.621 888.047 L206.621 891.936 L201.69 891.936 L201.69 900.084 L197.037 900.084 L197.037 891.936 L181.436 891.936 L181.436 887.422 L195.811 865.524 Z\" fill=\"#000000\" fill-rule=\"evenodd\" fill-opacity=\"1\" /><path clip-path=\"url(#clip570)\" d=\"M116.343 556.285 L146.019 556.285 L146.019 560.22 L116.343 560.22 L116.343 556.285 Z\" fill=\"#000000\" fill-rule=\"evenodd\" fill-opacity=\"1\" /><path clip-path=\"url(#clip570)\" d=\"M156.922 569.178 L164.561 569.178 L164.561 542.813 L156.251 544.479 L156.251 540.22 L164.515 538.554 L169.19 538.554 L169.19 569.178 L176.829 569.178 L176.829 573.114 L156.922 573.114 L156.922 569.178 Z\" fill=\"#000000\" fill-rule=\"evenodd\" fill-opacity=\"1\" /><path clip-path=\"url(#clip570)\" d=\"M190.301 569.178 L206.621 569.178 L206.621 573.114 L184.676 573.114 L184.676 569.178 Q187.338 566.424 191.922 561.794 Q196.528 557.141 197.709 555.799 Q199.954 553.276 200.834 551.54 Q201.737 549.78 201.737 548.091 Q201.737 545.336 199.792 543.6 Q197.871 541.864 194.769 541.864 Q192.57 541.864 190.116 542.628 Q187.686 543.392 184.908 544.942 L184.908 540.22 Q187.732 539.086 190.186 538.507 Q192.639 537.929 194.676 537.929 Q200.047 537.929 203.241 540.614 Q206.436 543.299 206.436 547.79 Q206.436 549.919 205.625 551.841 Q204.838 553.739 202.732 556.331 Q202.153 557.003 199.051 560.22 Q195.95 563.415 190.301 569.178 Z\" fill=\"#000000\" fill-rule=\"evenodd\" fill-opacity=\"1\" /><path clip-path=\"url(#clip570)\" d=\"M114.746 229.314 L144.422 229.314 L144.422 233.25 L114.746 233.25 L114.746 229.314 Z\" fill=\"#000000\" fill-rule=\"evenodd\" fill-opacity=\"1\" /><path clip-path=\"url(#clip570)\" d=\"M155.325 242.208 L162.964 242.208 L162.964 215.842 L154.653 217.509 L154.653 213.25 L162.917 211.583 L167.593 211.583 L167.593 242.208 L175.232 242.208 L175.232 246.143 L155.325 246.143 L155.325 242.208 Z\" fill=\"#000000\" fill-rule=\"evenodd\" fill-opacity=\"1\" /><path clip-path=\"url(#clip570)\" d=\"M194.676 214.662 Q191.065 214.662 189.237 218.227 Q187.431 221.768 187.431 228.898 Q187.431 236.004 189.237 239.569 Q191.065 243.111 194.676 243.111 Q198.311 243.111 200.116 239.569 Q201.945 236.004 201.945 228.898 Q201.945 221.768 200.116 218.227 Q198.311 214.662 194.676 214.662 M194.676 210.958 Q200.487 210.958 203.542 215.565 Q206.621 220.148 206.621 228.898 Q206.621 237.625 203.542 242.231 Q200.487 246.814 194.676 246.814 Q188.866 246.814 185.788 242.231 Q182.732 237.625 182.732 228.898 Q182.732 220.148 185.788 215.565 Q188.866 210.958 194.676 210.958 Z\" fill=\"#000000\" fill-rule=\"evenodd\" fill-opacity=\"1\" /><path clip-path=\"url(#clip570)\" d=\"M44.7161 851.083 L47.5806 851.083 L47.5806 878.01 Q53.6281 877.628 56.8109 874.382 Q59.9619 871.103 59.9619 865.279 Q59.9619 861.905 59.1344 858.754 Q58.3069 855.571 56.6518 852.452 L62.1899 852.452 Q63.5267 855.603 64.227 858.913 Q64.9272 862.223 64.9272 865.629 Q64.9272 874.159 59.9619 879.156 Q54.9967 884.121 46.5303 884.121 Q37.7774 884.121 32.6531 879.41 Q27.4968 874.668 27.4968 866.647 Q27.4968 859.454 32.1438 855.284 Q36.7589 851.083 44.7161 851.083 M42.9973 856.94 Q38.1912 857.003 35.3266 859.645 Q32.4621 862.255 32.4621 866.584 Q32.4621 871.485 35.2312 874.445 Q38.0002 877.373 43.0292 877.819 L42.9973 856.94 Z\" fill=\"#000000\" fill-rule=\"evenodd\" fill-opacity=\"1\" /><path clip-path=\"url(#clip570)\" d=\"M42.4881 811.839 L64.0042 811.839 L64.0042 817.695 L42.679 817.695 Q37.6183 817.695 35.1038 819.668 Q32.5894 821.642 32.5894 825.588 Q32.5894 830.331 35.6131 833.068 Q38.6368 835.805 43.8567 835.805 L64.0042 835.805 L64.0042 841.694 L28.3562 841.694 L28.3562 835.805 L33.8944 835.805 Q30.6797 833.705 29.0883 830.872 Q27.4968 828.007 27.4968 824.283 Q27.4968 818.141 31.3163 814.99 Q35.1038 811.839 42.4881 811.839 Z\" fill=\"#000000\" fill-rule=\"evenodd\" fill-opacity=\"1\" /><path clip-path=\"url(#clip570)\" d=\"M44.7161 769.666 L47.5806 769.666 L47.5806 796.593 Q53.6281 796.211 56.8109 792.964 Q59.9619 789.686 59.9619 783.861 Q59.9619 780.487 59.1344 777.336 Q58.3069 774.154 56.6518 771.034 L62.1899 771.034 Q63.5267 774.185 64.227 777.496 Q64.9272 780.806 64.9272 784.211 Q64.9272 792.741 59.9619 797.738 Q54.9967 802.704 46.5303 802.704 Q37.7774 802.704 32.6531 797.993 Q27.4968 793.251 27.4968 785.23 Q27.4968 778.037 32.1438 773.867 Q36.7589 769.666 44.7161 769.666 M42.9973 775.522 Q38.1912 775.586 35.3266 778.228 Q32.4621 780.838 32.4621 785.166 Q32.4621 790.068 35.2312 793.028 Q38.0002 795.956 43.0292 796.402 L42.9973 775.522 Z\" fill=\"#000000\" fill-rule=\"evenodd\" fill-opacity=\"1\" /><path clip-path=\"url(#clip570)\" d=\"M33.8307 739.397 Q33.2578 740.383 33.0032 741.561 Q32.7167 742.707 32.7167 744.107 Q32.7167 749.073 35.9632 751.746 Q39.1779 754.388 45.2253 754.388 L64.0042 754.388 L64.0042 760.276 L28.3562 760.276 L28.3562 754.388 L33.8944 754.388 Q30.6479 752.542 29.0883 749.582 Q27.4968 746.622 27.4968 742.389 Q27.4968 741.784 27.5923 741.052 Q27.656 740.32 27.8151 739.429 L33.8307 739.397 Z\" fill=\"#000000\" fill-rule=\"evenodd\" fill-opacity=\"1\" /><path clip-path=\"url(#clip570)\" d=\"M45.7664 710.942 Q39.4007 710.942 35.8996 713.584 Q32.3984 716.194 32.3984 720.936 Q32.3984 725.647 35.8996 728.289 Q39.4007 730.899 45.7664 730.899 Q52.1003 730.899 55.6014 728.289 Q59.1026 725.647 59.1026 720.936 Q59.1026 716.194 55.6014 713.584 Q52.1003 710.942 45.7664 710.942 M59.58 705.086 Q68.683 705.086 73.1071 709.128 Q77.5631 713.17 77.5631 721.509 Q77.5631 724.596 77.0857 727.334 Q76.6401 730.071 75.6852 732.649 L69.9879 732.649 Q71.3884 730.071 72.0568 727.557 Q72.7252 725.042 72.7252 722.432 Q72.7252 716.671 69.7015 713.807 Q66.7096 710.942 60.6303 710.942 L57.7339 710.942 Q60.885 712.756 62.4446 715.589 Q64.0042 718.422 64.0042 722.369 Q64.0042 728.925 59.0071 732.936 Q54.01 736.946 45.7664 736.946 Q37.491 736.946 32.4939 732.936 Q27.4968 728.925 27.4968 722.369 Q27.4968 718.422 29.0564 715.589 Q30.616 712.756 33.7671 710.942 L28.3562 710.942 L28.3562 705.086 L59.58 705.086 Z\" fill=\"#000000\" fill-rule=\"evenodd\" fill-opacity=\"1\" /><path clip-path=\"url(#clip570)\" d=\"M67.3143 678.19 Q73.68 680.673 75.6216 683.028 Q77.5631 685.384 77.5631 689.33 L77.5631 694.009 L72.6615 694.009 L72.6615 690.572 Q72.6615 688.153 71.5157 686.816 Q70.3699 685.479 66.1048 683.856 L63.4312 682.806 L28.3562 697.224 L28.3562 691.017 L56.238 679.877 L28.3562 668.737 L28.3562 662.531 L67.3143 678.19 Z\" fill=\"#000000\" fill-rule=\"evenodd\" fill-opacity=\"1\" /><path clip-path=\"url(#clip570)\" d=\"M895.15 12.096 L903.373 12.096 L903.373 48.8377 Q903.373 58.5599 906.898 62.8538 Q910.422 67.1073 918.321 67.1073 Q926.18 67.1073 929.704 62.8538 Q933.228 58.5599 933.228 48.8377 L933.228 12.096 L941.452 12.096 L941.452 49.8504 Q941.452 61.6791 935.578 67.7149 Q929.745 73.7508 918.321 73.7508 Q906.857 73.7508 900.983 67.7149 Q895.15 61.6791 895.15 49.8504 L895.15 12.096 Z\" fill=\"#000000\" fill-rule=\"evenodd\" fill-opacity=\"1\" /><path clip-path=\"url(#clip570)\" d=\"M977.505 27.2059 L985.404 27.2059 L999.582 65.2844 L1013.76 27.2059 L1021.66 27.2059 L1004.65 72.576 L994.519 72.576 L977.505 27.2059 Z\" fill=\"#000000\" fill-rule=\"evenodd\" fill-opacity=\"1\" /><path clip-path=\"url(#clip570)\" d=\"M1060.87 28.5427 L1060.87 35.5912 Q1057.71 33.9709 1054.31 33.1607 Q1050.91 32.3505 1047.26 32.3505 Q1041.71 32.3505 1038.92 34.0519 Q1036.16 35.7533 1036.16 39.156 Q1036.16 41.7486 1038.15 43.2475 Q1040.13 44.7058 1046.13 46.0426 L1048.68 46.6097 Q1056.62 48.3111 1059.94 51.4303 Q1063.3 54.509 1063.3 60.0587 Q1063.3 66.3781 1058.28 70.0644 Q1053.3 73.7508 1044.55 73.7508 Q1040.9 73.7508 1036.93 73.0216 Q1033 72.3329 1028.63 70.9151 L1028.63 63.2184 Q1032.76 65.3654 1036.77 66.4591 Q1040.78 67.5124 1044.71 67.5124 Q1049.98 67.5124 1052.81 65.73 Q1055.65 63.9071 1055.65 60.6258 Q1055.65 57.5877 1053.58 55.9673 Q1051.56 54.3469 1044.63 52.8481 L1042.04 52.2405 Q1035.11 50.7821 1032.03 47.7845 Q1028.95 44.7463 1028.95 39.4801 Q1028.95 33.0797 1033.49 29.5959 Q1038.03 26.1121 1046.37 26.1121 Q1050.5 26.1121 1054.15 26.7198 Q1057.79 27.3274 1060.87 28.5427 Z\" fill=\"#000000\" fill-rule=\"evenodd\" fill-opacity=\"1\" /><path clip-path=\"url(#clip570)\" d=\"M1131.4 49.3643 Q1131.4 41.2625 1128.04 36.8065 Q1124.71 32.3505 1118.68 32.3505 Q1112.68 32.3505 1109.32 36.8065 Q1106 41.2625 1106 49.3643 Q1106 57.4256 1109.32 61.8816 Q1112.68 66.3376 1118.68 66.3376 Q1124.71 66.3376 1128.04 61.8816 Q1131.4 57.4256 1131.4 49.3643 M1138.85 66.9452 Q1138.85 78.5308 1133.71 84.1616 Q1128.56 89.8329 1117.95 89.8329 Q1114.02 89.8329 1110.54 89.2252 Q1107.05 88.6581 1103.77 87.4428 L1103.77 80.1917 Q1107.05 81.9741 1110.25 82.8248 Q1113.45 83.6755 1116.77 83.6755 Q1124.11 83.6755 1127.75 79.8271 Q1131.4 76.0193 1131.4 68.282 L1131.4 64.5957 Q1129.09 68.6061 1125.48 70.5911 Q1121.88 72.576 1116.86 72.576 Q1108.51 72.576 1103.41 66.2161 Q1098.3 59.8562 1098.3 49.3643 Q1098.3 38.832 1103.41 32.472 Q1108.51 26.1121 1116.86 26.1121 Q1121.88 26.1121 1125.48 28.0971 Q1129.09 30.082 1131.4 34.0924 L1131.4 27.2059 L1138.85 27.2059 L1138.85 66.9452 Z\" fill=\"#000000\" fill-rule=\"evenodd\" fill-opacity=\"1\" /><path clip-path=\"url(#clip570)\" d=\"M1180.5 34.1734 Q1179.24 33.4443 1177.74 33.1202 Q1176.28 32.7556 1174.5 32.7556 Q1168.18 32.7556 1164.78 36.8875 Q1161.42 40.9789 1161.42 48.6757 L1161.42 72.576 L1153.92 72.576 L1153.92 27.2059 L1161.42 27.2059 L1161.42 34.2544 Q1163.77 30.1225 1167.53 28.1376 Q1171.3 26.1121 1176.69 26.1121 Q1177.46 26.1121 1178.39 26.2337 Q1179.32 26.3147 1180.46 26.5172 L1180.5 34.1734 Z\" fill=\"#000000\" fill-rule=\"evenodd\" fill-opacity=\"1\" /><path clip-path=\"url(#clip570)\" d=\"M1204.07 32.4315 Q1198.08 32.4315 1194.59 37.1306 Q1191.11 41.7891 1191.11 49.9314 Q1191.11 58.0738 1194.55 62.7728 Q1198.04 67.4314 1204.07 67.4314 Q1210.03 67.4314 1213.51 62.7323 Q1216.99 58.0333 1216.99 49.9314 Q1216.99 41.8701 1213.51 37.1711 Q1210.03 32.4315 1204.07 32.4315 M1204.07 26.1121 Q1213.79 26.1121 1219.34 32.4315 Q1224.89 38.7509 1224.89 49.9314 Q1224.89 61.0714 1219.34 67.4314 Q1213.79 73.7508 1204.07 73.7508 Q1194.31 73.7508 1188.76 67.4314 Q1183.25 61.0714 1183.25 49.9314 Q1183.25 38.7509 1188.76 32.4315 Q1194.31 26.1121 1204.07 26.1121 Z\" fill=\"#000000\" fill-rule=\"evenodd\" fill-opacity=\"1\" /><path clip-path=\"url(#clip570)\" d=\"M1236.48 54.671 L1236.48 27.2059 L1243.93 27.2059 L1243.93 54.3874 Q1243.93 60.8284 1246.44 64.0691 Q1248.96 67.2693 1253.98 67.2693 Q1260.01 67.2693 1263.5 63.421 Q1267.02 59.5726 1267.02 52.9291 L1267.02 27.2059 L1274.48 27.2059 L1274.48 72.576 L1267.02 72.576 L1267.02 65.6084 Q1264.31 69.7404 1260.7 71.7658 Q1257.14 73.7508 1252.4 73.7508 Q1244.58 73.7508 1240.53 68.8897 Q1236.48 64.0286 1236.48 54.671 M1255.23 26.1121 L1255.23 26.1121 Z\" fill=\"#000000\" fill-rule=\"evenodd\" fill-opacity=\"1\" /><path clip-path=\"url(#clip570)\" d=\"M1327.54 45.1919 L1327.54 72.576 L1320.09 72.576 L1320.09 45.4349 Q1320.09 38.994 1317.58 35.7938 Q1315.07 32.5936 1310.04 32.5936 Q1304.01 32.5936 1300.52 36.4419 Q1297.04 40.2903 1297.04 46.9338 L1297.04 72.576 L1289.55 72.576 L1289.55 27.2059 L1297.04 27.2059 L1297.04 34.2544 Q1299.71 30.163 1303.32 28.1376 Q1306.96 26.1121 1311.7 26.1121 Q1319.52 26.1121 1323.53 30.9732 Q1327.54 35.7938 1327.54 45.1919 Z\" fill=\"#000000\" fill-rule=\"evenodd\" fill-opacity=\"1\" /><path clip-path=\"url(#clip570)\" d=\"M1372.27 34.0924 L1372.27 9.54393 L1379.72 9.54393 L1379.72 72.576 L1372.27 72.576 L1372.27 65.7705 Q1369.92 69.8214 1366.31 71.8063 Q1362.75 73.7508 1357.72 73.7508 Q1349.5 73.7508 1344.31 67.1883 Q1339.17 60.6258 1339.17 49.9314 Q1339.17 39.2371 1344.31 32.6746 Q1349.5 26.1121 1357.72 26.1121 Q1362.75 26.1121 1366.31 28.0971 Q1369.92 30.0415 1372.27 34.0924 M1346.87 49.9314 Q1346.87 58.1548 1350.23 62.8538 Q1353.63 67.5124 1359.55 67.5124 Q1365.46 67.5124 1368.86 62.8538 Q1372.27 58.1548 1372.27 49.9314 Q1372.27 41.7081 1368.86 37.0496 Q1365.46 32.3505 1359.55 32.3505 Q1353.63 32.3505 1350.23 37.0496 Q1346.87 41.7081 1346.87 49.9314 Z\" fill=\"#000000\" fill-rule=\"evenodd\" fill-opacity=\"1\" /><path clip-path=\"url(#clip570)\" d=\"M1460.25 48.0275 L1460.25 51.6733 L1425.98 51.6733 Q1426.47 59.3701 1430.6 63.421 Q1434.77 67.4314 1442.18 67.4314 Q1446.48 67.4314 1450.49 66.3781 Q1454.54 65.3249 1458.51 63.2184 L1458.51 70.267 Q1454.5 71.9684 1450.29 72.8596 Q1446.07 73.7508 1441.74 73.7508 Q1430.88 73.7508 1424.52 67.4314 Q1418.2 61.1119 1418.2 50.3365 Q1418.2 39.1965 1424.2 32.6746 Q1430.23 26.1121 1440.44 26.1121 Q1449.6 26.1121 1454.9 32.0264 Q1460.25 37.9003 1460.25 48.0275 M1452.8 45.84 Q1452.72 39.7232 1449.35 36.0774 Q1446.03 32.4315 1440.52 32.4315 Q1434.28 32.4315 1430.52 35.9558 Q1426.79 39.4801 1426.22 45.8805 L1452.8 45.84 Z\" fill=\"#000000\" fill-rule=\"evenodd\" fill-opacity=\"1\" /><path clip-path=\"url(#clip570)\" d=\"M1510.2 45.1919 L1510.2 72.576 L1502.75 72.576 L1502.75 45.4349 Q1502.75 38.994 1500.23 35.7938 Q1497.72 32.5936 1492.7 32.5936 Q1486.66 32.5936 1483.18 36.4419 Q1479.7 40.2903 1479.7 46.9338 L1479.7 72.576 L1472.2 72.576 L1472.2 27.2059 L1479.7 27.2059 L1479.7 34.2544 Q1482.37 30.163 1485.97 28.1376 Q1489.62 26.1121 1494.36 26.1121 Q1502.18 26.1121 1506.19 30.9732 Q1510.2 35.7938 1510.2 45.1919 Z\" fill=\"#000000\" fill-rule=\"evenodd\" fill-opacity=\"1\" /><path clip-path=\"url(#clip570)\" d=\"M1563.87 48.0275 L1563.87 51.6733 L1529.6 51.6733 Q1530.09 59.3701 1534.22 63.421 Q1538.39 67.4314 1545.81 67.4314 Q1550.1 67.4314 1554.11 66.3781 Q1558.16 65.3249 1562.13 63.2184 L1562.13 70.267 Q1558.12 71.9684 1553.91 72.8596 Q1549.7 73.7508 1545.36 73.7508 Q1534.5 73.7508 1528.14 67.4314 Q1521.82 61.1119 1521.82 50.3365 Q1521.82 39.1965 1527.82 32.6746 Q1533.86 26.1121 1544.06 26.1121 Q1553.22 26.1121 1558.53 32.0264 Q1563.87 37.9003 1563.87 48.0275 M1556.42 45.84 Q1556.34 39.7232 1552.98 36.0774 Q1549.65 32.4315 1544.15 32.4315 Q1537.91 32.4315 1534.14 35.9558 Q1530.41 39.4801 1529.85 45.8805 L1556.42 45.84 Z\" fill=\"#000000\" fill-rule=\"evenodd\" fill-opacity=\"1\" /><path clip-path=\"url(#clip570)\" d=\"M1602.4 34.1734 Q1601.14 33.4443 1599.64 33.1202 Q1598.18 32.7556 1596.4 32.7556 Q1590.08 32.7556 1586.68 36.8875 Q1583.32 40.9789 1583.32 48.6757 L1583.32 72.576 L1575.82 72.576 L1575.82 27.2059 L1583.32 27.2059 L1583.32 34.2544 Q1585.67 30.1225 1589.43 28.1376 Q1593.2 26.1121 1598.59 26.1121 Q1599.36 26.1121 1600.29 26.2337 Q1601.22 26.3147 1602.36 26.5172 L1602.4 34.1734 Z\" fill=\"#000000\" fill-rule=\"evenodd\" fill-opacity=\"1\" /><path clip-path=\"url(#clip570)\" d=\"M1638.61 49.3643 Q1638.61 41.2625 1635.25 36.8065 Q1631.93 32.3505 1625.89 32.3505 Q1619.9 32.3505 1616.54 36.8065 Q1613.21 41.2625 1613.21 49.3643 Q1613.21 57.4256 1616.54 61.8816 Q1619.9 66.3376 1625.89 66.3376 Q1631.93 66.3376 1635.25 61.8816 Q1638.61 57.4256 1638.61 49.3643 M1646.07 66.9452 Q1646.07 78.5308 1640.92 84.1616 Q1635.78 89.8329 1625.16 89.8329 Q1621.23 89.8329 1617.75 89.2252 Q1614.27 88.6581 1610.99 87.4428 L1610.99 80.1917 Q1614.27 81.9741 1617.47 82.8248 Q1620.67 83.6755 1623.99 83.6755 Q1631.32 83.6755 1634.97 79.8271 Q1638.61 76.0193 1638.61 68.282 L1638.61 64.5957 Q1636.3 68.6061 1632.7 70.5911 Q1629.09 72.576 1624.07 72.576 Q1615.72 72.576 1610.62 66.2161 Q1605.52 59.8562 1605.52 49.3643 Q1605.52 38.832 1610.62 32.472 Q1615.72 26.1121 1624.07 26.1121 Q1629.09 26.1121 1632.7 28.0971 Q1636.3 30.082 1638.61 34.0924 L1638.61 27.2059 L1646.07 27.2059 L1646.07 66.9452 Z\" fill=\"#000000\" fill-rule=\"evenodd\" fill-opacity=\"1\" /><path clip-path=\"url(#clip570)\" d=\"M1680.3 76.7889 Q1677.14 84.8907 1674.14 87.3618 Q1671.14 89.8329 1666.12 89.8329 L1660.16 89.8329 L1660.16 83.5945 L1664.54 83.5945 Q1667.62 83.5945 1669.32 82.1361 Q1671.02 80.6778 1673.09 75.2496 L1674.42 71.8468 L1656.07 27.2059 L1663.97 27.2059 L1678.15 62.6918 L1692.33 27.2059 L1700.23 27.2059 L1680.3 76.7889 Z\" fill=\"#000000\" fill-rule=\"evenodd\" fill-opacity=\"1\" /><circle clip-path=\"url(#clip572)\" cx=\"302.342\" cy=\"1386.4\" r=\"14\" fill=\"#009af9\" fill-rule=\"evenodd\" fill-opacity=\"1\" stroke=\"#000000\" stroke-opacity=\"1\" stroke-width=\"3.2\"/>\n<circle clip-path=\"url(#clip572)\" cx=\"370.986\" cy=\"1335.6\" r=\"14\" fill=\"#009af9\" fill-rule=\"evenodd\" fill-opacity=\"1\" stroke=\"#000000\" stroke-opacity=\"1\" stroke-width=\"3.2\"/>\n<circle clip-path=\"url(#clip572)\" cx=\"439.631\" cy=\"1285.44\" r=\"14\" fill=\"#009af9\" fill-rule=\"evenodd\" fill-opacity=\"1\" stroke=\"#000000\" stroke-opacity=\"1\" stroke-width=\"3.2\"/>\n<circle clip-path=\"url(#clip572)\" cx=\"508.275\" cy=\"1235.91\" r=\"14\" fill=\"#009af9\" fill-rule=\"evenodd\" fill-opacity=\"1\" stroke=\"#000000\" stroke-opacity=\"1\" stroke-width=\"3.2\"/>\n<circle clip-path=\"url(#clip572)\" cx=\"576.92\" cy=\"1187.01\" r=\"14\" fill=\"#009af9\" fill-rule=\"evenodd\" fill-opacity=\"1\" stroke=\"#000000\" stroke-opacity=\"1\" stroke-width=\"3.2\"/>\n<circle clip-path=\"url(#clip572)\" cx=\"645.565\" cy=\"1138.73\" r=\"14\" fill=\"#009af9\" fill-rule=\"evenodd\" fill-opacity=\"1\" stroke=\"#000000\" stroke-opacity=\"1\" stroke-width=\"3.2\"/>\n<circle clip-path=\"url(#clip572)\" cx=\"714.209\" cy=\"1091.07\" r=\"14\" fill=\"#009af9\" fill-rule=\"evenodd\" fill-opacity=\"1\" stroke=\"#000000\" stroke-opacity=\"1\" stroke-width=\"3.2\"/>\n<circle clip-path=\"url(#clip572)\" cx=\"782.854\" cy=\"1044.01\" r=\"14\" fill=\"#009af9\" fill-rule=\"evenodd\" fill-opacity=\"1\" stroke=\"#000000\" stroke-opacity=\"1\" stroke-width=\"3.2\"/>\n<circle clip-path=\"url(#clip572)\" cx=\"851.498\" cy=\"997.561\" r=\"14\" fill=\"#009af9\" fill-rule=\"evenodd\" fill-opacity=\"1\" stroke=\"#000000\" stroke-opacity=\"1\" stroke-width=\"3.2\"/>\n<circle clip-path=\"url(#clip572)\" cx=\"920.143\" cy=\"951.714\" r=\"14\" fill=\"#009af9\" fill-rule=\"evenodd\" fill-opacity=\"1\" stroke=\"#000000\" stroke-opacity=\"1\" stroke-width=\"3.2\"/>\n<circle clip-path=\"url(#clip572)\" cx=\"988.788\" cy=\"906.466\" r=\"14\" fill=\"#009af9\" fill-rule=\"evenodd\" fill-opacity=\"1\" stroke=\"#000000\" stroke-opacity=\"1\" stroke-width=\"3.2\"/>\n<circle clip-path=\"url(#clip572)\" cx=\"1057.43\" cy=\"861.815\" r=\"14\" fill=\"#009af9\" fill-rule=\"evenodd\" fill-opacity=\"1\" stroke=\"#000000\" stroke-opacity=\"1\" stroke-width=\"3.2\"/>\n<circle clip-path=\"url(#clip572)\" cx=\"1126.08\" cy=\"817.758\" r=\"14\" fill=\"#009af9\" fill-rule=\"evenodd\" fill-opacity=\"1\" stroke=\"#000000\" stroke-opacity=\"1\" stroke-width=\"3.2\"/>\n<circle clip-path=\"url(#clip572)\" cx=\"1194.72\" cy=\"774.294\" r=\"14\" fill=\"#009af9\" fill-rule=\"evenodd\" fill-opacity=\"1\" stroke=\"#000000\" stroke-opacity=\"1\" stroke-width=\"3.2\"/>\n<circle clip-path=\"url(#clip572)\" cx=\"1263.37\" cy=\"731.422\" r=\"14\" fill=\"#009af9\" fill-rule=\"evenodd\" fill-opacity=\"1\" stroke=\"#000000\" stroke-opacity=\"1\" stroke-width=\"3.2\"/>\n<circle clip-path=\"url(#clip572)\" cx=\"1332.01\" cy=\"689.142\" r=\"14\" fill=\"#009af9\" fill-rule=\"evenodd\" fill-opacity=\"1\" stroke=\"#000000\" stroke-opacity=\"1\" stroke-width=\"3.2\"/>\n<circle clip-path=\"url(#clip572)\" cx=\"1400.66\" cy=\"647.452\" r=\"14\" fill=\"#009af9\" fill-rule=\"evenodd\" fill-opacity=\"1\" stroke=\"#000000\" stroke-opacity=\"1\" stroke-width=\"3.2\"/>\n<circle clip-path=\"url(#clip572)\" cx=\"1469.3\" cy=\"606.355\" r=\"14\" fill=\"#009af9\" fill-rule=\"evenodd\" fill-opacity=\"1\" stroke=\"#000000\" stroke-opacity=\"1\" stroke-width=\"3.2\"/>\n<circle clip-path=\"url(#clip572)\" cx=\"1537.94\" cy=\"565.85\" r=\"14\" fill=\"#009af9\" fill-rule=\"evenodd\" fill-opacity=\"1\" stroke=\"#000000\" stroke-opacity=\"1\" stroke-width=\"3.2\"/>\n<circle clip-path=\"url(#clip572)\" cx=\"1606.59\" cy=\"525.94\" r=\"14\" fill=\"#009af9\" fill-rule=\"evenodd\" fill-opacity=\"1\" stroke=\"#000000\" stroke-opacity=\"1\" stroke-width=\"3.2\"/>\n<circle clip-path=\"url(#clip572)\" cx=\"1675.23\" cy=\"486.626\" r=\"14\" fill=\"#009af9\" fill-rule=\"evenodd\" fill-opacity=\"1\" stroke=\"#000000\" stroke-opacity=\"1\" stroke-width=\"3.2\"/>\n<circle clip-path=\"url(#clip572)\" cx=\"1743.88\" cy=\"447.912\" r=\"14\" fill=\"#009af9\" fill-rule=\"evenodd\" fill-opacity=\"1\" stroke=\"#000000\" stroke-opacity=\"1\" stroke-width=\"3.2\"/>\n<circle clip-path=\"url(#clip572)\" cx=\"1812.52\" cy=\"409.8\" r=\"14\" fill=\"#009af9\" fill-rule=\"evenodd\" fill-opacity=\"1\" stroke=\"#000000\" stroke-opacity=\"1\" stroke-width=\"3.2\"/>\n<circle clip-path=\"url(#clip572)\" cx=\"1881.17\" cy=\"372.295\" r=\"14\" fill=\"#009af9\" fill-rule=\"evenodd\" fill-opacity=\"1\" stroke=\"#000000\" stroke-opacity=\"1\" stroke-width=\"3.2\"/>\n<circle clip-path=\"url(#clip572)\" cx=\"1949.81\" cy=\"335.399\" r=\"14\" fill=\"#009af9\" fill-rule=\"evenodd\" fill-opacity=\"1\" stroke=\"#000000\" stroke-opacity=\"1\" stroke-width=\"3.2\"/>\n<circle clip-path=\"url(#clip572)\" cx=\"2018.46\" cy=\"299.119\" r=\"14\" fill=\"#009af9\" fill-rule=\"evenodd\" fill-opacity=\"1\" stroke=\"#000000\" stroke-opacity=\"1\" stroke-width=\"3.2\"/>\n<circle clip-path=\"url(#clip572)\" cx=\"2087.1\" cy=\"263.459\" r=\"14\" fill=\"#009af9\" fill-rule=\"evenodd\" fill-opacity=\"1\" stroke=\"#000000\" stroke-opacity=\"1\" stroke-width=\"3.2\"/>\n<circle clip-path=\"url(#clip572)\" cx=\"2155.75\" cy=\"228.424\" r=\"14\" fill=\"#009af9\" fill-rule=\"evenodd\" fill-opacity=\"1\" stroke=\"#000000\" stroke-opacity=\"1\" stroke-width=\"3.2\"/>\n<circle clip-path=\"url(#clip572)\" cx=\"2224.39\" cy=\"194.021\" r=\"14\" fill=\"#009af9\" fill-rule=\"evenodd\" fill-opacity=\"1\" stroke=\"#000000\" stroke-opacity=\"1\" stroke-width=\"3.2\"/>\n<circle clip-path=\"url(#clip572)\" cx=\"2293.04\" cy=\"160.256\" r=\"14\" fill=\"#009af9\" fill-rule=\"evenodd\" fill-opacity=\"1\" stroke=\"#000000\" stroke-opacity=\"1\" stroke-width=\"3.2\"/>\n</svg>\n"
     },
     "metadata": {}
    },
    {
     "output_type": "stream",
     "name": "stdout",
     "text": [
      "elapsed_time is 310781 milliseconds.\n"
     ]
    }
   ],
   "metadata": {}
  }
 ],
 "metadata": {
  "orig_nbformat": 4,
  "language_info": {
   "file_extension": ".jl",
   "name": "julia",
   "mimetype": "application/julia",
   "version": "1.6.1"
  },
  "kernelspec": {
   "name": "julia-1.6",
   "display_name": "Julia 1.6.1",
   "language": "julia"
  }
 },
 "nbformat": 4,
 "nbformat_minor": 2
}