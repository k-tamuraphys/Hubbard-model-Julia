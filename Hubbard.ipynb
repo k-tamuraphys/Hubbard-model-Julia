{
 "cells": [
  {
   "cell_type": "markdown",
   "source": [
    "## **線形代数パッケージなどを読み込む**"
   ],
   "metadata": {}
  },
  {
   "cell_type": "code",
   "execution_count": 1,
   "source": [
    "using LinearAlgebra #線形代数パッケージ\n",
    "using Combinatorics #組み合わせ順列を扱うパッケージ\n",
    "using SparseArrays #疎行列を扱うパッケージ\n",
    "using Arpack #大規模な固有値問題のためのパッケージ"
   ],
   "outputs": [],
   "metadata": {}
  },
  {
   "cell_type": "markdown",
   "source": [
    "## **Pauli 行列**"
   ],
   "metadata": {}
  },
  {
   "cell_type": "code",
   "execution_count": 2,
   "source": [
    "const σ⁰ = [\n",
    "    1.0 0.0\n",
    "    0.0 1.0\n",
    "];\n",
    "\n",
    "const σ¹ = [\n",
    "    0.0 1.0\n",
    "    1.0 0.0\n",
    "];\n",
    "\n",
    "const σ² = [\n",
    "    0.0 -1.0im\n",
    "    1.0im 0.0\n",
    "];\n",
    "\n",
    "const σ³ = [\n",
    "    1.0 0.0\n",
    "    0.0 -1.0\n",
    "];\n",
    "\n",
    "const σ⁺ = [\n",
    "    0.0 1.0\n",
    "    0.0 0.0\n",
    "];\n",
    "\n",
    "const σ⁻ = [\n",
    "    0.0 0.0\n",
    "    1.0 0.0\n",
    "];"
   ],
   "outputs": [],
   "metadata": {}
  },
  {
   "cell_type": "markdown",
   "source": [
    "## **Jordan-Wigner 変換**"
   ],
   "metadata": {}
  },
  {
   "cell_type": "markdown",
   "source": [
    "$$\n",
    "\\begin{align*}\n",
    "c_k = (-\\sigma^3_1) \\otimes (-\\sigma^3_2) \\otimes \\cdots \\otimes (-\\sigma^3_{k-1}) \\otimes \\sigma^-_k \\otimes \\sigma^0_{k+1} \\otimes \\cdots \\otimes \\sigma^0_{N} \n",
    "\\end{align*}\n",
    "$$\n",
    "具体的な行列要素は\n",
    "$$\n",
    "\\begin{align*}\n",
    "(c_k)_{(i_1, \\dots, i_N), (j_1, \\dots, j_N)} = (-1)^{k-1} (-1)^{i_1 + i_2 + \\cdots + i_{k-1}} \\delta_{(i_1, \\dots, i_{k-1}), (j_1, \\dots, j_{k-1})} \\delta_{(i_{k+1}, \\dots, i_N), (j_{k+1}, \\dots, j_N)} \\delta_{i_k, 1} \\delta_{j_k, 0}\n",
    "\\end{align*}\n",
    "$$\n",
    "で与えられる。ただし 添字は$i = 0, 1$を取るものとする。"
   ],
   "metadata": {}
  },
  {
   "cell_type": "code",
   "execution_count": 3,
   "source": [
    "function JordanWigner(num_sites::Integer, index::Integer)::Array{Real, 2}\n",
    "    \"\"\"\n",
    "    Args:\n",
    "        num_sites (Integer): the number of lattice sites\n",
    "        index (Integer): lattice index\n",
    "    Returns:\n",
    "        Array{Float64, 2}\n",
    "    \"\"\"\n",
    "    pauli_strings = [-σ³ for i in 1:index-1]\n",
    "    append!(pauli_strings, [σ⁻]) # ! は破壊的処理(pythonで言うところの in_place = True) を意味する\n",
    "    append!(pauli_strings, [σ⁰ for i in index+1:num_sites])\n",
    "    return kron(pauli_strings...)\n",
    "end;\n",
    "\n",
    "function cop(num_modes::Integer, index::Integer)\n",
    "    \"\"\"\n",
    "    Args:\n",
    "        num_modes (Integer): the number of fermionic modes\n",
    "        index (Integer): index for mode\n",
    "    Returns:\n",
    "        Array{Float64, 2}\n",
    "    \"\"\"\n",
    "    dim = 2^num_modes\n",
    "    cop_mat = spzeros(dim, dim) #ゼロで初期化\n",
    "    base = reverse([2^i for i in 0:num_modes-1])\n",
    "    for binary_str in Iterators.product(collect(Iterators.repeated([0 1], num_modes-1))...)\n",
    "        binary_list = collect(binary_str)\n",
    "        insert!(binary_list, index, 1) # [i_1 ... i_k=1 ... i_N]という Array の作成\n",
    "        ind_left = dot(binary_list, base) + 1 # ２進数表記から整数へ変換(1から始まることに注意)\n",
    "        binary_list[index] = 0 # [i_1 ... i_k=0 ... i_N] という Array の作成\n",
    "        ind_right = dot(binary_list, base) + 1 # ２進数表記から整数へ変換(1から始まることに注意)\n",
    "        sgn = sum(binary_list[1:index-1]) + index - 1 \n",
    "        cop_mat[ind_left, ind_right] = (-1)^sgn　# 行列要素を代入\n",
    "    end\n",
    "\n",
    "    return cop_mat\n",
    "end;\n",
    "\n",
    "function cdg(num_modes::Integer, index::Integer)\n",
    "    return cop(num_modes, index)'\n",
    "end;\n",
    "\n",
    "function nop(num_modes::Integer, index::Integer)\n",
    "    return cdg(num_modes, index)*cop(num_modes, index)\n",
    "end;"
   ],
   "outputs": [],
   "metadata": {}
  },
  {
   "cell_type": "markdown",
   "source": [
    "## 粒子数セクターを取り出すための関数"
   ],
   "metadata": {}
  },
  {
   "cell_type": "code",
   "execution_count": 4,
   "source": [
    "function get_index_from_ns(nlist::Array, num_sites::Integer)::Array{Integer, 1} #２進数表記した時に0の個数がnlistになるような整数のリストを返す\n",
    "    \"\"\"\n",
    "    Args:\n",
    "        nlist (Array): the number of sites per each internal degrees of freedom\n",
    "        num_sites (Integer): the number of sites\n",
    "    Returns:\n",
    "        Array{Integer, 1}: list of indices\n",
    "    Example:\n",
    "        nlist=[2, 1], num_sites = 3 の時\n",
    "        nlist[1] = 2 に対応する bitstring は [0, 0, 1], [0, 1, 0], [1, 0, 0]\n",
    "        nlist[2] = 1 に対応する bitstring は [0, 1, 1], [1, 0, 1], [1, 1, 0]\n",
    "        これらを交互に要素が並ぶように連結し、10進数の整数に変換:\n",
    "        [0, 0, 1] + [0, 1, 1] = [0, 0, 0, 1, 1, 1] -> 7\n",
    "    \"\"\"\n",
    "    l = size(nlist)[1]\n",
    "    num_strings = l*num_sites\n",
    "    base = reverse([2^i for i in 0:num_strings-1])\n",
    "    binary_array = Array{Any}(nothing, l)\n",
    "    for s in 1:l\n",
    "        seed_vector = ones(Integer, num_sites)\n",
    "        for i in 1:nlist[s]\n",
    "            seed_vector[i] = 0\n",
    "        end\n",
    "        binary_array[s] = unique(permutations(seed_vector)) \n",
    "    end\n",
    "    return_array = Integer[]\n",
    "    for n_set in collect(Iterators.product(binary_array...))\n",
    "        h = hcat(n_set...)'\n",
    "        h = collect(Base.Flatten(h))\n",
    "        append!(return_array, dot(h, base))\n",
    "    end\n",
    "    return return_array\n",
    "end;"
   ],
   "outputs": [],
   "metadata": {}
  },
  {
   "cell_type": "code",
   "execution_count": 5,
   "source": [
    "get_index_from_ns([2, 1], 3)"
   ],
   "outputs": [
    {
     "output_type": "execute_result",
     "data": {
      "text/plain": [
       "9-element Vector{Integer}:\n",
       "  7\n",
       " 13\n",
       " 37\n",
       " 19\n",
       " 25\n",
       " 49\n",
       " 22\n",
       " 28\n",
       " 52"
      ]
     },
     "metadata": {},
     "execution_count": 5
    }
   ],
   "metadata": {}
  },
  {
   "cell_type": "markdown",
   "source": [
    "## **1次元鎖上の Fermi-Hubbard 模型**"
   ],
   "metadata": {}
  },
  {
   "cell_type": "code",
   "execution_count": 6,
   "source": [
    "function fermi_hubbard_model(num_sites::Integer, t::Number, onsite_interaction::Number; boundary_condition::String=\"open\", particle_num::Union{Integer, Nothing}=nothing, nup::Union{Integer, Nothing}=nothing, ndown::Union{Integer, Nothing}=nothing)\n",
    "    num_modes = 2*num_sites\n",
    "    dim = 2^num_modes\n",
    "    hop_ham = spzeros(dim, dim)\n",
    "    for i in 1:num_sites-1\n",
    "        hop_ham += t*(cdg(num_modes, 2*i-1)*cop(num_modes, 2*i+1) + cdg(num_modes, 2*i)*cop(num_modes, 2*i+2))\n",
    "        hop_ham += conj(t)*(cdg(num_modes, 2*i+1)*cop(num_modes, 2*i-1)+ cdg(num_modes, 2*i+2)*cop(num_modes, 2*i))\n",
    "        hop_ham += onsite_interaction*nop(num_modes, 2*i-1)*nop(num_modes, 2*i)\n",
    "    end\n",
    "    hop_ham += onsite_interaction*nop(num_modes, 2*num_sites-1)*nop(num_modes, 2*num_sites)\n",
    "\n",
    "    if boundary_condition == \"periodic\" && num_sites > 2\n",
    "        hop_ham += t*(cdg(num_modes, 2*num_sites-1)*cop(num_modes, 1) + cdg(num_modes, 2*num_sites)*cop(num_modes, 2))\n",
    "        hop_ham += conj(t)*(cdg(num_modes, 1)*cop(num_modes, 2*num_sites-1) + cdg(num_modes, 2)*cop(num_modes, 2*num_sites))\n",
    "    end\n",
    "\n",
    "    if particle_num == nothing # particle_num が与えられない時はフルのハミルトニアンを返す\n",
    "        return hop_ham\n",
    "    else \n",
    "        if nup == nothing && ndown == nothing # nup, ndown を指定しないときは particle_num で指定されたセクターのハミルトニアンを返す\n",
    "            indices = get_index_from_ns([particle_num], num_modes) .+ 1\n",
    "            return hop_ham[indices, indices]\n",
    "        elseif  typeof(nup) <: Integer && typeof(ndown) <: Integer #nup, ndown が指定された時は、それらで決まるセクターのハミルトニアンを返す\n",
    "            if nup + ndown == particle_num\n",
    "                indices = get_index_from_ns([nup, ndown], num_sites) .+ 1\n",
    "                return hop_ham[indices, indices]\n",
    "            else\n",
    "                println(\"$(nup) + $(ndown) is not $(particle_num).\")\n",
    "            end\n",
    "        else\n",
    "            println(\"nup and ndown must be Integer or Nothing, simulataneously.\")\n",
    "        end\n",
    "    end\n",
    "end;\n",
    "\n",
    "function lowest_energy(hamiltonian; sparse=true)::Real\n",
    "    if sparse == true\n",
    "        e, _ = eigs(hamiltonian, nev=1, which=:SR)\n",
    "        return e[1]\n",
    "    elseif sparse == false\n",
    "        ham = Hermitian(Matrix(hamiltonian))\n",
    "        e, _ = eigen(ham, 1:1)\n",
    "        return e[1]\n",
    "    end\n",
    "end;"
   ],
   "outputs": [],
   "metadata": {}
  },
  {
   "cell_type": "code",
   "execution_count": 7,
   "source": [
    "fermi_hubbard_model(2, -1.0, 1.0, particle_num=2, nup=1, ndown=1)"
   ],
   "outputs": [
    {
     "output_type": "execute_result",
     "data": {
      "text/plain": [
       "4×4 SparseMatrixCSC{Float64, Int64} with 10 stored entries:\n",
       "  1.0  1.0  -1.0    ⋅ \n",
       "  1.0   ⋅     ⋅    1.0\n",
       " -1.0   ⋅     ⋅   -1.0\n",
       "   ⋅   1.0  -1.0   1.0"
      ]
     },
     "metadata": {},
     "execution_count": 7
    }
   ],
   "metadata": {}
  },
  {
   "cell_type": "markdown",
   "source": [
    "## **対角化**"
   ],
   "metadata": {}
  },
  {
   "cell_type": "code",
   "execution_count": 8,
   "source": [
    "using Dates"
   ],
   "outputs": [],
   "metadata": {}
  },
  {
   "cell_type": "code",
   "execution_count": 9,
   "source": [
    "start = Dates.now()\n",
    "fhm_ham = fermi_hubbard_model(2, -1.0, 1.0, particle_num=2, nup=1, ndown=1)\n",
    "energies, ψ = eigen(Matrix(fhm_ham))\n",
    "elapsed_time = Dates.now() - start\n",
    "println(\"elapsed_time is $(elapsed_time).\")\n",
    "println(energies)"
   ],
   "outputs": [
    {
     "output_type": "stream",
     "name": "stdout",
     "text": [
      "elapsed_time is 612 milliseconds.\n",
      "[-1.5615528128088272, 0.0, 1.000000000000002, 2.5615528128088303]\n"
     ]
    }
   ],
   "metadata": {}
  },
  {
   "cell_type": "markdown",
   "source": [
    "## 疎行列のまま解く"
   ],
   "metadata": {}
  },
  {
   "cell_type": "code",
   "execution_count": 10,
   "source": [
    "energies, ψ = eigs(fhm_ham, nev=3, which=:SR)\n",
    "energies"
   ],
   "outputs": [
    {
     "output_type": "execute_result",
     "data": {
      "text/plain": [
       "3-element Vector{Float64}:\n",
       " -1.5615528128088298\n",
       " -1.021004766305735e-16\n",
       "  1.0"
      ]
     },
     "metadata": {},
     "execution_count": 10
    }
   ],
   "metadata": {}
  },
  {
   "cell_type": "markdown",
   "source": [
    "## **基底エネルギーの相互作用のパラメータ依存性とプロット**"
   ],
   "metadata": {}
  },
  {
   "cell_type": "code",
   "execution_count": 11,
   "source": [
    "using Plots"
   ],
   "outputs": [],
   "metadata": {}
  },
  {
   "cell_type": "code",
   "execution_count": 12,
   "source": [
    "function u_dependence(num_size::Integer, t::Number, umin::Real, umax::Real, length::Integer; boundary_condition::String=\"open\", particle_num::Union{Integer, Nothing}=nothing, nup::Union{Integer, Nothing}=nothing, ndown::Union{Integer, Nothing}=nothing)::Array{Real, 1}\n",
    "    energies = Real[]\n",
    "    for onsite_interaction in range(umin, umax, length=length)\n",
    "        fhm_ham = fermi_hubbard_model(\n",
    "            num_size,\n",
    "            t,\n",
    "            onsite_interaction,\n",
    "            boundary_condition=boundary_condition,\n",
    "            particle_num=particle_num,\n",
    "            nup=nup,\n",
    "            ndown=ndown\n",
    "        )\n",
    "        e = lowest_energy(fhm_ham)\n",
    "        append!(energies, e)\n",
    "    end\n",
    "    return energies\n",
    "end;"
   ],
   "outputs": [],
   "metadata": {}
  },
  {
   "cell_type": "code",
   "execution_count": 13,
   "source": [
    "start = Dates.now()\n",
    "num_size = 4\n",
    "particle_num = 4\n",
    "nup = 2\n",
    "ndown = 2\n",
    "t = -1.0\n",
    "umin = -1.0\n",
    "umax = 2.0\n",
    "Δu = 0.1\n",
    "length = Int(floor((umax - umin)/Δu))\n",
    "u_list = collect(range(umin, umax, length=length))\n",
    "energies = u_dependence(\n",
    "    num_size,\n",
    "    t,\n",
    "    umin,\n",
    "    umax,\n",
    "    length,\n",
    "    boundary_condition=\"periodic\",\n",
    "    particle_num=particle_num,\n",
    "    nup=nup,\n",
    "    ndown=ndown\n",
    ")\n",
    "energies = round.(energies, digits=8)\n",
    "scatter(\n",
    "    u_list,\n",
    "    energies,\n",
    "    title=\"U vs ground energy\",\n",
    "    xlabel=\"U\", \n",
    "    ylabel=\"energy\",\n",
    "    label=\"\"\n",
    ")|> display\n",
    "elapsed_time = Dates.now() - start\n",
    "println(\"elapsed_time is $(elapsed_time).\")"
   ],
   "outputs": [
    {
     "output_type": "display_data",
     "data": {
      "image/svg+xml": "<?xml version=\"1.0\" encoding=\"utf-8\"?>\n<svg xmlns=\"http://www.w3.org/2000/svg\" xmlns:xlink=\"http://www.w3.org/1999/xlink\" width=\"600\" height=\"400\" viewBox=\"0 0 2400 1600\">\n<defs>\n  <clipPath id=\"clip120\">\n    <rect x=\"0\" y=\"0\" width=\"2400\" height=\"1600\"/>\n  </clipPath>\n</defs>\n<path clip-path=\"url(#clip120)\" d=\"\nM0 1600 L2400 1600 L2400 0 L0 0  Z\n  \" fill=\"#ffffff\" fill-rule=\"evenodd\" fill-opacity=\"1\"/>\n<defs>\n  <clipPath id=\"clip121\">\n    <rect x=\"480\" y=\"0\" width=\"1681\" height=\"1600\"/>\n  </clipPath>\n</defs>\n<path clip-path=\"url(#clip120)\" d=\"\nM257.204 1423.18 L2352.76 1423.18 L2352.76 123.472 L257.204 123.472  Z\n  \" fill=\"#ffffff\" fill-rule=\"evenodd\" fill-opacity=\"1\"/>\n<defs>\n  <clipPath id=\"clip122\">\n    <rect x=\"257\" y=\"123\" width=\"2097\" height=\"1301\"/>\n  </clipPath>\n</defs>\n<polyline clip-path=\"url(#clip122)\" style=\"stroke:#000000; stroke-linecap:butt; stroke-linejoin:round; stroke-width:2; stroke-opacity:0.1; fill:none\" points=\"\n  316.512,1423.18 316.512,123.472 \n  \"/>\n<polyline clip-path=\"url(#clip122)\" style=\"stroke:#000000; stroke-linecap:butt; stroke-linejoin:round; stroke-width:2; stroke-opacity:0.1; fill:none\" points=\"\n  975.491,1423.18 975.491,123.472 \n  \"/>\n<polyline clip-path=\"url(#clip122)\" style=\"stroke:#000000; stroke-linecap:butt; stroke-linejoin:round; stroke-width:2; stroke-opacity:0.1; fill:none\" points=\"\n  1634.47,1423.18 1634.47,123.472 \n  \"/>\n<polyline clip-path=\"url(#clip122)\" style=\"stroke:#000000; stroke-linecap:butt; stroke-linejoin:round; stroke-width:2; stroke-opacity:0.1; fill:none\" points=\"\n  2293.45,1423.18 2293.45,123.472 \n  \"/>\n<polyline clip-path=\"url(#clip120)\" style=\"stroke:#000000; stroke-linecap:butt; stroke-linejoin:round; stroke-width:4; stroke-opacity:1; fill:none\" points=\"\n  257.204,1423.18 2352.76,1423.18 \n  \"/>\n<polyline clip-path=\"url(#clip120)\" style=\"stroke:#000000; stroke-linecap:butt; stroke-linejoin:round; stroke-width:4; stroke-opacity:1; fill:none\" points=\"\n  316.512,1423.18 316.512,1404.28 \n  \"/>\n<polyline clip-path=\"url(#clip120)\" style=\"stroke:#000000; stroke-linecap:butt; stroke-linejoin:round; stroke-width:4; stroke-opacity:1; fill:none\" points=\"\n  975.491,1423.18 975.491,1404.28 \n  \"/>\n<polyline clip-path=\"url(#clip120)\" style=\"stroke:#000000; stroke-linecap:butt; stroke-linejoin:round; stroke-width:4; stroke-opacity:1; fill:none\" points=\"\n  1634.47,1423.18 1634.47,1404.28 \n  \"/>\n<polyline clip-path=\"url(#clip120)\" style=\"stroke:#000000; stroke-linecap:butt; stroke-linejoin:round; stroke-width:4; stroke-opacity:1; fill:none\" points=\"\n  2293.45,1423.18 2293.45,1404.28 \n  \"/>\n<path clip-path=\"url(#clip120)\" d=\"M286.269 1467.02 L315.945 1467.02 L315.945 1470.96 L286.269 1470.96 L286.269 1467.02 Z\" fill=\"#000000\" fill-rule=\"evenodd\" fill-opacity=\"1\" /><path clip-path=\"url(#clip120)\" d=\"M326.848 1479.92 L334.487 1479.92 L334.487 1453.55 L326.176 1455.22 L326.176 1450.96 L334.44 1449.29 L339.116 1449.29 L339.116 1479.92 L346.755 1479.92 L346.755 1483.85 L326.848 1483.85 L326.848 1479.92 Z\" fill=\"#000000\" fill-rule=\"evenodd\" fill-opacity=\"1\" /><path clip-path=\"url(#clip120)\" d=\"M975.491 1452.37 Q971.88 1452.37 970.051 1455.94 Q968.245 1459.48 968.245 1466.61 Q968.245 1473.71 970.051 1477.28 Q971.88 1480.82 975.491 1480.82 Q979.125 1480.82 980.93 1477.28 Q982.759 1473.71 982.759 1466.61 Q982.759 1459.48 980.93 1455.94 Q979.125 1452.37 975.491 1452.37 M975.491 1448.67 Q981.301 1448.67 984.356 1453.27 Q987.435 1457.86 987.435 1466.61 Q987.435 1475.33 984.356 1479.94 Q981.301 1484.52 975.491 1484.52 Q969.681 1484.52 966.602 1479.94 Q963.546 1475.33 963.546 1466.61 Q963.546 1457.86 966.602 1453.27 Q969.681 1448.67 975.491 1448.67 Z\" fill=\"#000000\" fill-rule=\"evenodd\" fill-opacity=\"1\" /><path clip-path=\"url(#clip120)\" d=\"M1624.85 1479.92 L1632.49 1479.92 L1632.49 1453.55 L1624.18 1455.22 L1624.18 1450.96 L1632.44 1449.29 L1637.12 1449.29 L1637.12 1479.92 L1644.76 1479.92 L1644.76 1483.85 L1624.85 1483.85 L1624.85 1479.92 Z\" fill=\"#000000\" fill-rule=\"evenodd\" fill-opacity=\"1\" /><path clip-path=\"url(#clip120)\" d=\"M2288.1 1479.92 L2304.42 1479.92 L2304.42 1483.85 L2282.48 1483.85 L2282.48 1479.92 Q2285.14 1477.16 2289.72 1472.53 Q2294.33 1467.88 2295.51 1466.54 Q2297.75 1464.01 2298.63 1462.28 Q2299.54 1460.52 2299.54 1458.83 Q2299.54 1456.07 2297.59 1454.34 Q2295.67 1452.6 2292.57 1452.6 Q2290.37 1452.6 2287.92 1453.37 Q2285.48 1454.13 2282.71 1455.68 L2282.71 1450.96 Q2285.53 1449.82 2287.98 1449.25 Q2290.44 1448.67 2292.48 1448.67 Q2297.85 1448.67 2301.04 1451.35 Q2304.23 1454.04 2304.23 1458.53 Q2304.23 1460.66 2303.42 1462.58 Q2302.64 1464.48 2300.53 1467.07 Q2299.95 1467.74 2296.85 1470.96 Q2293.75 1474.15 2288.1 1479.92 Z\" fill=\"#000000\" fill-rule=\"evenodd\" fill-opacity=\"1\" /><path clip-path=\"url(#clip120)\" d=\"M1286.79 1520.52 L1293.25 1520.52 L1293.25 1549.39 Q1293.25 1557.03 1296.02 1560.4 Q1298.79 1563.75 1305 1563.75 Q1311.17 1563.75 1313.94 1560.4 Q1316.71 1557.03 1316.71 1549.39 L1316.71 1520.52 L1323.17 1520.52 L1323.17 1550.19 Q1323.17 1559.48 1318.55 1564.22 Q1313.97 1568.97 1305 1568.97 Q1295.99 1568.97 1291.37 1564.22 Q1286.79 1559.48 1286.79 1550.19 L1286.79 1520.52 Z\" fill=\"#000000\" fill-rule=\"evenodd\" fill-opacity=\"1\" /><polyline clip-path=\"url(#clip122)\" style=\"stroke:#000000; stroke-linecap:butt; stroke-linejoin:round; stroke-width:2; stroke-opacity:0.1; fill:none\" points=\"\n  257.204,1220.05 2352.76,1220.05 \n  \"/>\n<polyline clip-path=\"url(#clip122)\" style=\"stroke:#000000; stroke-linecap:butt; stroke-linejoin:round; stroke-width:2; stroke-opacity:0.1; fill:none\" points=\"\n  257.204,976.036 2352.76,976.036 \n  \"/>\n<polyline clip-path=\"url(#clip122)\" style=\"stroke:#000000; stroke-linecap:butt; stroke-linejoin:round; stroke-width:2; stroke-opacity:0.1; fill:none\" points=\"\n  257.204,732.02 2352.76,732.02 \n  \"/>\n<polyline clip-path=\"url(#clip122)\" style=\"stroke:#000000; stroke-linecap:butt; stroke-linejoin:round; stroke-width:2; stroke-opacity:0.1; fill:none\" points=\"\n  257.204,488.005 2352.76,488.005 \n  \"/>\n<polyline clip-path=\"url(#clip122)\" style=\"stroke:#000000; stroke-linecap:butt; stroke-linejoin:round; stroke-width:2; stroke-opacity:0.1; fill:none\" points=\"\n  257.204,243.989 2352.76,243.989 \n  \"/>\n<polyline clip-path=\"url(#clip120)\" style=\"stroke:#000000; stroke-linecap:butt; stroke-linejoin:round; stroke-width:4; stroke-opacity:1; fill:none\" points=\"\n  257.204,1423.18 257.204,123.472 \n  \"/>\n<polyline clip-path=\"url(#clip120)\" style=\"stroke:#000000; stroke-linecap:butt; stroke-linejoin:round; stroke-width:4; stroke-opacity:1; fill:none\" points=\"\n  257.204,1220.05 276.102,1220.05 \n  \"/>\n<polyline clip-path=\"url(#clip120)\" style=\"stroke:#000000; stroke-linecap:butt; stroke-linejoin:round; stroke-width:4; stroke-opacity:1; fill:none\" points=\"\n  257.204,976.036 276.102,976.036 \n  \"/>\n<polyline clip-path=\"url(#clip120)\" style=\"stroke:#000000; stroke-linecap:butt; stroke-linejoin:round; stroke-width:4; stroke-opacity:1; fill:none\" points=\"\n  257.204,732.02 276.102,732.02 \n  \"/>\n<polyline clip-path=\"url(#clip120)\" style=\"stroke:#000000; stroke-linecap:butt; stroke-linejoin:round; stroke-width:4; stroke-opacity:1; fill:none\" points=\"\n  257.204,488.005 276.102,488.005 \n  \"/>\n<polyline clip-path=\"url(#clip120)\" style=\"stroke:#000000; stroke-linecap:butt; stroke-linejoin:round; stroke-width:4; stroke-opacity:1; fill:none\" points=\"\n  257.204,243.989 276.102,243.989 \n  \"/>\n<path clip-path=\"url(#clip120)\" d=\"M114.26 1220.5 L143.936 1220.5 L143.936 1224.44 L114.26 1224.44 L114.26 1220.5 Z\" fill=\"#000000\" fill-rule=\"evenodd\" fill-opacity=\"1\" /><path clip-path=\"url(#clip120)\" d=\"M154.075 1202.77 L172.431 1202.77 L172.431 1206.71 L158.357 1206.71 L158.357 1215.18 Q159.376 1214.83 160.394 1214.67 Q161.413 1214.48 162.431 1214.48 Q168.218 1214.48 171.598 1217.66 Q174.977 1220.83 174.977 1226.24 Q174.977 1231.82 171.505 1234.92 Q168.033 1238 161.714 1238 Q159.538 1238 157.269 1237.63 Q155.024 1237.26 152.616 1236.52 L152.616 1231.82 Q154.7 1232.96 156.922 1233.51 Q159.144 1234.07 161.621 1234.07 Q165.626 1234.07 167.964 1231.96 Q170.302 1229.85 170.302 1226.24 Q170.302 1222.63 167.964 1220.53 Q165.626 1218.42 161.621 1218.42 Q159.746 1218.42 157.871 1218.84 Q156.019 1219.25 154.075 1220.13 L154.075 1202.77 Z\" fill=\"#000000\" fill-rule=\"evenodd\" fill-opacity=\"1\" /><path clip-path=\"url(#clip120)\" d=\"M184.19 1231.45 L189.075 1231.45 L189.075 1237.33 L184.19 1237.33 L184.19 1231.45 Z\" fill=\"#000000\" fill-rule=\"evenodd\" fill-opacity=\"1\" /><path clip-path=\"url(#clip120)\" d=\"M209.26 1205.85 Q205.649 1205.85 203.82 1209.41 Q202.014 1212.96 202.014 1220.09 Q202.014 1227.19 203.82 1230.76 Q205.649 1234.3 209.26 1234.3 Q212.894 1234.3 214.699 1230.76 Q216.528 1227.19 216.528 1220.09 Q216.528 1212.96 214.699 1209.41 Q212.894 1205.85 209.26 1205.85 M209.26 1202.15 Q215.07 1202.15 218.125 1206.75 Q221.204 1211.34 221.204 1220.09 Q221.204 1228.81 218.125 1233.42 Q215.07 1238 209.26 1238 Q203.449 1238 200.371 1233.42 Q197.315 1228.81 197.315 1220.09 Q197.315 1211.34 200.371 1206.75 Q203.449 1202.15 209.26 1202.15 Z\" fill=\"#000000\" fill-rule=\"evenodd\" fill-opacity=\"1\" /><path clip-path=\"url(#clip120)\" d=\"M115.256 976.487 L144.931 976.487 L144.931 980.422 L115.256 980.422 L115.256 976.487 Z\" fill=\"#000000\" fill-rule=\"evenodd\" fill-opacity=\"1\" /><path clip-path=\"url(#clip120)\" d=\"M167.871 962.83 L156.065 981.279 L167.871 981.279 L167.871 962.83 M166.644 958.756 L172.524 958.756 L172.524 981.279 L177.454 981.279 L177.454 985.168 L172.524 985.168 L172.524 993.316 L167.871 993.316 L167.871 985.168 L152.269 985.168 L152.269 980.654 L166.644 958.756 Z\" fill=\"#000000\" fill-rule=\"evenodd\" fill-opacity=\"1\" /><path clip-path=\"url(#clip120)\" d=\"M185.186 987.436 L190.07 987.436 L190.07 993.316 L185.186 993.316 L185.186 987.436 Z\" fill=\"#000000\" fill-rule=\"evenodd\" fill-opacity=\"1\" /><path clip-path=\"url(#clip120)\" d=\"M200.301 958.756 L218.658 958.756 L218.658 962.691 L204.584 962.691 L204.584 971.163 Q205.602 970.816 206.621 970.654 Q207.639 970.469 208.658 970.469 Q214.445 970.469 217.824 973.64 Q221.204 976.811 221.204 982.228 Q221.204 987.807 217.732 990.908 Q214.26 993.987 207.94 993.987 Q205.764 993.987 203.496 993.617 Q201.25 993.246 198.843 992.506 L198.843 987.807 Q200.926 988.941 203.149 989.496 Q205.371 990.052 207.848 990.052 Q211.852 990.052 214.19 987.946 Q216.528 985.839 216.528 982.228 Q216.528 978.617 214.19 976.51 Q211.852 974.404 207.848 974.404 Q205.973 974.404 204.098 974.821 Q202.246 975.237 200.301 976.117 L200.301 958.756 Z\" fill=\"#000000\" fill-rule=\"evenodd\" fill-opacity=\"1\" /><path clip-path=\"url(#clip120)\" d=\"M114.26 732.472 L143.936 732.472 L143.936 736.407 L114.26 736.407 L114.26 732.472 Z\" fill=\"#000000\" fill-rule=\"evenodd\" fill-opacity=\"1\" /><path clip-path=\"url(#clip120)\" d=\"M166.876 718.814 L155.07 737.263 L166.876 737.263 L166.876 718.814 M165.649 714.74 L171.528 714.74 L171.528 737.263 L176.459 737.263 L176.459 741.152 L171.528 741.152 L171.528 749.3 L166.876 749.3 L166.876 741.152 L151.274 741.152 L151.274 736.638 L165.649 714.74 Z\" fill=\"#000000\" fill-rule=\"evenodd\" fill-opacity=\"1\" /><path clip-path=\"url(#clip120)\" d=\"M184.19 743.421 L189.075 743.421 L189.075 749.3 L184.19 749.3 L184.19 743.421 Z\" fill=\"#000000\" fill-rule=\"evenodd\" fill-opacity=\"1\" /><path clip-path=\"url(#clip120)\" d=\"M209.26 717.819 Q205.649 717.819 203.82 721.384 Q202.014 724.925 202.014 732.055 Q202.014 739.161 203.82 742.726 Q205.649 746.268 209.26 746.268 Q212.894 746.268 214.699 742.726 Q216.528 739.161 216.528 732.055 Q216.528 724.925 214.699 721.384 Q212.894 717.819 209.26 717.819 M209.26 714.115 Q215.07 714.115 218.125 718.722 Q221.204 723.305 221.204 732.055 Q221.204 740.782 218.125 745.388 Q215.07 749.972 209.26 749.972 Q203.449 749.972 200.371 745.388 Q197.315 740.782 197.315 732.055 Q197.315 723.305 200.371 718.722 Q203.449 714.115 209.26 714.115 Z\" fill=\"#000000\" fill-rule=\"evenodd\" fill-opacity=\"1\" /><path clip-path=\"url(#clip120)\" d=\"M115.256 488.456 L144.931 488.456 L144.931 492.391 L115.256 492.391 L115.256 488.456 Z\" fill=\"#000000\" fill-rule=\"evenodd\" fill-opacity=\"1\" /><path clip-path=\"url(#clip120)\" d=\"M169.19 486.651 Q172.547 487.368 174.422 489.637 Q176.32 491.905 176.32 495.239 Q176.32 500.354 172.802 503.155 Q169.283 505.956 162.802 505.956 Q160.626 505.956 158.311 505.516 Q156.019 505.1 153.566 504.243 L153.566 499.729 Q155.51 500.863 157.825 501.442 Q160.14 502.021 162.663 502.021 Q167.061 502.021 169.352 500.285 Q171.667 498.549 171.667 495.239 Q171.667 492.183 169.514 490.47 Q167.385 488.734 163.565 488.734 L159.538 488.734 L159.538 484.891 L163.751 484.891 Q167.2 484.891 169.028 483.526 Q170.857 482.137 170.857 479.544 Q170.857 476.882 168.959 475.47 Q167.084 474.035 163.565 474.035 Q161.644 474.035 159.445 474.452 Q157.246 474.868 154.607 475.748 L154.607 471.581 Q157.269 470.841 159.584 470.47 Q161.922 470.1 163.982 470.1 Q169.306 470.1 172.408 472.53 Q175.51 474.938 175.51 479.058 Q175.51 481.928 173.866 483.919 Q172.223 485.887 169.19 486.651 Z\" fill=\"#000000\" fill-rule=\"evenodd\" fill-opacity=\"1\" /><path clip-path=\"url(#clip120)\" d=\"M185.186 499.405 L190.07 499.405 L190.07 505.285 L185.186 505.285 L185.186 499.405 Z\" fill=\"#000000\" fill-rule=\"evenodd\" fill-opacity=\"1\" /><path clip-path=\"url(#clip120)\" d=\"M200.301 470.725 L218.658 470.725 L218.658 474.66 L204.584 474.66 L204.584 483.132 Q205.602 482.785 206.621 482.623 Q207.639 482.438 208.658 482.438 Q214.445 482.438 217.824 485.609 Q221.204 488.78 221.204 494.197 Q221.204 499.776 217.732 502.877 Q214.26 505.956 207.94 505.956 Q205.764 505.956 203.496 505.586 Q201.25 505.215 198.843 504.475 L198.843 499.776 Q200.926 500.91 203.149 501.465 Q205.371 502.021 207.848 502.021 Q211.852 502.021 214.19 499.914 Q216.528 497.808 216.528 494.197 Q216.528 490.586 214.19 488.479 Q211.852 486.373 207.848 486.373 Q205.973 486.373 204.098 486.789 Q202.246 487.206 200.301 488.086 L200.301 470.725 Z\" fill=\"#000000\" fill-rule=\"evenodd\" fill-opacity=\"1\" /><path clip-path=\"url(#clip120)\" d=\"M114.26 244.441 L143.936 244.441 L143.936 248.376 L114.26 248.376 L114.26 244.441 Z\" fill=\"#000000\" fill-rule=\"evenodd\" fill-opacity=\"1\" /><path clip-path=\"url(#clip120)\" d=\"M168.195 242.635 Q171.552 243.353 173.427 245.621 Q175.325 247.89 175.325 251.223 Q175.325 256.339 171.806 259.14 Q168.288 261.941 161.806 261.941 Q159.63 261.941 157.315 261.501 Q155.024 261.084 152.57 260.228 L152.57 255.714 Q154.515 256.848 156.829 257.427 Q159.144 258.005 161.667 258.005 Q166.065 258.005 168.357 256.269 Q170.672 254.533 170.672 251.223 Q170.672 248.167 168.519 246.454 Q166.39 244.718 162.57 244.718 L158.542 244.718 L158.542 240.876 L162.755 240.876 Q166.204 240.876 168.033 239.51 Q169.862 238.121 169.862 235.529 Q169.862 232.867 167.964 231.455 Q166.089 230.019 162.57 230.019 Q160.649 230.019 158.45 230.436 Q156.251 230.853 153.612 231.732 L153.612 227.566 Q156.274 226.825 158.589 226.455 Q160.927 226.084 162.987 226.084 Q168.311 226.084 171.413 228.515 Q174.514 230.922 174.514 235.042 Q174.514 237.913 172.871 239.904 Q171.227 241.871 168.195 242.635 Z\" fill=\"#000000\" fill-rule=\"evenodd\" fill-opacity=\"1\" /><path clip-path=\"url(#clip120)\" d=\"M184.19 255.39 L189.075 255.39 L189.075 261.269 L184.19 261.269 L184.19 255.39 Z\" fill=\"#000000\" fill-rule=\"evenodd\" fill-opacity=\"1\" /><path clip-path=\"url(#clip120)\" d=\"M209.26 229.788 Q205.649 229.788 203.82 233.353 Q202.014 236.894 202.014 244.024 Q202.014 251.13 203.82 254.695 Q205.649 258.237 209.26 258.237 Q212.894 258.237 214.699 254.695 Q216.528 251.13 216.528 244.024 Q216.528 236.894 214.699 233.353 Q212.894 229.788 209.26 229.788 M209.26 226.084 Q215.07 226.084 218.125 230.691 Q221.204 235.274 221.204 244.024 Q221.204 252.751 218.125 257.357 Q215.07 261.941 209.26 261.941 Q203.449 261.941 200.371 257.357 Q197.315 252.751 197.315 244.024 Q197.315 235.274 200.371 230.691 Q203.449 226.084 209.26 226.084 Z\" fill=\"#000000\" fill-rule=\"evenodd\" fill-opacity=\"1\" /><path clip-path=\"url(#clip120)\" d=\"M44.7161 851.083 L47.5806 851.083 L47.5806 878.01 Q53.6281 877.628 56.8109 874.382 Q59.9619 871.103 59.9619 865.279 Q59.9619 861.905 59.1344 858.754 Q58.3069 855.571 56.6518 852.452 L62.1899 852.452 Q63.5267 855.603 64.227 858.913 Q64.9272 862.223 64.9272 865.629 Q64.9272 874.159 59.9619 879.156 Q54.9967 884.121 46.5303 884.121 Q37.7774 884.121 32.6531 879.41 Q27.4968 874.668 27.4968 866.647 Q27.4968 859.454 32.1438 855.284 Q36.7589 851.083 44.7161 851.083 M42.9973 856.94 Q38.1912 857.003 35.3266 859.645 Q32.4621 862.255 32.4621 866.584 Q32.4621 871.485 35.2312 874.445 Q38.0002 877.373 43.0292 877.819 L42.9973 856.94 Z\" fill=\"#000000\" fill-rule=\"evenodd\" fill-opacity=\"1\" /><path clip-path=\"url(#clip120)\" d=\"M42.4881 811.839 L64.0042 811.839 L64.0042 817.695 L42.679 817.695 Q37.6183 817.695 35.1038 819.668 Q32.5894 821.642 32.5894 825.588 Q32.5894 830.331 35.6131 833.068 Q38.6368 835.805 43.8567 835.805 L64.0042 835.805 L64.0042 841.694 L28.3562 841.694 L28.3562 835.805 L33.8944 835.805 Q30.6797 833.705 29.0883 830.872 Q27.4968 828.007 27.4968 824.283 Q27.4968 818.141 31.3163 814.99 Q35.1038 811.839 42.4881 811.839 Z\" fill=\"#000000\" fill-rule=\"evenodd\" fill-opacity=\"1\" /><path clip-path=\"url(#clip120)\" d=\"M44.7161 769.666 L47.5806 769.666 L47.5806 796.593 Q53.6281 796.211 56.8109 792.964 Q59.9619 789.686 59.9619 783.861 Q59.9619 780.487 59.1344 777.336 Q58.3069 774.154 56.6518 771.034 L62.1899 771.034 Q63.5267 774.185 64.227 777.496 Q64.9272 780.806 64.9272 784.211 Q64.9272 792.741 59.9619 797.738 Q54.9967 802.704 46.5303 802.704 Q37.7774 802.704 32.6531 797.993 Q27.4968 793.251 27.4968 785.23 Q27.4968 778.037 32.1438 773.867 Q36.7589 769.666 44.7161 769.666 M42.9973 775.522 Q38.1912 775.586 35.3266 778.228 Q32.4621 780.838 32.4621 785.166 Q32.4621 790.068 35.2312 793.028 Q38.0002 795.956 43.0292 796.402 L42.9973 775.522 Z\" fill=\"#000000\" fill-rule=\"evenodd\" fill-opacity=\"1\" /><path clip-path=\"url(#clip120)\" d=\"M33.8307 739.397 Q33.2578 740.383 33.0032 741.561 Q32.7167 742.707 32.7167 744.107 Q32.7167 749.073 35.9632 751.746 Q39.1779 754.388 45.2253 754.388 L64.0042 754.388 L64.0042 760.276 L28.3562 760.276 L28.3562 754.388 L33.8944 754.388 Q30.6479 752.542 29.0883 749.582 Q27.4968 746.622 27.4968 742.389 Q27.4968 741.784 27.5923 741.052 Q27.656 740.32 27.8151 739.429 L33.8307 739.397 Z\" fill=\"#000000\" fill-rule=\"evenodd\" fill-opacity=\"1\" /><path clip-path=\"url(#clip120)\" d=\"M45.7664 710.942 Q39.4007 710.942 35.8996 713.584 Q32.3984 716.194 32.3984 720.936 Q32.3984 725.647 35.8996 728.289 Q39.4007 730.899 45.7664 730.899 Q52.1003 730.899 55.6014 728.289 Q59.1026 725.647 59.1026 720.936 Q59.1026 716.194 55.6014 713.584 Q52.1003 710.942 45.7664 710.942 M59.58 705.086 Q68.683 705.086 73.1071 709.128 Q77.5631 713.17 77.5631 721.509 Q77.5631 724.596 77.0857 727.334 Q76.6401 730.071 75.6852 732.649 L69.9879 732.649 Q71.3884 730.071 72.0568 727.557 Q72.7252 725.042 72.7252 722.432 Q72.7252 716.671 69.7015 713.807 Q66.7096 710.942 60.6303 710.942 L57.7339 710.942 Q60.885 712.756 62.4446 715.589 Q64.0042 718.422 64.0042 722.369 Q64.0042 728.925 59.0071 732.936 Q54.01 736.946 45.7664 736.946 Q37.491 736.946 32.4939 732.936 Q27.4968 728.925 27.4968 722.369 Q27.4968 718.422 29.0564 715.589 Q30.616 712.756 33.7671 710.942 L28.3562 710.942 L28.3562 705.086 L59.58 705.086 Z\" fill=\"#000000\" fill-rule=\"evenodd\" fill-opacity=\"1\" /><path clip-path=\"url(#clip120)\" d=\"M67.3143 678.19 Q73.68 680.673 75.6216 683.028 Q77.5631 685.384 77.5631 689.33 L77.5631 694.009 L72.6615 694.009 L72.6615 690.572 Q72.6615 688.153 71.5157 686.816 Q70.3699 685.479 66.1048 683.856 L63.4312 682.806 L28.3562 697.224 L28.3562 691.017 L56.238 679.877 L28.3562 668.737 L28.3562 662.531 L67.3143 678.19 Z\" fill=\"#000000\" fill-rule=\"evenodd\" fill-opacity=\"1\" /><path clip-path=\"url(#clip120)\" d=\"M902.442 12.096 L910.665 12.096 L910.665 48.8377 Q910.665 58.5599 914.189 62.8538 Q917.714 67.1073 925.613 67.1073 Q933.472 67.1073 936.996 62.8538 Q940.52 58.5599 940.52 48.8377 L940.52 12.096 L948.743 12.096 L948.743 49.8504 Q948.743 61.6791 942.87 67.7149 Q937.036 73.7508 925.613 73.7508 Q914.149 73.7508 908.275 67.7149 Q902.442 61.6791 902.442 49.8504 L902.442 12.096 Z\" fill=\"#000000\" fill-rule=\"evenodd\" fill-opacity=\"1\" /><path clip-path=\"url(#clip120)\" d=\"M984.796 27.2059 L992.696 27.2059 L1006.87 65.2844 L1021.05 27.2059 L1028.95 27.2059 L1011.94 72.576 L1001.81 72.576 L984.796 27.2059 Z\" fill=\"#000000\" fill-rule=\"evenodd\" fill-opacity=\"1\" /><path clip-path=\"url(#clip120)\" d=\"M1068.16 28.5427 L1068.16 35.5912 Q1065 33.9709 1061.6 33.1607 Q1058.2 32.3505 1054.55 32.3505 Q1049 32.3505 1046.21 34.0519 Q1043.45 35.7533 1043.45 39.156 Q1043.45 41.7486 1045.44 43.2475 Q1047.42 44.7058 1053.42 46.0426 L1055.97 46.6097 Q1063.91 48.3111 1067.23 51.4303 Q1070.59 54.509 1070.59 60.0587 Q1070.59 66.3781 1065.57 70.0644 Q1060.59 73.7508 1051.84 73.7508 Q1048.19 73.7508 1044.22 73.0216 Q1040.29 72.3329 1035.92 70.9151 L1035.92 63.2184 Q1040.05 65.3654 1044.06 66.4591 Q1048.07 67.5124 1052 67.5124 Q1057.27 67.5124 1060.1 65.73 Q1062.94 63.9071 1062.94 60.6258 Q1062.94 57.5877 1060.87 55.9673 Q1058.85 54.3469 1051.92 52.8481 L1049.33 52.2405 Q1042.4 50.7821 1039.32 47.7845 Q1036.24 44.7463 1036.24 39.4801 Q1036.24 33.0797 1040.78 29.5959 Q1045.32 26.1121 1053.66 26.1121 Q1057.79 26.1121 1061.44 26.7198 Q1065.09 27.3274 1068.16 28.5427 Z\" fill=\"#000000\" fill-rule=\"evenodd\" fill-opacity=\"1\" /><path clip-path=\"url(#clip120)\" d=\"M1138.69 49.3643 Q1138.69 41.2625 1135.33 36.8065 Q1132.01 32.3505 1125.97 32.3505 Q1119.98 32.3505 1116.61 36.8065 Q1113.29 41.2625 1113.29 49.3643 Q1113.29 57.4256 1116.61 61.8816 Q1119.98 66.3376 1125.97 66.3376 Q1132.01 66.3376 1135.33 61.8816 Q1138.69 57.4256 1138.69 49.3643 M1146.14 66.9452 Q1146.14 78.5308 1141 84.1616 Q1135.85 89.8329 1125.24 89.8329 Q1121.31 89.8329 1117.83 89.2252 Q1114.34 88.6581 1111.06 87.4428 L1111.06 80.1917 Q1114.34 81.9741 1117.54 82.8248 Q1120.74 83.6755 1124.07 83.6755 Q1131.4 83.6755 1135.04 79.8271 Q1138.69 76.0193 1138.69 68.282 L1138.69 64.5957 Q1136.38 68.6061 1132.78 70.5911 Q1129.17 72.576 1124.15 72.576 Q1115.8 72.576 1110.7 66.2161 Q1105.59 59.8562 1105.59 49.3643 Q1105.59 38.832 1110.7 32.472 Q1115.8 26.1121 1124.15 26.1121 Q1129.17 26.1121 1132.78 28.0971 Q1136.38 30.082 1138.69 34.0924 L1138.69 27.2059 L1146.14 27.2059 L1146.14 66.9452 Z\" fill=\"#000000\" fill-rule=\"evenodd\" fill-opacity=\"1\" /><path clip-path=\"url(#clip120)\" d=\"M1187.79 34.1734 Q1186.53 33.4443 1185.03 33.1202 Q1183.57 32.7556 1181.79 32.7556 Q1175.47 32.7556 1172.07 36.8875 Q1168.71 40.9789 1168.71 48.6757 L1168.71 72.576 L1161.21 72.576 L1161.21 27.2059 L1168.71 27.2059 L1168.71 34.2544 Q1171.06 30.1225 1174.82 28.1376 Q1178.59 26.1121 1183.98 26.1121 Q1184.75 26.1121 1185.68 26.2337 Q1186.61 26.3147 1187.75 26.5172 L1187.79 34.1734 Z\" fill=\"#000000\" fill-rule=\"evenodd\" fill-opacity=\"1\" /><path clip-path=\"url(#clip120)\" d=\"M1211.36 32.4315 Q1205.37 32.4315 1201.88 37.1306 Q1198.4 41.7891 1198.4 49.9314 Q1198.4 58.0738 1201.84 62.7728 Q1205.33 67.4314 1211.36 67.4314 Q1217.32 67.4314 1220.8 62.7323 Q1224.29 58.0333 1224.29 49.9314 Q1224.29 41.8701 1220.8 37.1711 Q1217.32 32.4315 1211.36 32.4315 M1211.36 26.1121 Q1221.09 26.1121 1226.64 32.4315 Q1232.19 38.7509 1232.19 49.9314 Q1232.19 61.0714 1226.64 67.4314 Q1221.09 73.7508 1211.36 73.7508 Q1201.6 73.7508 1196.05 67.4314 Q1190.54 61.0714 1190.54 49.9314 Q1190.54 38.7509 1196.05 32.4315 Q1201.6 26.1121 1211.36 26.1121 Z\" fill=\"#000000\" fill-rule=\"evenodd\" fill-opacity=\"1\" /><path clip-path=\"url(#clip120)\" d=\"M1243.77 54.671 L1243.77 27.2059 L1251.22 27.2059 L1251.22 54.3874 Q1251.22 60.8284 1253.74 64.0691 Q1256.25 67.2693 1261.27 67.2693 Q1267.31 67.2693 1270.79 63.421 Q1274.31 59.5726 1274.31 52.9291 L1274.31 27.2059 L1281.77 27.2059 L1281.77 72.576 L1274.31 72.576 L1274.31 65.6084 Q1271.6 69.7404 1268 71.7658 Q1264.43 73.7508 1259.69 73.7508 Q1251.87 73.7508 1247.82 68.8897 Q1243.77 64.0286 1243.77 54.671 M1262.53 26.1121 L1262.53 26.1121 Z\" fill=\"#000000\" fill-rule=\"evenodd\" fill-opacity=\"1\" /><path clip-path=\"url(#clip120)\" d=\"M1334.84 45.1919 L1334.84 72.576 L1327.38 72.576 L1327.38 45.4349 Q1327.38 38.994 1324.87 35.7938 Q1322.36 32.5936 1317.34 32.5936 Q1311.3 32.5936 1307.82 36.4419 Q1304.33 40.2903 1304.33 46.9338 L1304.33 72.576 L1296.84 72.576 L1296.84 27.2059 L1304.33 27.2059 L1304.33 34.2544 Q1307.01 30.163 1310.61 28.1376 Q1314.26 26.1121 1319 26.1121 Q1326.81 26.1121 1330.82 30.9732 Q1334.84 35.7938 1334.84 45.1919 Z\" fill=\"#000000\" fill-rule=\"evenodd\" fill-opacity=\"1\" /><path clip-path=\"url(#clip120)\" d=\"M1379.56 34.0924 L1379.56 9.54393 L1387.01 9.54393 L1387.01 72.576 L1379.56 72.576 L1379.56 65.7705 Q1377.21 69.8214 1373.6 71.8063 Q1370.04 73.7508 1365.01 73.7508 Q1356.79 73.7508 1351.61 67.1883 Q1346.46 60.6258 1346.46 49.9314 Q1346.46 39.2371 1351.61 32.6746 Q1356.79 26.1121 1365.01 26.1121 Q1370.04 26.1121 1373.6 28.0971 Q1377.21 30.0415 1379.56 34.0924 M1354.16 49.9314 Q1354.16 58.1548 1357.52 62.8538 Q1360.92 67.5124 1366.84 67.5124 Q1372.75 67.5124 1376.15 62.8538 Q1379.56 58.1548 1379.56 49.9314 Q1379.56 41.7081 1376.15 37.0496 Q1372.75 32.3505 1366.84 32.3505 Q1360.92 32.3505 1357.52 37.0496 Q1354.16 41.7081 1354.16 49.9314 Z\" fill=\"#000000\" fill-rule=\"evenodd\" fill-opacity=\"1\" /><path clip-path=\"url(#clip120)\" d=\"M1467.54 48.0275 L1467.54 51.6733 L1433.27 51.6733 Q1433.76 59.3701 1437.89 63.421 Q1442.06 67.4314 1449.48 67.4314 Q1453.77 67.4314 1457.78 66.3781 Q1461.83 65.3249 1465.8 63.2184 L1465.8 70.267 Q1461.79 71.9684 1457.58 72.8596 Q1453.36 73.7508 1449.03 73.7508 Q1438.17 73.7508 1431.81 67.4314 Q1425.49 61.1119 1425.49 50.3365 Q1425.49 39.1965 1431.49 32.6746 Q1437.53 26.1121 1447.73 26.1121 Q1456.89 26.1121 1462.2 32.0264 Q1467.54 37.9003 1467.54 48.0275 M1460.09 45.84 Q1460.01 39.7232 1456.65 36.0774 Q1453.32 32.4315 1447.81 32.4315 Q1441.58 32.4315 1437.81 35.9558 Q1434.08 39.4801 1433.52 45.8805 L1460.09 45.84 Z\" fill=\"#000000\" fill-rule=\"evenodd\" fill-opacity=\"1\" /><path clip-path=\"url(#clip120)\" d=\"M1517.49 45.1919 L1517.49 72.576 L1510.04 72.576 L1510.04 45.4349 Q1510.04 38.994 1507.53 35.7938 Q1505.01 32.5936 1499.99 32.5936 Q1493.95 32.5936 1490.47 36.4419 Q1486.99 40.2903 1486.99 46.9338 L1486.99 72.576 L1479.49 72.576 L1479.49 27.2059 L1486.99 27.2059 L1486.99 34.2544 Q1489.66 30.163 1493.27 28.1376 Q1496.91 26.1121 1501.65 26.1121 Q1509.47 26.1121 1513.48 30.9732 Q1517.49 35.7938 1517.49 45.1919 Z\" fill=\"#000000\" fill-rule=\"evenodd\" fill-opacity=\"1\" /><path clip-path=\"url(#clip120)\" d=\"M1571.16 48.0275 L1571.16 51.6733 L1536.89 51.6733 Q1537.38 59.3701 1541.51 63.421 Q1545.68 67.4314 1553.1 67.4314 Q1557.39 67.4314 1561.4 66.3781 Q1565.45 65.3249 1569.42 63.2184 L1569.42 70.267 Q1565.41 71.9684 1561.2 72.8596 Q1556.99 73.7508 1552.65 73.7508 Q1541.8 73.7508 1535.44 67.4314 Q1529.12 61.1119 1529.12 50.3365 Q1529.12 39.1965 1535.11 32.6746 Q1541.15 26.1121 1551.36 26.1121 Q1560.51 26.1121 1565.82 32.0264 Q1571.16 37.9003 1571.16 48.0275 M1563.71 45.84 Q1563.63 39.7232 1560.27 36.0774 Q1556.95 32.4315 1551.44 32.4315 Q1545.2 32.4315 1541.43 35.9558 Q1537.7 39.4801 1537.14 45.8805 L1563.71 45.84 Z\" fill=\"#000000\" fill-rule=\"evenodd\" fill-opacity=\"1\" /><path clip-path=\"url(#clip120)\" d=\"M1609.69 34.1734 Q1608.43 33.4443 1606.93 33.1202 Q1605.48 32.7556 1603.69 32.7556 Q1597.37 32.7556 1593.97 36.8875 Q1590.61 40.9789 1590.61 48.6757 L1590.61 72.576 L1583.12 72.576 L1583.12 27.2059 L1590.61 27.2059 L1590.61 34.2544 Q1592.96 30.1225 1596.73 28.1376 Q1600.49 26.1121 1605.88 26.1121 Q1606.65 26.1121 1607.58 26.2337 Q1608.51 26.3147 1609.65 26.5172 L1609.69 34.1734 Z\" fill=\"#000000\" fill-rule=\"evenodd\" fill-opacity=\"1\" /><path clip-path=\"url(#clip120)\" d=\"M1645.9 49.3643 Q1645.9 41.2625 1642.54 36.8065 Q1639.22 32.3505 1633.18 32.3505 Q1627.19 32.3505 1623.83 36.8065 Q1620.5 41.2625 1620.5 49.3643 Q1620.5 57.4256 1623.83 61.8816 Q1627.19 66.3376 1633.18 66.3376 Q1639.22 66.3376 1642.54 61.8816 Q1645.9 57.4256 1645.9 49.3643 M1653.36 66.9452 Q1653.36 78.5308 1648.21 84.1616 Q1643.07 89.8329 1632.46 89.8329 Q1628.53 89.8329 1625.04 89.2252 Q1621.56 88.6581 1618.28 87.4428 L1618.28 80.1917 Q1621.56 81.9741 1624.76 82.8248 Q1627.96 83.6755 1631.28 83.6755 Q1638.61 83.6755 1642.26 79.8271 Q1645.9 76.0193 1645.9 68.282 L1645.9 64.5957 Q1643.6 68.6061 1639.99 70.5911 Q1636.38 72.576 1631.36 72.576 Q1623.02 72.576 1617.91 66.2161 Q1612.81 59.8562 1612.81 49.3643 Q1612.81 38.832 1617.91 32.472 Q1623.02 26.1121 1631.36 26.1121 Q1636.38 26.1121 1639.99 28.0971 Q1643.6 30.082 1645.9 34.0924 L1645.9 27.2059 L1653.36 27.2059 L1653.36 66.9452 Z\" fill=\"#000000\" fill-rule=\"evenodd\" fill-opacity=\"1\" /><path clip-path=\"url(#clip120)\" d=\"M1687.59 76.7889 Q1684.43 84.8907 1681.43 87.3618 Q1678.43 89.8329 1673.41 89.8329 L1667.45 89.8329 L1667.45 83.5945 L1671.83 83.5945 Q1674.91 83.5945 1676.61 82.1361 Q1678.31 80.6778 1680.38 75.2496 L1681.71 71.8468 L1663.36 27.2059 L1671.26 27.2059 L1685.44 62.6918 L1699.62 27.2059 L1707.52 27.2059 L1687.59 76.7889 Z\" fill=\"#000000\" fill-rule=\"evenodd\" fill-opacity=\"1\" /><circle clip-path=\"url(#clip122)\" cx=\"316.512\" cy=\"1386.4\" r=\"14\" fill=\"#009af9\" fill-rule=\"evenodd\" fill-opacity=\"1\" stroke=\"#000000\" stroke-opacity=\"1\" stroke-width=\"3.2\"/>\n<circle clip-path=\"url(#clip122)\" cx=\"384.682\" cy=\"1314.99\" r=\"14\" fill=\"#009af9\" fill-rule=\"evenodd\" fill-opacity=\"1\" stroke=\"#000000\" stroke-opacity=\"1\" stroke-width=\"3.2\"/>\n<circle clip-path=\"url(#clip122)\" cx=\"452.852\" cy=\"1244.36\" r=\"14\" fill=\"#009af9\" fill-rule=\"evenodd\" fill-opacity=\"1\" stroke=\"#000000\" stroke-opacity=\"1\" stroke-width=\"3.2\"/>\n<circle clip-path=\"url(#clip122)\" cx=\"521.023\" cy=\"1174.54\" r=\"14\" fill=\"#009af9\" fill-rule=\"evenodd\" fill-opacity=\"1\" stroke=\"#000000\" stroke-opacity=\"1\" stroke-width=\"3.2\"/>\n<circle clip-path=\"url(#clip122)\" cx=\"589.193\" cy=\"1105.57\" r=\"14\" fill=\"#009af9\" fill-rule=\"evenodd\" fill-opacity=\"1\" stroke=\"#000000\" stroke-opacity=\"1\" stroke-width=\"3.2\"/>\n<circle clip-path=\"url(#clip122)\" cx=\"657.363\" cy=\"1037.46\" r=\"14\" fill=\"#009af9\" fill-rule=\"evenodd\" fill-opacity=\"1\" stroke=\"#000000\" stroke-opacity=\"1\" stroke-width=\"3.2\"/>\n<circle clip-path=\"url(#clip122)\" cx=\"725.533\" cy=\"970.243\" r=\"14\" fill=\"#009af9\" fill-rule=\"evenodd\" fill-opacity=\"1\" stroke=\"#000000\" stroke-opacity=\"1\" stroke-width=\"3.2\"/>\n<circle clip-path=\"url(#clip122)\" cx=\"793.703\" cy=\"903.961\" r=\"14\" fill=\"#009af9\" fill-rule=\"evenodd\" fill-opacity=\"1\" stroke=\"#000000\" stroke-opacity=\"1\" stroke-width=\"3.2\"/>\n<circle clip-path=\"url(#clip122)\" cx=\"861.874\" cy=\"838.644\" r=\"14\" fill=\"#009af9\" fill-rule=\"evenodd\" fill-opacity=\"1\" stroke=\"#000000\" stroke-opacity=\"1\" stroke-width=\"3.2\"/>\n<circle clip-path=\"url(#clip122)\" cx=\"930.044\" cy=\"774.326\" r=\"14\" fill=\"#009af9\" fill-rule=\"evenodd\" fill-opacity=\"1\" stroke=\"#000000\" stroke-opacity=\"1\" stroke-width=\"3.2\"/>\n<circle clip-path=\"url(#clip122)\" cx=\"998.214\" cy=\"719.458\" r=\"14\" fill=\"#009af9\" fill-rule=\"evenodd\" fill-opacity=\"1\" stroke=\"#000000\" stroke-opacity=\"1\" stroke-width=\"3.2\"/>\n<circle clip-path=\"url(#clip122)\" cx=\"1066.38\" cy=\"682.462\" r=\"14\" fill=\"#009af9\" fill-rule=\"evenodd\" fill-opacity=\"1\" stroke=\"#000000\" stroke-opacity=\"1\" stroke-width=\"3.2\"/>\n<circle clip-path=\"url(#clip122)\" cx=\"1134.55\" cy=\"646.479\" r=\"14\" fill=\"#009af9\" fill-rule=\"evenodd\" fill-opacity=\"1\" stroke=\"#000000\" stroke-opacity=\"1\" stroke-width=\"3.2\"/>\n<circle clip-path=\"url(#clip122)\" cx=\"1202.72\" cy=\"611.471\" r=\"14\" fill=\"#009af9\" fill-rule=\"evenodd\" fill-opacity=\"1\" stroke=\"#000000\" stroke-opacity=\"1\" stroke-width=\"3.2\"/>\n<circle clip-path=\"url(#clip122)\" cx=\"1270.89\" cy=\"577.405\" r=\"14\" fill=\"#009af9\" fill-rule=\"evenodd\" fill-opacity=\"1\" stroke=\"#000000\" stroke-opacity=\"1\" stroke-width=\"3.2\"/>\n<circle clip-path=\"url(#clip122)\" cx=\"1339.07\" cy=\"544.248\" r=\"14\" fill=\"#009af9\" fill-rule=\"evenodd\" fill-opacity=\"1\" stroke=\"#000000\" stroke-opacity=\"1\" stroke-width=\"3.2\"/>\n<circle clip-path=\"url(#clip122)\" cx=\"1407.24\" cy=\"511.968\" r=\"14\" fill=\"#009af9\" fill-rule=\"evenodd\" fill-opacity=\"1\" stroke=\"#000000\" stroke-opacity=\"1\" stroke-width=\"3.2\"/>\n<circle clip-path=\"url(#clip122)\" cx=\"1475.41\" cy=\"480.536\" r=\"14\" fill=\"#009af9\" fill-rule=\"evenodd\" fill-opacity=\"1\" stroke=\"#000000\" stroke-opacity=\"1\" stroke-width=\"3.2\"/>\n<circle clip-path=\"url(#clip122)\" cx=\"1543.58\" cy=\"449.924\" r=\"14\" fill=\"#009af9\" fill-rule=\"evenodd\" fill-opacity=\"1\" stroke=\"#000000\" stroke-opacity=\"1\" stroke-width=\"3.2\"/>\n<circle clip-path=\"url(#clip122)\" cx=\"1611.75\" cy=\"420.102\" r=\"14\" fill=\"#009af9\" fill-rule=\"evenodd\" fill-opacity=\"1\" stroke=\"#000000\" stroke-opacity=\"1\" stroke-width=\"3.2\"/>\n<circle clip-path=\"url(#clip122)\" cx=\"1679.92\" cy=\"391.047\" r=\"14\" fill=\"#009af9\" fill-rule=\"evenodd\" fill-opacity=\"1\" stroke=\"#000000\" stroke-opacity=\"1\" stroke-width=\"3.2\"/>\n<circle clip-path=\"url(#clip122)\" cx=\"1748.09\" cy=\"362.732\" r=\"14\" fill=\"#009af9\" fill-rule=\"evenodd\" fill-opacity=\"1\" stroke=\"#000000\" stroke-opacity=\"1\" stroke-width=\"3.2\"/>\n<circle clip-path=\"url(#clip122)\" cx=\"1816.26\" cy=\"335.135\" r=\"14\" fill=\"#009af9\" fill-rule=\"evenodd\" fill-opacity=\"1\" stroke=\"#000000\" stroke-opacity=\"1\" stroke-width=\"3.2\"/>\n<circle clip-path=\"url(#clip122)\" cx=\"1884.43\" cy=\"308.233\" r=\"14\" fill=\"#009af9\" fill-rule=\"evenodd\" fill-opacity=\"1\" stroke=\"#000000\" stroke-opacity=\"1\" stroke-width=\"3.2\"/>\n<circle clip-path=\"url(#clip122)\" cx=\"1952.6\" cy=\"282.003\" r=\"14\" fill=\"#009af9\" fill-rule=\"evenodd\" fill-opacity=\"1\" stroke=\"#000000\" stroke-opacity=\"1\" stroke-width=\"3.2\"/>\n<circle clip-path=\"url(#clip122)\" cx=\"2020.77\" cy=\"256.426\" r=\"14\" fill=\"#009af9\" fill-rule=\"evenodd\" fill-opacity=\"1\" stroke=\"#000000\" stroke-opacity=\"1\" stroke-width=\"3.2\"/>\n<circle clip-path=\"url(#clip122)\" cx=\"2088.94\" cy=\"231.481\" r=\"14\" fill=\"#009af9\" fill-rule=\"evenodd\" fill-opacity=\"1\" stroke=\"#000000\" stroke-opacity=\"1\" stroke-width=\"3.2\"/>\n<circle clip-path=\"url(#clip122)\" cx=\"2157.11\" cy=\"207.15\" r=\"14\" fill=\"#009af9\" fill-rule=\"evenodd\" fill-opacity=\"1\" stroke=\"#000000\" stroke-opacity=\"1\" stroke-width=\"3.2\"/>\n<circle clip-path=\"url(#clip122)\" cx=\"2225.28\" cy=\"183.414\" r=\"14\" fill=\"#009af9\" fill-rule=\"evenodd\" fill-opacity=\"1\" stroke=\"#000000\" stroke-opacity=\"1\" stroke-width=\"3.2\"/>\n<circle clip-path=\"url(#clip122)\" cx=\"2293.45\" cy=\"160.256\" r=\"14\" fill=\"#009af9\" fill-rule=\"evenodd\" fill-opacity=\"1\" stroke=\"#000000\" stroke-opacity=\"1\" stroke-width=\"3.2\"/>\n</svg>\n"
     },
     "metadata": {}
    },
    {
     "output_type": "stream",
     "name": "stdout",
     "text": [
      "elapsed_time is 7089 milliseconds.\n"
     ]
    }
   ],
   "metadata": {}
  },
  {
   "cell_type": "code",
   "execution_count": null,
   "source": [],
   "outputs": [],
   "metadata": {}
  }
 ],
 "metadata": {
  "orig_nbformat": 4,
  "language_info": {
   "file_extension": ".jl",
   "name": "julia",
   "mimetype": "application/julia",
   "version": "1.6.1"
  },
  "kernelspec": {
   "name": "julia-1.6",
   "display_name": "Julia 1.6.1",
   "language": "julia"
  }
 },
 "nbformat": 4,
 "nbformat_minor": 2
}