{
 "cells": [
  {
   "cell_type": "markdown",
   "source": [
    "## **線形代数パッケージなどを読み込む**"
   ],
   "metadata": {}
  },
  {
   "cell_type": "code",
   "execution_count": 1,
   "source": [
    "using LinearAlgebra #線形代数パッケージ\n",
    "using Combinatorics #組み合わせ順列を扱うパッケージ\n",
    "using SparseArrays #疎行列を扱うパッケージ\n",
    "using Arpack #大規模な固有値問題のためのパッケージ"
   ],
   "outputs": [],
   "metadata": {}
  },
  {
   "cell_type": "markdown",
   "source": [
    "## **Pauli 行列**"
   ],
   "metadata": {}
  },
  {
   "cell_type": "code",
   "execution_count": 2,
   "source": [
    "const σ⁰ = [\n",
    "    1.0 0.0\n",
    "    0.0 1.0\n",
    "] |> sparse;\n",
    "\n",
    "const σ¹ = [\n",
    "    0.0 1.0\n",
    "    1.0 0.0\n",
    "] |> sparse;\n",
    "\n",
    "const σ² = [\n",
    "    0.0 -1.0im\n",
    "    1.0im 0.0\n",
    "] |> sparse;\n",
    "\n",
    "const σ³ = [\n",
    "    1.0 0.0\n",
    "    0.0 -1.0\n",
    "] |> sparse;\n",
    "\n",
    "const σ⁺ = [\n",
    "    0.0 1.0\n",
    "    0.0 0.0\n",
    "] |> sparse;\n",
    "\n",
    "const σ⁻ = [\n",
    "    0.0 0.0\n",
    "    1.0 0.0\n",
    "] |> sparse;"
   ],
   "outputs": [],
   "metadata": {}
  },
  {
   "cell_type": "markdown",
   "source": [
    "## **Jordan-Wigner 変換**"
   ],
   "metadata": {}
  },
  {
   "cell_type": "markdown",
   "source": [
    "$$\n",
    "\\begin{align*}\n",
    "c_k = (-\\sigma^3_1) \\otimes (-\\sigma^3_2) \\otimes \\cdots \\otimes (-\\sigma^3_{k-1}) \\otimes \\sigma^-_k \\otimes \\sigma^0_{k+1} \\otimes \\cdots \\otimes \\sigma^0_{N} \n",
    "\\end{align*}\n",
    "$$\n",
    "具体的な行列要素は\n",
    "$$\n",
    "\\begin{align*}\n",
    "(c_k)_{(i_1, \\dots, i_N), (j_1, \\dots, j_N)} = (-1)^{k-1} (-1)^{i_1 + i_2 + \\cdots + i_{k-1}} \\delta_{(i_1, \\dots, i_{k-1}), (j_1, \\dots, j_{k-1})} \\delta_{(i_{k+1}, \\dots, i_N), (j_{k+1}, \\dots, j_N)} \\delta_{i_k, 1} \\delta_{j_k, 0}\n",
    "\\end{align*}\n",
    "$$\n",
    "で与えられる。ただし 添字は$i = 0, 1$を取るものとする。"
   ],
   "metadata": {}
  },
  {
   "cell_type": "code",
   "execution_count": 11,
   "source": [
    "function JordanWigner(num_modes::Integer, index::Integer)\n",
    "    \"\"\"\n",
    "    Args:\n",
    "        num_sites (Integer): the number of lattice sites\n",
    "        index (Integer): lattice index\n",
    "    Returns:\n",
    "        Array{Float64, 2}\n",
    "    \"\"\"\n",
    "    pauli_strings = [-σ³ for i in 1:index-1]\n",
    "    append!(pauli_strings, [σ⁻]) # ! は破壊的処理(pythonで言うところの in_place = True) を意味する\n",
    "    append!(pauli_strings, [σ⁰ for i in index+1:num_modes])\n",
    "    return kron(pauli_strings...)\n",
    "end;\n",
    "\n",
    "function cop(num_modes::Integer, index::Integer)\n",
    "    \"\"\"\n",
    "    Args:\n",
    "        num_modes (Integer): the number of fermionic modes\n",
    "        index (Integer): index for mode\n",
    "    Returns:\n",
    "        Array{Float64, 2}\n",
    "    \"\"\"\n",
    "    dim = 2^num_modes\n",
    "    cop_mat = spzeros(dim, dim) #ゼロで初期化\n",
    "    base = reverse([2^i for i in 0:num_modes-1])\n",
    "    for binary_str in Iterators.product(collect(Iterators.repeated([0 1], num_modes-1))...)\n",
    "        binary_list = collect(binary_str)\n",
    "        insert!(binary_list, index, 1) # [i_1 ... i_k=1 ... i_N]という Array の作成\n",
    "        ind_left = dot(binary_list, base) + 1 # ２進数表記から整数へ変換(1から始まることに注意)\n",
    "        binary_list[index] = 0 # [i_1 ... i_k=0 ... i_N] という Array の作成\n",
    "        ind_right = dot(binary_list, base) + 1 # ２進数表記から整数へ変換(1から始まることに注意)\n",
    "        sgn = sum(binary_list[1:index-1]) + index - 1 \n",
    "        cop_mat[ind_left, ind_right] = (-1)^sgn　# 行列要素を代入\n",
    "    end\n",
    "\n",
    "    return cop_mat\n",
    "end;\n",
    "\n",
    "function cdg(num_modes::Integer, index::Integer)\n",
    "    return cop(num_modes, index)'\n",
    "end;\n",
    "\n",
    "function nop(num_modes::Integer, index::Integer)\n",
    "    return cdg(num_modes, index)*cop(num_modes, index)\n",
    "end;"
   ],
   "outputs": [],
   "metadata": {}
  },
  {
   "cell_type": "markdown",
   "source": [
    "## 粒子数セクターを取り出すための関数"
   ],
   "metadata": {}
  },
  {
   "cell_type": "code",
   "execution_count": 12,
   "source": [
    "function get_index_from_ns(nlist::Array, num_sites::Integer)::Array{Integer, 1} #２進数表記した時に0の個数がnlistになるような整数のリストを返す\n",
    "    \"\"\"\n",
    "    Args:\n",
    "        nlist (Array): the number of sites per each internal degrees of freedom\n",
    "        num_sites (Integer): the number of sites\n",
    "    Returns:\n",
    "        Array{Integer, 1}: list of indices\n",
    "    Example:\n",
    "        nlist=[2, 1], num_sites = 3 の時\n",
    "        nlist[1] = 2 に対応する bitstring は [0, 0, 1], [0, 1, 0], [1, 0, 0]\n",
    "        nlist[2] = 1 に対応する bitstring は [0, 1, 1], [1, 0, 1], [1, 1, 0]\n",
    "        これらを交互に要素が並ぶように連結し、10進数の整数に変換:\n",
    "        [0, 0, 1] + [0, 1, 1] = [0, 0, 0, 1, 1, 1] -> 7\n",
    "    \"\"\"\n",
    "    l = size(nlist)[1]\n",
    "    num_strings = l*num_sites\n",
    "    base = reverse([2^i for i in 0:num_strings-1])\n",
    "    binary_array = Array{Any}(nothing, l)\n",
    "    for s in 1:l\n",
    "        seed_vector = ones(Integer, num_sites)\n",
    "        for i in 1:nlist[s]\n",
    "            seed_vector[i] = 0\n",
    "        end\n",
    "        binary_array[s] = unique(permutations(seed_vector)) \n",
    "    end\n",
    "    return_array = Integer[]\n",
    "    for n_set in collect(Iterators.product(binary_array...))\n",
    "        h = hcat(n_set...)'\n",
    "        h = collect(Base.Flatten(h))\n",
    "        append!(return_array, dot(h, base))\n",
    "    end\n",
    "    return return_array\n",
    "end;"
   ],
   "outputs": [],
   "metadata": {}
  },
  {
   "cell_type": "code",
   "execution_count": 13,
   "source": [
    "get_index_from_ns([4, 4], 8)"
   ],
   "outputs": [
    {
     "output_type": "execute_result",
     "data": {
      "text/plain": [
       "4900-element Vector{Integer}:\n",
       "   255\n",
       "   639\n",
       "   735\n",
       "   759\n",
       "   765\n",
       "  2175\n",
       "  2271\n",
       "  2295\n",
       "  2301\n",
       "  2655\n",
       "  2679\n",
       "  2685\n",
       "  2775\n",
       "     ⋮\n",
       " 62850\n",
       " 62856\n",
       " 62880\n",
       " 63234\n",
       " 63240\n",
       " 63264\n",
       " 63360\n",
       " 64770\n",
       " 64776\n",
       " 64800\n",
       " 64896\n",
       " 65280"
      ]
     },
     "metadata": {},
     "execution_count": 13
    }
   ],
   "metadata": {}
  },
  {
   "cell_type": "markdown",
   "source": [
    "## **1次元鎖上の Fermi-Hubbard 模型**"
   ],
   "metadata": {}
  },
  {
   "cell_type": "code",
   "execution_count": 24,
   "source": [
    "function fermi_hubbard_model(num_sites::Integer, t::Number, onsite_interaction::Number; boundary_condition::String=\"open\", particle_num::Union{Integer, Nothing}=nothing, nup::Union{Integer, Nothing}=nothing, ndown::Union{Integer, Nothing}=nothing)\n",
    "    num_modes = 2*num_sites\n",
    "    dim = 2^num_modes\n",
    "    ham = spzeros(dim, dim)\n",
    "    cop_vec = [JordanWigner(num_modes, i) for i in 1:num_modes]\n",
    "    cdg_vec = adjoint.(cop_vec)\n",
    "    nop_vec = [cdg_vec[i]*cop_vec[i] for i in 1:num_modes]\n",
    "    for i in 1:num_sites-1\n",
    "        \"\"\"\n",
    "        hop_ham += t*(cdg(num_modes, 2*i-1)*cop(num_modes, 2*i+1) + cdg(num_modes, 2*i)*cop(num_modes, 2*i+2))\n",
    "        hop_ham += conj(t)*(cdg(num_modes, 2*i+1)*cop(num_modes, 2*i-1)+ cdg(num_modes, 2*i+2)*cop(num_modes, 2*i))\n",
    "        hop_ham += onsite_interaction*nop(num_modes, 2*i-1)*nop(num_modes, 2*i)\n",
    "        \"\"\"\n",
    "        add_ham = t*(cdg_vec[2*i-1]*cop_vec[2*i+1] + cdg_vec[2*i]*cop_vec[2*i+2])\n",
    "        add_ham += adjoint(add_ham)\n",
    "        add_ham += onsite_interaction*nop_vec[2*i-1]*nop_vec[2*i]\n",
    "        ham += add_ham\n",
    "    end\n",
    "    ham += onsite_interaction*nop_vec[2*num_sites-1]*nop_vec[2*num_sites]\n",
    "\n",
    "    if boundary_condition == \"periodic\" && num_sites > 2\n",
    "        add_ham = t*(cdg_vec[2*num_sites-1]*cop_vec[1] + cdg_vec[2*num_sites]*cop_vec[2])\n",
    "        add_ham += adjoint(add_ham)\n",
    "        ham += add_ham\n",
    "    end\n",
    "\n",
    "    if particle_num == nothing # particle_num が与えられない時はフルのハミルトニアンを返す\n",
    "        return ham\n",
    "    else \n",
    "        if nup == nothing && ndown == nothing # nup, ndown を指定しないときは particle_num で指定されたセクターのハミルトニアンを返す\n",
    "            indices = get_index_from_ns([particle_num], num_modes) .+ 1\n",
    "            return ham[indices, indices]\n",
    "        elseif  typeof(nup) <: Integer && typeof(ndown) <: Integer #nup, ndown が指定された時は、それらで決まるセクターのハミルトニアンを返す\n",
    "            if nup + ndown == particle_num\n",
    "                indices = get_index_from_ns([nup, ndown], num_sites) .+ 1\n",
    "                return ham[indices, indices]\n",
    "            else\n",
    "                println(\"$(nup) + $(ndown) is not $(particle_num).\")\n",
    "            end\n",
    "        else\n",
    "            println(\"nup and ndown must be Integer or Nothing, simulataneously.\")\n",
    "        end\n",
    "    end\n",
    "end;\n",
    "\n",
    "\n",
    "function fermi_hubbard_model2(num_sites::Integer, t::Number, onsite_interaction::Number; boundary_condition::String=\"open\", particle_num::Union{Integer, Nothing}=nothing, nup::Union{Integer, Nothing}=nothing, ndown::Union{Integer, Nothing}=nothing)\n",
    "    num_modes = 2*num_sites\n",
    "    dim = 2^num_modes\n",
    "    ham = spzeros(dim, dim)\n",
    "    cop_vec = [cop(num_modes, i) for i in 1:num_modes]\n",
    "    cdg_vec = adjoint.(cop_vec)\n",
    "    nop_vec = [cdg_vec[i]*cop_vec[i] for i in 1:num_modes]\n",
    "    for i in 1:num_sites-1\n",
    "        \"\"\"\n",
    "        hop_ham += t*(cdg(num_modes, 2*i-1)*cop(num_modes, 2*i+1) + cdg(num_modes, 2*i)*cop(num_modes, 2*i+2))\n",
    "        hop_ham += conj(t)*(cdg(num_modes, 2*i+1)*cop(num_modes, 2*i-1)+ cdg(num_modes, 2*i+2)*cop(num_modes, 2*i))\n",
    "        hop_ham += onsite_interaction*nop(num_modes, 2*i-1)*nop(num_modes, 2*i)\n",
    "        \"\"\"\n",
    "        add_ham = t*(cdg_vec[2*i-1]*cop_vec[2*i+1] + cdg_vec[2*i]*cop_vec[2*i+2])\n",
    "        add_ham += adjoint(add_ham)\n",
    "        add_ham += onsite_interaction*nop_vec[2*i-1]*nop_vec[2*i]\n",
    "        ham += add_ham\n",
    "    end\n",
    "    ham += onsite_interaction*nop_vec[2*num_sites-1]*nop_vec[2*num_sites]\n",
    "\n",
    "    if boundary_condition == \"periodic\" && num_sites > 2\n",
    "        add_ham = t*(cdg_vec[2*num_sites-1]*cop_vec[1] + cdg_vec[2*num_sites]*cop_vec[2])\n",
    "        add_ham += adjoint(add_ham)\n",
    "        ham += add_ham\n",
    "    end\n",
    "\n",
    "    if particle_num == nothing # particle_num が与えられない時はフルのハミルトニアンを返す\n",
    "        return ham\n",
    "    else \n",
    "        if nup == nothing && ndown == nothing # nup, ndown を指定しないときは particle_num で指定されたセクターのハミルトニアンを返す\n",
    "            indices = get_index_from_ns([particle_num], num_modes) .+ 1\n",
    "            return ham[indices, indices]\n",
    "        elseif  typeof(nup) <: Integer && typeof(ndown) <: Integer #nup, ndown が指定された時は、それらで決まるセクターのハミルトニアンを返す\n",
    "            if nup + ndown == particle_num\n",
    "                indices = get_index_from_ns([nup, ndown], num_sites) .+ 1\n",
    "                return ham[indices, indices]\n",
    "            else\n",
    "                println(\"$(nup) + $(ndown) is not $(particle_num).\")\n",
    "            end\n",
    "        else\n",
    "            println(\"nup and ndown must be Integer or Nothing, simulataneously.\")\n",
    "        end\n",
    "    end\n",
    "end;\n",
    "\n",
    "\n",
    "\n",
    "\n",
    "function lowest_energy(hamiltonian; sparse=true)::Real\n",
    "    if sparse == true\n",
    "        e, _ = eigs(hamiltonian, nev=1, which=:SR)\n",
    "        return e[1]\n",
    "    elseif sparse == false\n",
    "        ham = Hermitian(Matrix(hamiltonian))\n",
    "        e, _ = eigen(ham, 1:1)\n",
    "        return e[1]\n",
    "    end\n",
    "end;"
   ],
   "outputs": [],
   "metadata": {}
  },
  {
   "cell_type": "code",
   "execution_count": 25,
   "source": [
    "fermi_hubbard_model(8, -1.0, 1.0)"
   ],
   "outputs": [
    {
     "output_type": "execute_result",
     "data": {
      "text/plain": [
       "65536×65536 SparseMatrixCSC{Float64, Int64} with 517727 stored entries:\n",
       "⢻⣶⡴⠄⠀⣄⠀⠀⠀⠀⠀⠀⠀⠀⠀⠀⠀⠀⠀⠀⠀⠀⠀⠀⠀⠀⠀⠀⠀⠀⠀⠀⠀⠀⠀⠀⠀⠀⠀⠀\n",
       "⠐⠏⡻⣮⣗⠈⠃⢀⠀⠀⢦⡀⠀⠀⠀⠀⠀⠀⠀⠀⠀⠀⠀⠀⠀⠀⠀⠀⠀⠀⠀⠀⠀⠀⠀⠀⠀⠀⠀⠀\n",
       "⠀⢤⡙⠙⠻⣦⣄⢈⠳⠀⠀⠙⠦⠀⠀⠀⠀⠀⠀⠀⣄⠀⠀⠀⠀⠀⠀⠀⠀⠀⠀⠀⠀⠀⠀⠀⠀⠀⠀⠀\n",
       "⠀⠀⠉⢀⡀⢙⡿⣯⣡⣄⠀⠀⠀⠀⠀⡀⠀⠀⠀⠀⠈⠳⣄⠀⠀⠀⠀⠀⠀⠀⠀⠀⠀⠀⠀⠀⠀⠀⠀⠀\n",
       "⠀⠀⠀⠀⠙⠂⠁⢾⢿⣷⡀⠀⠀⠀⠀⠙⢦⡀⠀⠀⠀⠀⠈⠳⣄⠀⠀⠀⠀⠀⠀⠀⠀⠀⠀⠀⠀⠀⠀⠀\n",
       "⠀⠀⠈⠳⣄⠀⠀⠀⠀⠈⢿⣷⡴⢄⠀⣄⠀⠉⠀⠀⠀⠀⠀⠀⠈⠀⠀⠀⠀⠀⠀⠀⠀⠀⠀⠀⠀⠀⠀⠀\n",
       "⠀⠀⠀⠀⠈⠃⠀⠀⠀⠀⠐⢏⣻⣾⣇⠈⠃⢀⠀⠀⠀⠀⠀⠀⠀⠀⠀⠀⠀⠀⠀⠀⠀⠀⠀⠀⠀⠀⠀⠀\n",
       "⠀⠀⠀⠀⠀⠀⠀⠠⣄⠀⠀⢤⡉⠙⠻⣦⣄⢈⠳⠀⠀⠀⠀⠀⠀⠀⠀⠀⠀⠠⣄⠀⠀⠀⠀⠀⠀⠀⠀⠀\n",
       "⠀⠀⠀⠀⠀⠀⠀⠀⠈⠳⡄⠀⠉⢀⡀⢙⡿⣯⣱⡄⠀⠀⠀⠀⠀⠀⠀⠀⠀⠀⠈⠳⣄⠀⠀⠀⠀⠀⠀⠀\n",
       "⠀⠀⠀⠀⠀⠀⠀⠀⠀⠀⠀⠀⠀⠀⠙⠂⠑⠾⢿⣷⠀⠀⠀⠀⠀⠀⠀⠀⠀⠀⠀⠀⠈⠳⣄⠀⠀⠀⠀⠀\n",
       "⠀⠀⠀⠀⠀⠙⢦⡀⠀⠀⠀⠀⠀⠀⠀⠀⠀⠀⠀⠀⢿⣷⡶⢄⠠⣄⠀⠀⠀⠀⠀⠀⠀⠀⠀⠀⠀⠀⠀⠀\n",
       "⠀⠀⠀⠀⠀⠀⠀⠙⢦⡀⠀⠀⠀⠀⠀⠀⠀⠀⠀⠀⠘⢏⣻⣾⣅⠈⠁⣀⠀⠘⢦⡀⠀⠀⠀⠀⠀⠀⠀⠀\n",
       "⠀⠀⠀⠀⠀⠀⠀⠀⠀⠙⠂⠀⠀⠀⠀⠀⠀⠀⠀⠀⠀⢦⡁⠙⠻⣦⣄⣈⠓⠀⠀⠙⠂⠀⠀⠀⠀⠀⠀⠀\n",
       "⠀⠀⠀⠀⠀⠀⠀⠀⠀⠀⠀⠀⠀⠀⠀⠀⠀⠀⠀⠀⠀⠀⠁⢠⡀⢹⡿⣯⣱⠄⠀⠀⠀⠀⢠⡀⠀⠀⠀⠀\n",
       "⠀⠀⠀⠀⠀⠀⠀⠀⠀⠀⠀⠀⠀⠀⠀⡀⠀⠀⠀⠀⠀⠀⣀⠀⠙⠀⠑⠞⢿⣷⡀⠀⠀⠀⠀⠙⢦⡀⠀⠀\n",
       "⠀⠀⠀⠀⠀⠀⠀⠀⠀⠀⠀⠀⠀⠀⠀⠙⢦⡀⠀⠀⠀⠀⠈⠳⣄⠀⠀⠀⠀⠈⢿⣷⡷⢀⠠⣄⠀⠀⠀⠀\n",
       "⠀⠀⠀⠀⠀⠀⠀⠀⠀⠀⠀⠀⠀⠀⠀⠀⠀⠙⢦⡀⠀⠀⠀⠀⠈⠀⠀⠀⠀⠀⠙⢋⣻⣾⣅⠈⠁⣀⠀⠀\n",
       "⠀⠀⠀⠀⠀⠀⠀⠀⠀⠀⠀⠀⠀⠀⠀⠀⠀⠀⠀⠙⠀⠀⠀⠀⠀⠀⠀⠲⣄⠀⠀⢦⡁⠙⠻⣦⣄⣌⠓⠀\n",
       "⠀⠀⠀⠀⠀⠀⠀⠀⠀⠀⠀⠀⠀⠀⠀⠀⠀⠀⠀⠀⠀⠀⠀⠀⠀⠀⠀⠀⠈⠳⠀⠀⠁⢠⡀⢽⡻⣮⣰⠄\n",
       "⠀⠀⠀⠀⠀⠀⠀⠀⠀⠀⠀⠀⠀⠀⠀⠀⠀⠀⠀⠀⠀⠀⠀⠀⠀⠀⠀⠀⠀⠀⠀⠀⠀⠀⠙⠀⠐⠞⠿⣧"
      ]
     },
     "metadata": {},
     "execution_count": 25
    }
   ],
   "metadata": {}
  },
  {
   "cell_type": "code",
   "execution_count": 26,
   "source": [
    "fermi_hubbard_model2(8, -1.0, 1.0)"
   ],
   "outputs": [
    {
     "output_type": "execute_result",
     "data": {
      "text/plain": [
       "65536×65536 SparseMatrixCSC{Float64, Int64} with 517727 stored entries:\n",
       "⢻⣶⡴⠄⠀⣄⠀⠀⠀⠀⠀⠀⠀⠀⠀⠀⠀⠀⠀⠀⠀⠀⠀⠀⠀⠀⠀⠀⠀⠀⠀⠀⠀⠀⠀⠀⠀⠀⠀⠀\n",
       "⠐⠏⡻⣮⣗⠈⠃⢀⠀⠀⢦⡀⠀⠀⠀⠀⠀⠀⠀⠀⠀⠀⠀⠀⠀⠀⠀⠀⠀⠀⠀⠀⠀⠀⠀⠀⠀⠀⠀⠀\n",
       "⠀⢤⡙⠙⠻⣦⣄⢈⠳⠀⠀⠙⠦⠀⠀⠀⠀⠀⠀⠀⣄⠀⠀⠀⠀⠀⠀⠀⠀⠀⠀⠀⠀⠀⠀⠀⠀⠀⠀⠀\n",
       "⠀⠀⠉⢀⡀⢙⡿⣯⣡⣄⠀⠀⠀⠀⠀⡀⠀⠀⠀⠀⠈⠳⣄⠀⠀⠀⠀⠀⠀⠀⠀⠀⠀⠀⠀⠀⠀⠀⠀⠀\n",
       "⠀⠀⠀⠀⠙⠂⠁⢾⢿⣷⡀⠀⠀⠀⠀⠙⢦⡀⠀⠀⠀⠀⠈⠳⣄⠀⠀⠀⠀⠀⠀⠀⠀⠀⠀⠀⠀⠀⠀⠀\n",
       "⠀⠀⠈⠳⣄⠀⠀⠀⠀⠈⢿⣷⡴⢄⠀⣄⠀⠉⠀⠀⠀⠀⠀⠀⠈⠀⠀⠀⠀⠀⠀⠀⠀⠀⠀⠀⠀⠀⠀⠀\n",
       "⠀⠀⠀⠀⠈⠃⠀⠀⠀⠀⠐⢏⣻⣾⣇⠈⠃⢀⠀⠀⠀⠀⠀⠀⠀⠀⠀⠀⠀⠀⠀⠀⠀⠀⠀⠀⠀⠀⠀⠀\n",
       "⠀⠀⠀⠀⠀⠀⠀⠠⣄⠀⠀⢤⡉⠙⠻⣦⣄⢈⠳⠀⠀⠀⠀⠀⠀⠀⠀⠀⠀⠠⣄⠀⠀⠀⠀⠀⠀⠀⠀⠀\n",
       "⠀⠀⠀⠀⠀⠀⠀⠀⠈⠳⡄⠀⠉⢀⡀⢙⡿⣯⣱⡄⠀⠀⠀⠀⠀⠀⠀⠀⠀⠀⠈⠳⣄⠀⠀⠀⠀⠀⠀⠀\n",
       "⠀⠀⠀⠀⠀⠀⠀⠀⠀⠀⠀⠀⠀⠀⠙⠂⠑⠾⢿⣷⠀⠀⠀⠀⠀⠀⠀⠀⠀⠀⠀⠀⠈⠳⣄⠀⠀⠀⠀⠀\n",
       "⠀⠀⠀⠀⠀⠙⢦⡀⠀⠀⠀⠀⠀⠀⠀⠀⠀⠀⠀⠀⢿⣷⡶⢄⠠⣄⠀⠀⠀⠀⠀⠀⠀⠀⠀⠀⠀⠀⠀⠀\n",
       "⠀⠀⠀⠀⠀⠀⠀⠙⢦⡀⠀⠀⠀⠀⠀⠀⠀⠀⠀⠀⠘⢏⣻⣾⣅⠈⠁⣀⠀⠘⢦⡀⠀⠀⠀⠀⠀⠀⠀⠀\n",
       "⠀⠀⠀⠀⠀⠀⠀⠀⠀⠙⠂⠀⠀⠀⠀⠀⠀⠀⠀⠀⠀⢦⡁⠙⠻⣦⣄⣈⠓⠀⠀⠙⠂⠀⠀⠀⠀⠀⠀⠀\n",
       "⠀⠀⠀⠀⠀⠀⠀⠀⠀⠀⠀⠀⠀⠀⠀⠀⠀⠀⠀⠀⠀⠀⠁⢠⡀⢹⡿⣯⣱⠄⠀⠀⠀⠀⢠⡀⠀⠀⠀⠀\n",
       "⠀⠀⠀⠀⠀⠀⠀⠀⠀⠀⠀⠀⠀⠀⠀⡀⠀⠀⠀⠀⠀⠀⣀⠀⠙⠀⠑⠞⢿⣷⡀⠀⠀⠀⠀⠙⢦⡀⠀⠀\n",
       "⠀⠀⠀⠀⠀⠀⠀⠀⠀⠀⠀⠀⠀⠀⠀⠙⢦⡀⠀⠀⠀⠀⠈⠳⣄⠀⠀⠀⠀⠈⢿⣷⡷⢀⠠⣄⠀⠀⠀⠀\n",
       "⠀⠀⠀⠀⠀⠀⠀⠀⠀⠀⠀⠀⠀⠀⠀⠀⠀⠙⢦⡀⠀⠀⠀⠀⠈⠀⠀⠀⠀⠀⠙⢋⣻⣾⣅⠈⠁⣀⠀⠀\n",
       "⠀⠀⠀⠀⠀⠀⠀⠀⠀⠀⠀⠀⠀⠀⠀⠀⠀⠀⠀⠙⠀⠀⠀⠀⠀⠀⠀⠲⣄⠀⠀⢦⡁⠙⠻⣦⣄⣌⠓⠀\n",
       "⠀⠀⠀⠀⠀⠀⠀⠀⠀⠀⠀⠀⠀⠀⠀⠀⠀⠀⠀⠀⠀⠀⠀⠀⠀⠀⠀⠀⠈⠳⠀⠀⠁⢠⡀⢽⡻⣮⣰⠄\n",
       "⠀⠀⠀⠀⠀⠀⠀⠀⠀⠀⠀⠀⠀⠀⠀⠀⠀⠀⠀⠀⠀⠀⠀⠀⠀⠀⠀⠀⠀⠀⠀⠀⠀⠀⠙⠀⠐⠞⠿⣧"
      ]
     },
     "metadata": {},
     "execution_count": 26
    }
   ],
   "metadata": {}
  },
  {
   "cell_type": "markdown",
   "source": [
    "## **対角化**"
   ],
   "metadata": {}
  },
  {
   "cell_type": "code",
   "execution_count": 27,
   "source": [
    "using Dates"
   ],
   "outputs": [],
   "metadata": {}
  },
  {
   "cell_type": "code",
   "execution_count": 28,
   "source": [
    "start = Dates.now()\n",
    "fhm_ham = fermi_hubbard_model(2, -1.0, 1.0, particle_num=2, nup=1, ndown=1)\n",
    "energies, ψ = eigen(Matrix(fhm_ham))\n",
    "elapsed_time = Dates.now() - start\n",
    "println(\"elapsed_time is $(elapsed_time).\")\n",
    "println(energies)"
   ],
   "outputs": [
    {
     "output_type": "stream",
     "name": "stdout",
     "text": [
      "elapsed_time is 796 milliseconds.\n",
      "[-1.5615528128088272, 0.0, 1.000000000000002, 2.5615528128088303]\n"
     ]
    }
   ],
   "metadata": {}
  },
  {
   "cell_type": "markdown",
   "source": [
    "## 疎行列のまま解く"
   ],
   "metadata": {}
  },
  {
   "cell_type": "code",
   "execution_count": 29,
   "source": [
    "energies, ψ = eigs(fhm_ham, nev=3, which=:SR)\n",
    "energies"
   ],
   "outputs": [
    {
     "output_type": "execute_result",
     "data": {
      "text/plain": [
       "3-element Vector{Float64}:\n",
       " -1.5615528128088298\n",
       " -1.021004766305735e-16\n",
       "  1.0"
      ]
     },
     "metadata": {},
     "execution_count": 29
    }
   ],
   "metadata": {}
  },
  {
   "cell_type": "markdown",
   "source": [
    "## **基底エネルギーの相互作用のパラメータ依存性とプロット**"
   ],
   "metadata": {}
  },
  {
   "cell_type": "code",
   "execution_count": 30,
   "source": [
    "using Plots"
   ],
   "outputs": [],
   "metadata": {}
  },
  {
   "cell_type": "code",
   "execution_count": 31,
   "source": [
    "function u_dependence(num_size::Integer, t::Number, umin::Real, umax::Real, length::Integer; boundary_condition::String=\"open\", particle_num::Union{Integer, Nothing}=nothing, nup::Union{Integer, Nothing}=nothing, ndown::Union{Integer, Nothing}=nothing)::Array{Real, 1}\n",
    "    energies = Real[]\n",
    "    for onsite_interaction in range(umin, umax, length=length)\n",
    "        fhm_ham = fermi_hubbard_model(\n",
    "            num_size,\n",
    "            t,\n",
    "            onsite_interaction,\n",
    "            boundary_condition=boundary_condition,\n",
    "            particle_num=particle_num,\n",
    "            nup=nup,\n",
    "            ndown=ndown\n",
    "        )\n",
    "        e = lowest_energy(fhm_ham)\n",
    "        append!(energies, e)\n",
    "    end\n",
    "    return energies\n",
    "end;"
   ],
   "outputs": [],
   "metadata": {}
  },
  {
   "cell_type": "code",
   "execution_count": 34,
   "source": [
    "start = Dates.now()\n",
    "num_size = 10\n",
    "particle_num = 10\n",
    "nup = 5\n",
    "ndown = 5\n",
    "t = -1.0\n",
    "umin = -1.0\n",
    "umax = 2.0\n",
    "Δu = 0.1\n",
    "length = Int(floor((umax - umin)/Δu))\n",
    "u_list = collect(range(umin, umax, length=length))\n",
    "energies = u_dependence(\n",
    "    num_size,\n",
    "    t,\n",
    "    umin,\n",
    "    umax,\n",
    "    length,\n",
    "    boundary_condition=\"periodic\",\n",
    "    particle_num=particle_num,\n",
    "    nup=nup,\n",
    "    ndown=ndown\n",
    ")\n",
    "energies = round.(energies, digits=8)\n",
    "scatter(\n",
    "    u_list,\n",
    "    energies,\n",
    "    title=\"U vs ground energy\",\n",
    "    xlabel=\"U\", \n",
    "    ylabel=\"energy\",\n",
    "    label=\"\"\n",
    ")|> display\n",
    "elapsed_time = Dates.now() - start\n",
    "println(\"elapsed_time is $(elapsed_time).\")"
   ],
   "outputs": [
    {
     "output_type": "display_data",
     "data": {
      "image/svg+xml": "<?xml version=\"1.0\" encoding=\"utf-8\"?>\n<svg xmlns=\"http://www.w3.org/2000/svg\" xmlns:xlink=\"http://www.w3.org/1999/xlink\" width=\"600\" height=\"400\" viewBox=\"0 0 2400 1600\">\n<defs>\n  <clipPath id=\"clip160\">\n    <rect x=\"0\" y=\"0\" width=\"2400\" height=\"1600\"/>\n  </clipPath>\n</defs>\n<path clip-path=\"url(#clip160)\" d=\"\nM0 1600 L2400 1600 L2400 0 L0 0  Z\n  \" fill=\"#ffffff\" fill-rule=\"evenodd\" fill-opacity=\"1\"/>\n<defs>\n  <clipPath id=\"clip161\">\n    <rect x=\"480\" y=\"0\" width=\"1681\" height=\"1600\"/>\n  </clipPath>\n</defs>\n<path clip-path=\"url(#clip160)\" d=\"\nM242.621 1423.18 L2352.76 1423.18 L2352.76 123.472 L242.621 123.472  Z\n  \" fill=\"#ffffff\" fill-rule=\"evenodd\" fill-opacity=\"1\"/>\n<defs>\n  <clipPath id=\"clip162\">\n    <rect x=\"242\" y=\"123\" width=\"2111\" height=\"1301\"/>\n  </clipPath>\n</defs>\n<polyline clip-path=\"url(#clip162)\" style=\"stroke:#000000; stroke-linecap:butt; stroke-linejoin:round; stroke-width:2; stroke-opacity:0.1; fill:none\" points=\"\n  302.342,1423.18 302.342,123.472 \n  \"/>\n<polyline clip-path=\"url(#clip162)\" style=\"stroke:#000000; stroke-linecap:butt; stroke-linejoin:round; stroke-width:2; stroke-opacity:0.1; fill:none\" points=\"\n  965.906,1423.18 965.906,123.472 \n  \"/>\n<polyline clip-path=\"url(#clip162)\" style=\"stroke:#000000; stroke-linecap:butt; stroke-linejoin:round; stroke-width:2; stroke-opacity:0.1; fill:none\" points=\"\n  1629.47,1423.18 1629.47,123.472 \n  \"/>\n<polyline clip-path=\"url(#clip162)\" style=\"stroke:#000000; stroke-linecap:butt; stroke-linejoin:round; stroke-width:2; stroke-opacity:0.1; fill:none\" points=\"\n  2293.04,1423.18 2293.04,123.472 \n  \"/>\n<polyline clip-path=\"url(#clip160)\" style=\"stroke:#000000; stroke-linecap:butt; stroke-linejoin:round; stroke-width:4; stroke-opacity:1; fill:none\" points=\"\n  242.621,1423.18 2352.76,1423.18 \n  \"/>\n<polyline clip-path=\"url(#clip160)\" style=\"stroke:#000000; stroke-linecap:butt; stroke-linejoin:round; stroke-width:4; stroke-opacity:1; fill:none\" points=\"\n  302.342,1423.18 302.342,1404.28 \n  \"/>\n<polyline clip-path=\"url(#clip160)\" style=\"stroke:#000000; stroke-linecap:butt; stroke-linejoin:round; stroke-width:4; stroke-opacity:1; fill:none\" points=\"\n  965.906,1423.18 965.906,1404.28 \n  \"/>\n<polyline clip-path=\"url(#clip160)\" style=\"stroke:#000000; stroke-linecap:butt; stroke-linejoin:round; stroke-width:4; stroke-opacity:1; fill:none\" points=\"\n  1629.47,1423.18 1629.47,1404.28 \n  \"/>\n<polyline clip-path=\"url(#clip160)\" style=\"stroke:#000000; stroke-linecap:butt; stroke-linejoin:round; stroke-width:4; stroke-opacity:1; fill:none\" points=\"\n  2293.04,1423.18 2293.04,1404.28 \n  \"/>\n<path clip-path=\"url(#clip160)\" d=\"M272.099 1467.02 L301.774 1467.02 L301.774 1470.96 L272.099 1470.96 L272.099 1467.02 Z\" fill=\"#000000\" fill-rule=\"evenodd\" fill-opacity=\"1\" /><path clip-path=\"url(#clip160)\" d=\"M312.677 1479.92 L320.316 1479.92 L320.316 1453.55 L312.006 1455.22 L312.006 1450.96 L320.27 1449.29 L324.946 1449.29 L324.946 1479.92 L332.584 1479.92 L332.584 1483.85 L312.677 1483.85 L312.677 1479.92 Z\" fill=\"#000000\" fill-rule=\"evenodd\" fill-opacity=\"1\" /><path clip-path=\"url(#clip160)\" d=\"M965.906 1452.37 Q962.295 1452.37 960.466 1455.94 Q958.661 1459.48 958.661 1466.61 Q958.661 1473.71 960.466 1477.28 Q962.295 1480.82 965.906 1480.82 Q969.54 1480.82 971.346 1477.28 Q973.175 1473.71 973.175 1466.61 Q973.175 1459.48 971.346 1455.94 Q969.54 1452.37 965.906 1452.37 M965.906 1448.67 Q971.716 1448.67 974.772 1453.27 Q977.85 1457.86 977.85 1466.61 Q977.85 1475.33 974.772 1479.94 Q971.716 1484.52 965.906 1484.52 Q960.096 1484.52 957.017 1479.94 Q953.962 1475.33 953.962 1466.61 Q953.962 1457.86 957.017 1453.27 Q960.096 1448.67 965.906 1448.67 Z\" fill=\"#000000\" fill-rule=\"evenodd\" fill-opacity=\"1\" /><path clip-path=\"url(#clip160)\" d=\"M1619.85 1479.92 L1627.49 1479.92 L1627.49 1453.55 L1619.18 1455.22 L1619.18 1450.96 L1627.45 1449.29 L1632.12 1449.29 L1632.12 1479.92 L1639.76 1479.92 L1639.76 1483.85 L1619.85 1483.85 L1619.85 1479.92 Z\" fill=\"#000000\" fill-rule=\"evenodd\" fill-opacity=\"1\" /><path clip-path=\"url(#clip160)\" d=\"M2287.69 1479.92 L2304.01 1479.92 L2304.01 1483.85 L2282.06 1483.85 L2282.06 1479.92 Q2284.72 1477.16 2289.31 1472.53 Q2293.91 1467.88 2295.1 1466.54 Q2297.34 1464.01 2298.22 1462.28 Q2299.12 1460.52 2299.12 1458.83 Q2299.12 1456.07 2297.18 1454.34 Q2295.26 1452.6 2292.16 1452.6 Q2289.96 1452.6 2287.5 1453.37 Q2285.07 1454.13 2282.29 1455.68 L2282.29 1450.96 Q2285.12 1449.82 2287.57 1449.25 Q2290.03 1448.67 2292.06 1448.67 Q2297.43 1448.67 2300.63 1451.35 Q2303.82 1454.04 2303.82 1458.53 Q2303.82 1460.66 2303.01 1462.58 Q2302.22 1464.48 2300.12 1467.07 Q2299.54 1467.74 2296.44 1470.96 Q2293.34 1474.15 2287.69 1479.92 Z\" fill=\"#000000\" fill-rule=\"evenodd\" fill-opacity=\"1\" /><path clip-path=\"url(#clip160)\" d=\"M1279.5 1520.52 L1285.96 1520.52 L1285.96 1549.39 Q1285.96 1557.03 1288.73 1560.4 Q1291.5 1563.75 1297.7 1563.75 Q1303.88 1563.75 1306.65 1560.4 Q1309.42 1557.03 1309.42 1549.39 L1309.42 1520.52 L1315.88 1520.52 L1315.88 1550.19 Q1315.88 1559.48 1311.26 1564.22 Q1306.68 1568.97 1297.7 1568.97 Q1288.7 1568.97 1284.08 1564.22 Q1279.5 1559.48 1279.5 1550.19 L1279.5 1520.52 Z\" fill=\"#000000\" fill-rule=\"evenodd\" fill-opacity=\"1\" /><polyline clip-path=\"url(#clip162)\" style=\"stroke:#000000; stroke-linecap:butt; stroke-linejoin:round; stroke-width:2; stroke-opacity:0.1; fill:none\" points=\"\n  242.621,1278.4 2352.76,1278.4 \n  \"/>\n<polyline clip-path=\"url(#clip162)\" style=\"stroke:#000000; stroke-linecap:butt; stroke-linejoin:round; stroke-width:2; stroke-opacity:0.1; fill:none\" points=\"\n  242.621,1102.64 2352.76,1102.64 \n  \"/>\n<polyline clip-path=\"url(#clip162)\" style=\"stroke:#000000; stroke-linecap:butt; stroke-linejoin:round; stroke-width:2; stroke-opacity:0.1; fill:none\" points=\"\n  242.621,926.873 2352.76,926.873 \n  \"/>\n<polyline clip-path=\"url(#clip162)\" style=\"stroke:#000000; stroke-linecap:butt; stroke-linejoin:round; stroke-width:2; stroke-opacity:0.1; fill:none\" points=\"\n  242.621,751.107 2352.76,751.107 \n  \"/>\n<polyline clip-path=\"url(#clip162)\" style=\"stroke:#000000; stroke-linecap:butt; stroke-linejoin:round; stroke-width:2; stroke-opacity:0.1; fill:none\" points=\"\n  242.621,575.342 2352.76,575.342 \n  \"/>\n<polyline clip-path=\"url(#clip162)\" style=\"stroke:#000000; stroke-linecap:butt; stroke-linejoin:round; stroke-width:2; stroke-opacity:0.1; fill:none\" points=\"\n  242.621,399.576 2352.76,399.576 \n  \"/>\n<polyline clip-path=\"url(#clip162)\" style=\"stroke:#000000; stroke-linecap:butt; stroke-linejoin:round; stroke-width:2; stroke-opacity:0.1; fill:none\" points=\"\n  242.621,223.81 2352.76,223.81 \n  \"/>\n<polyline clip-path=\"url(#clip160)\" style=\"stroke:#000000; stroke-linecap:butt; stroke-linejoin:round; stroke-width:4; stroke-opacity:1; fill:none\" points=\"\n  242.621,1423.18 242.621,123.472 \n  \"/>\n<polyline clip-path=\"url(#clip160)\" style=\"stroke:#000000; stroke-linecap:butt; stroke-linejoin:round; stroke-width:4; stroke-opacity:1; fill:none\" points=\"\n  242.621,1278.4 261.518,1278.4 \n  \"/>\n<polyline clip-path=\"url(#clip160)\" style=\"stroke:#000000; stroke-linecap:butt; stroke-linejoin:round; stroke-width:4; stroke-opacity:1; fill:none\" points=\"\n  242.621,1102.64 261.518,1102.64 \n  \"/>\n<polyline clip-path=\"url(#clip160)\" style=\"stroke:#000000; stroke-linecap:butt; stroke-linejoin:round; stroke-width:4; stroke-opacity:1; fill:none\" points=\"\n  242.621,926.873 261.518,926.873 \n  \"/>\n<polyline clip-path=\"url(#clip160)\" style=\"stroke:#000000; stroke-linecap:butt; stroke-linejoin:round; stroke-width:4; stroke-opacity:1; fill:none\" points=\"\n  242.621,751.107 261.518,751.107 \n  \"/>\n<polyline clip-path=\"url(#clip160)\" style=\"stroke:#000000; stroke-linecap:butt; stroke-linejoin:round; stroke-width:4; stroke-opacity:1; fill:none\" points=\"\n  242.621,575.342 261.518,575.342 \n  \"/>\n<polyline clip-path=\"url(#clip160)\" style=\"stroke:#000000; stroke-linecap:butt; stroke-linejoin:round; stroke-width:4; stroke-opacity:1; fill:none\" points=\"\n  242.621,399.576 261.518,399.576 \n  \"/>\n<polyline clip-path=\"url(#clip160)\" style=\"stroke:#000000; stroke-linecap:butt; stroke-linejoin:round; stroke-width:4; stroke-opacity:1; fill:none\" points=\"\n  242.621,223.81 261.518,223.81 \n  \"/>\n<path clip-path=\"url(#clip160)\" d=\"M115.742 1278.86 L145.417 1278.86 L145.417 1282.79 L115.742 1282.79 L115.742 1278.86 Z\" fill=\"#000000\" fill-rule=\"evenodd\" fill-opacity=\"1\" /><path clip-path=\"url(#clip160)\" d=\"M156.32 1291.75 L163.959 1291.75 L163.959 1265.38 L155.649 1267.05 L155.649 1262.79 L163.913 1261.12 L168.589 1261.12 L168.589 1291.75 L176.227 1291.75 L176.227 1295.68 L156.32 1295.68 L156.32 1291.75 Z\" fill=\"#000000\" fill-rule=\"evenodd\" fill-opacity=\"1\" /><path clip-path=\"url(#clip160)\" d=\"M185.718 1261.12 L204.074 1261.12 L204.074 1265.06 L190 1265.06 L190 1273.53 Q191.019 1273.18 192.038 1273.02 Q193.056 1272.84 194.075 1272.84 Q199.862 1272.84 203.241 1276.01 Q206.621 1279.18 206.621 1284.6 Q206.621 1290.17 203.149 1293.28 Q199.676 1296.36 193.357 1296.36 Q191.181 1296.36 188.913 1295.98 Q186.667 1295.61 184.26 1294.87 L184.26 1290.17 Q186.343 1291.31 188.565 1291.86 Q190.788 1292.42 193.264 1292.42 Q197.269 1292.42 199.607 1290.31 Q201.945 1288.21 201.945 1284.6 Q201.945 1280.99 199.607 1278.88 Q197.269 1276.77 193.264 1276.77 Q191.389 1276.77 189.514 1277.19 Q187.663 1277.61 185.718 1278.49 L185.718 1261.12 Z\" fill=\"#000000\" fill-rule=\"evenodd\" fill-opacity=\"1\" /><path clip-path=\"url(#clip160)\" d=\"M114.26 1103.09 L143.936 1103.09 L143.936 1107.02 L114.26 1107.02 L114.26 1103.09 Z\" fill=\"#000000\" fill-rule=\"evenodd\" fill-opacity=\"1\" /><path clip-path=\"url(#clip160)\" d=\"M154.839 1115.98 L162.477 1115.98 L162.477 1089.62 L154.167 1091.28 L154.167 1087.03 L162.431 1085.36 L167.107 1085.36 L167.107 1115.98 L174.746 1115.98 L174.746 1119.92 L154.839 1119.92 L154.839 1115.98 Z\" fill=\"#000000\" fill-rule=\"evenodd\" fill-opacity=\"1\" /><path clip-path=\"url(#clip160)\" d=\"M197.037 1089.43 L185.232 1107.88 L197.037 1107.88 L197.037 1089.43 M195.811 1085.36 L201.69 1085.36 L201.69 1107.88 L206.621 1107.88 L206.621 1111.77 L201.69 1111.77 L201.69 1119.92 L197.037 1119.92 L197.037 1111.77 L181.436 1111.77 L181.436 1107.26 L195.811 1085.36 Z\" fill=\"#000000\" fill-rule=\"evenodd\" fill-opacity=\"1\" /><path clip-path=\"url(#clip160)\" d=\"M115.394 927.324 L145.07 927.324 L145.07 931.259 L115.394 931.259 L115.394 927.324 Z\" fill=\"#000000\" fill-rule=\"evenodd\" fill-opacity=\"1\" /><path clip-path=\"url(#clip160)\" d=\"M155.973 940.218 L163.612 940.218 L163.612 913.852 L155.302 915.519 L155.302 911.259 L163.565 909.593 L168.241 909.593 L168.241 940.218 L175.88 940.218 L175.88 944.153 L155.973 944.153 L155.973 940.218 Z\" fill=\"#000000\" fill-rule=\"evenodd\" fill-opacity=\"1\" /><path clip-path=\"url(#clip160)\" d=\"M199.491 925.519 Q202.848 926.236 204.723 928.505 Q206.621 930.773 206.621 934.107 Q206.621 939.222 203.102 942.023 Q199.584 944.824 193.102 944.824 Q190.926 944.824 188.612 944.384 Q186.32 943.968 183.866 943.111 L183.866 938.597 Q185.811 939.732 188.126 940.31 Q190.44 940.889 192.963 940.889 Q197.362 940.889 199.653 939.153 Q201.968 937.417 201.968 934.107 Q201.968 931.051 199.815 929.338 Q197.686 927.602 193.866 927.602 L189.838 927.602 L189.838 923.759 L194.051 923.759 Q197.5 923.759 199.329 922.394 Q201.158 921.005 201.158 918.412 Q201.158 915.75 199.26 914.338 Q197.385 912.903 193.866 912.903 Q191.945 912.903 189.746 913.32 Q187.547 913.736 184.908 914.616 L184.908 910.449 Q187.57 909.709 189.885 909.338 Q192.223 908.968 194.283 908.968 Q199.607 908.968 202.709 911.398 Q205.811 913.806 205.811 917.926 Q205.811 920.796 204.167 922.787 Q202.524 924.755 199.491 925.519 Z\" fill=\"#000000\" fill-rule=\"evenodd\" fill-opacity=\"1\" /><path clip-path=\"url(#clip160)\" d=\"M116.343 751.559 L146.019 751.559 L146.019 755.494 L116.343 755.494 L116.343 751.559 Z\" fill=\"#000000\" fill-rule=\"evenodd\" fill-opacity=\"1\" /><path clip-path=\"url(#clip160)\" d=\"M156.922 764.452 L164.561 764.452 L164.561 738.086 L156.251 739.753 L156.251 735.494 L164.515 733.827 L169.19 733.827 L169.19 764.452 L176.829 764.452 L176.829 768.387 L156.922 768.387 L156.922 764.452 Z\" fill=\"#000000\" fill-rule=\"evenodd\" fill-opacity=\"1\" /><path clip-path=\"url(#clip160)\" d=\"M190.301 764.452 L206.621 764.452 L206.621 768.387 L184.676 768.387 L184.676 764.452 Q187.338 761.697 191.922 757.068 Q196.528 752.415 197.709 751.072 Q199.954 748.549 200.834 746.813 Q201.737 745.054 201.737 743.364 Q201.737 740.61 199.792 738.873 Q197.871 737.137 194.769 737.137 Q192.57 737.137 190.116 737.901 Q187.686 738.665 184.908 740.216 L184.908 735.494 Q187.732 734.36 190.186 733.781 Q192.639 733.202 194.676 733.202 Q200.047 733.202 203.241 735.887 Q206.436 738.573 206.436 743.063 Q206.436 745.193 205.625 747.114 Q204.838 749.012 202.732 751.605 Q202.153 752.276 199.051 755.494 Q195.95 758.688 190.301 764.452 Z\" fill=\"#000000\" fill-rule=\"evenodd\" fill-opacity=\"1\" /><path clip-path=\"url(#clip160)\" d=\"M115.973 575.793 L145.649 575.793 L145.649 579.728 L115.973 579.728 L115.973 575.793 Z\" fill=\"#000000\" fill-rule=\"evenodd\" fill-opacity=\"1\" /><path clip-path=\"url(#clip160)\" d=\"M156.552 588.686 L164.19 588.686 L164.19 562.321 L155.88 563.987 L155.88 559.728 L164.144 558.062 L168.82 558.062 L168.82 588.686 L176.459 588.686 L176.459 592.622 L156.552 592.622 L156.552 588.686 Z\" fill=\"#000000\" fill-rule=\"evenodd\" fill-opacity=\"1\" /><path clip-path=\"url(#clip160)\" d=\"M186.713 588.686 L194.352 588.686 L194.352 562.321 L186.042 563.987 L186.042 559.728 L194.306 558.062 L198.982 558.062 L198.982 588.686 L206.621 588.686 L206.621 592.622 L186.713 592.622 L186.713 588.686 Z\" fill=\"#000000\" fill-rule=\"evenodd\" fill-opacity=\"1\" /><path clip-path=\"url(#clip160)\" d=\"M114.746 400.027 L144.422 400.027 L144.422 403.963 L114.746 403.963 L114.746 400.027 Z\" fill=\"#000000\" fill-rule=\"evenodd\" fill-opacity=\"1\" /><path clip-path=\"url(#clip160)\" d=\"M155.325 412.921 L162.964 412.921 L162.964 386.555 L154.653 388.222 L154.653 383.963 L162.917 382.296 L167.593 382.296 L167.593 412.921 L175.232 412.921 L175.232 416.856 L155.325 416.856 L155.325 412.921 Z\" fill=\"#000000\" fill-rule=\"evenodd\" fill-opacity=\"1\" /><path clip-path=\"url(#clip160)\" d=\"M194.676 385.375 Q191.065 385.375 189.237 388.939 Q187.431 392.481 187.431 399.611 Q187.431 406.717 189.237 410.282 Q191.065 413.824 194.676 413.824 Q198.311 413.824 200.116 410.282 Q201.945 406.717 201.945 399.611 Q201.945 392.481 200.116 388.939 Q198.311 385.375 194.676 385.375 M194.676 381.671 Q200.487 381.671 203.542 386.277 Q206.621 390.861 206.621 399.611 Q206.621 408.338 203.542 412.944 Q200.487 417.527 194.676 417.527 Q188.866 417.527 185.788 412.944 Q182.732 408.338 182.732 399.611 Q182.732 390.861 185.788 386.277 Q188.866 381.671 194.676 381.671 Z\" fill=\"#000000\" fill-rule=\"evenodd\" fill-opacity=\"1\" /><path clip-path=\"url(#clip160)\" d=\"M145.093 224.262 L174.769 224.262 L174.769 228.197 L145.093 228.197 L145.093 224.262 Z\" fill=\"#000000\" fill-rule=\"evenodd\" fill-opacity=\"1\" /><path clip-path=\"url(#clip160)\" d=\"M185.001 240.373 L185.001 236.114 Q186.76 236.947 188.565 237.387 Q190.371 237.827 192.107 237.827 Q196.737 237.827 199.167 234.725 Q201.621 231.6 201.968 225.257 Q200.625 227.248 198.565 228.313 Q196.505 229.377 194.005 229.377 Q188.82 229.377 185.788 226.252 Q182.778 223.104 182.778 217.665 Q182.778 212.341 185.926 209.123 Q189.075 205.905 194.306 205.905 Q200.301 205.905 203.449 210.512 Q206.621 215.095 206.621 223.845 Q206.621 232.016 202.732 236.901 Q198.866 241.762 192.315 241.762 Q190.556 241.762 188.75 241.414 Q186.945 241.067 185.001 240.373 M194.306 225.72 Q197.454 225.72 199.283 223.567 Q201.135 221.415 201.135 217.665 Q201.135 213.938 199.283 211.785 Q197.454 209.609 194.306 209.609 Q191.158 209.609 189.306 211.785 Q187.477 213.938 187.477 217.665 Q187.477 221.415 189.306 223.567 Q191.158 225.72 194.306 225.72 Z\" fill=\"#000000\" fill-rule=\"evenodd\" fill-opacity=\"1\" /><path clip-path=\"url(#clip160)\" d=\"M44.7161 851.083 L47.5806 851.083 L47.5806 878.01 Q53.6281 877.628 56.8109 874.382 Q59.9619 871.103 59.9619 865.279 Q59.9619 861.905 59.1344 858.754 Q58.3069 855.571 56.6518 852.452 L62.1899 852.452 Q63.5267 855.603 64.227 858.913 Q64.9272 862.223 64.9272 865.629 Q64.9272 874.159 59.9619 879.156 Q54.9967 884.121 46.5303 884.121 Q37.7774 884.121 32.6531 879.41 Q27.4968 874.668 27.4968 866.647 Q27.4968 859.454 32.1438 855.284 Q36.7589 851.083 44.7161 851.083 M42.9973 856.94 Q38.1912 857.003 35.3266 859.645 Q32.4621 862.255 32.4621 866.584 Q32.4621 871.485 35.2312 874.445 Q38.0002 877.373 43.0292 877.819 L42.9973 856.94 Z\" fill=\"#000000\" fill-rule=\"evenodd\" fill-opacity=\"1\" /><path clip-path=\"url(#clip160)\" d=\"M42.4881 811.839 L64.0042 811.839 L64.0042 817.695 L42.679 817.695 Q37.6183 817.695 35.1038 819.668 Q32.5894 821.642 32.5894 825.588 Q32.5894 830.331 35.6131 833.068 Q38.6368 835.805 43.8567 835.805 L64.0042 835.805 L64.0042 841.694 L28.3562 841.694 L28.3562 835.805 L33.8944 835.805 Q30.6797 833.705 29.0883 830.872 Q27.4968 828.007 27.4968 824.283 Q27.4968 818.141 31.3163 814.99 Q35.1038 811.839 42.4881 811.839 Z\" fill=\"#000000\" fill-rule=\"evenodd\" fill-opacity=\"1\" /><path clip-path=\"url(#clip160)\" d=\"M44.7161 769.666 L47.5806 769.666 L47.5806 796.593 Q53.6281 796.211 56.8109 792.964 Q59.9619 789.686 59.9619 783.861 Q59.9619 780.487 59.1344 777.336 Q58.3069 774.154 56.6518 771.034 L62.1899 771.034 Q63.5267 774.185 64.227 777.496 Q64.9272 780.806 64.9272 784.211 Q64.9272 792.741 59.9619 797.738 Q54.9967 802.704 46.5303 802.704 Q37.7774 802.704 32.6531 797.993 Q27.4968 793.251 27.4968 785.23 Q27.4968 778.037 32.1438 773.867 Q36.7589 769.666 44.7161 769.666 M42.9973 775.522 Q38.1912 775.586 35.3266 778.228 Q32.4621 780.838 32.4621 785.166 Q32.4621 790.068 35.2312 793.028 Q38.0002 795.956 43.0292 796.402 L42.9973 775.522 Z\" fill=\"#000000\" fill-rule=\"evenodd\" fill-opacity=\"1\" /><path clip-path=\"url(#clip160)\" d=\"M33.8307 739.397 Q33.2578 740.383 33.0032 741.561 Q32.7167 742.707 32.7167 744.107 Q32.7167 749.073 35.9632 751.746 Q39.1779 754.388 45.2253 754.388 L64.0042 754.388 L64.0042 760.276 L28.3562 760.276 L28.3562 754.388 L33.8944 754.388 Q30.6479 752.542 29.0883 749.582 Q27.4968 746.622 27.4968 742.389 Q27.4968 741.784 27.5923 741.052 Q27.656 740.32 27.8151 739.429 L33.8307 739.397 Z\" fill=\"#000000\" fill-rule=\"evenodd\" fill-opacity=\"1\" /><path clip-path=\"url(#clip160)\" d=\"M45.7664 710.942 Q39.4007 710.942 35.8996 713.584 Q32.3984 716.194 32.3984 720.936 Q32.3984 725.647 35.8996 728.289 Q39.4007 730.899 45.7664 730.899 Q52.1003 730.899 55.6014 728.289 Q59.1026 725.647 59.1026 720.936 Q59.1026 716.194 55.6014 713.584 Q52.1003 710.942 45.7664 710.942 M59.58 705.086 Q68.683 705.086 73.1071 709.128 Q77.5631 713.17 77.5631 721.509 Q77.5631 724.596 77.0857 727.334 Q76.6401 730.071 75.6852 732.649 L69.9879 732.649 Q71.3884 730.071 72.0568 727.557 Q72.7252 725.042 72.7252 722.432 Q72.7252 716.671 69.7015 713.807 Q66.7096 710.942 60.6303 710.942 L57.7339 710.942 Q60.885 712.756 62.4446 715.589 Q64.0042 718.422 64.0042 722.369 Q64.0042 728.925 59.0071 732.936 Q54.01 736.946 45.7664 736.946 Q37.491 736.946 32.4939 732.936 Q27.4968 728.925 27.4968 722.369 Q27.4968 718.422 29.0564 715.589 Q30.616 712.756 33.7671 710.942 L28.3562 710.942 L28.3562 705.086 L59.58 705.086 Z\" fill=\"#000000\" fill-rule=\"evenodd\" fill-opacity=\"1\" /><path clip-path=\"url(#clip160)\" d=\"M67.3143 678.19 Q73.68 680.673 75.6216 683.028 Q77.5631 685.384 77.5631 689.33 L77.5631 694.009 L72.6615 694.009 L72.6615 690.572 Q72.6615 688.153 71.5157 686.816 Q70.3699 685.479 66.1048 683.856 L63.4312 682.806 L28.3562 697.224 L28.3562 691.017 L56.238 679.877 L28.3562 668.737 L28.3562 662.531 L67.3143 678.19 Z\" fill=\"#000000\" fill-rule=\"evenodd\" fill-opacity=\"1\" /><path clip-path=\"url(#clip160)\" d=\"M895.15 12.096 L903.373 12.096 L903.373 48.8377 Q903.373 58.5599 906.898 62.8538 Q910.422 67.1073 918.321 67.1073 Q926.18 67.1073 929.704 62.8538 Q933.228 58.5599 933.228 48.8377 L933.228 12.096 L941.452 12.096 L941.452 49.8504 Q941.452 61.6791 935.578 67.7149 Q929.745 73.7508 918.321 73.7508 Q906.857 73.7508 900.983 67.7149 Q895.15 61.6791 895.15 49.8504 L895.15 12.096 Z\" fill=\"#000000\" fill-rule=\"evenodd\" fill-opacity=\"1\" /><path clip-path=\"url(#clip160)\" d=\"M977.505 27.2059 L985.404 27.2059 L999.582 65.2844 L1013.76 27.2059 L1021.66 27.2059 L1004.65 72.576 L994.519 72.576 L977.505 27.2059 Z\" fill=\"#000000\" fill-rule=\"evenodd\" fill-opacity=\"1\" /><path clip-path=\"url(#clip160)\" d=\"M1060.87 28.5427 L1060.87 35.5912 Q1057.71 33.9709 1054.31 33.1607 Q1050.91 32.3505 1047.26 32.3505 Q1041.71 32.3505 1038.92 34.0519 Q1036.16 35.7533 1036.16 39.156 Q1036.16 41.7486 1038.15 43.2475 Q1040.13 44.7058 1046.13 46.0426 L1048.68 46.6097 Q1056.62 48.3111 1059.94 51.4303 Q1063.3 54.509 1063.3 60.0587 Q1063.3 66.3781 1058.28 70.0644 Q1053.3 73.7508 1044.55 73.7508 Q1040.9 73.7508 1036.93 73.0216 Q1033 72.3329 1028.63 70.9151 L1028.63 63.2184 Q1032.76 65.3654 1036.77 66.4591 Q1040.78 67.5124 1044.71 67.5124 Q1049.98 67.5124 1052.81 65.73 Q1055.65 63.9071 1055.65 60.6258 Q1055.65 57.5877 1053.58 55.9673 Q1051.56 54.3469 1044.63 52.8481 L1042.04 52.2405 Q1035.11 50.7821 1032.03 47.7845 Q1028.95 44.7463 1028.95 39.4801 Q1028.95 33.0797 1033.49 29.5959 Q1038.03 26.1121 1046.37 26.1121 Q1050.5 26.1121 1054.15 26.7198 Q1057.79 27.3274 1060.87 28.5427 Z\" fill=\"#000000\" fill-rule=\"evenodd\" fill-opacity=\"1\" /><path clip-path=\"url(#clip160)\" d=\"M1131.4 49.3643 Q1131.4 41.2625 1128.04 36.8065 Q1124.71 32.3505 1118.68 32.3505 Q1112.68 32.3505 1109.32 36.8065 Q1106 41.2625 1106 49.3643 Q1106 57.4256 1109.32 61.8816 Q1112.68 66.3376 1118.68 66.3376 Q1124.71 66.3376 1128.04 61.8816 Q1131.4 57.4256 1131.4 49.3643 M1138.85 66.9452 Q1138.85 78.5308 1133.71 84.1616 Q1128.56 89.8329 1117.95 89.8329 Q1114.02 89.8329 1110.54 89.2252 Q1107.05 88.6581 1103.77 87.4428 L1103.77 80.1917 Q1107.05 81.9741 1110.25 82.8248 Q1113.45 83.6755 1116.77 83.6755 Q1124.11 83.6755 1127.75 79.8271 Q1131.4 76.0193 1131.4 68.282 L1131.4 64.5957 Q1129.09 68.6061 1125.48 70.5911 Q1121.88 72.576 1116.86 72.576 Q1108.51 72.576 1103.41 66.2161 Q1098.3 59.8562 1098.3 49.3643 Q1098.3 38.832 1103.41 32.472 Q1108.51 26.1121 1116.86 26.1121 Q1121.88 26.1121 1125.48 28.0971 Q1129.09 30.082 1131.4 34.0924 L1131.4 27.2059 L1138.85 27.2059 L1138.85 66.9452 Z\" fill=\"#000000\" fill-rule=\"evenodd\" fill-opacity=\"1\" /><path clip-path=\"url(#clip160)\" d=\"M1180.5 34.1734 Q1179.24 33.4443 1177.74 33.1202 Q1176.28 32.7556 1174.5 32.7556 Q1168.18 32.7556 1164.78 36.8875 Q1161.42 40.9789 1161.42 48.6757 L1161.42 72.576 L1153.92 72.576 L1153.92 27.2059 L1161.42 27.2059 L1161.42 34.2544 Q1163.77 30.1225 1167.53 28.1376 Q1171.3 26.1121 1176.69 26.1121 Q1177.46 26.1121 1178.39 26.2337 Q1179.32 26.3147 1180.46 26.5172 L1180.5 34.1734 Z\" fill=\"#000000\" fill-rule=\"evenodd\" fill-opacity=\"1\" /><path clip-path=\"url(#clip160)\" d=\"M1204.07 32.4315 Q1198.08 32.4315 1194.59 37.1306 Q1191.11 41.7891 1191.11 49.9314 Q1191.11 58.0738 1194.55 62.7728 Q1198.04 67.4314 1204.07 67.4314 Q1210.03 67.4314 1213.51 62.7323 Q1216.99 58.0333 1216.99 49.9314 Q1216.99 41.8701 1213.51 37.1711 Q1210.03 32.4315 1204.07 32.4315 M1204.07 26.1121 Q1213.79 26.1121 1219.34 32.4315 Q1224.89 38.7509 1224.89 49.9314 Q1224.89 61.0714 1219.34 67.4314 Q1213.79 73.7508 1204.07 73.7508 Q1194.31 73.7508 1188.76 67.4314 Q1183.25 61.0714 1183.25 49.9314 Q1183.25 38.7509 1188.76 32.4315 Q1194.31 26.1121 1204.07 26.1121 Z\" fill=\"#000000\" fill-rule=\"evenodd\" fill-opacity=\"1\" /><path clip-path=\"url(#clip160)\" d=\"M1236.48 54.671 L1236.48 27.2059 L1243.93 27.2059 L1243.93 54.3874 Q1243.93 60.8284 1246.44 64.0691 Q1248.96 67.2693 1253.98 67.2693 Q1260.01 67.2693 1263.5 63.421 Q1267.02 59.5726 1267.02 52.9291 L1267.02 27.2059 L1274.48 27.2059 L1274.48 72.576 L1267.02 72.576 L1267.02 65.6084 Q1264.31 69.7404 1260.7 71.7658 Q1257.14 73.7508 1252.4 73.7508 Q1244.58 73.7508 1240.53 68.8897 Q1236.48 64.0286 1236.48 54.671 M1255.23 26.1121 L1255.23 26.1121 Z\" fill=\"#000000\" fill-rule=\"evenodd\" fill-opacity=\"1\" /><path clip-path=\"url(#clip160)\" d=\"M1327.54 45.1919 L1327.54 72.576 L1320.09 72.576 L1320.09 45.4349 Q1320.09 38.994 1317.58 35.7938 Q1315.07 32.5936 1310.04 32.5936 Q1304.01 32.5936 1300.52 36.4419 Q1297.04 40.2903 1297.04 46.9338 L1297.04 72.576 L1289.55 72.576 L1289.55 27.2059 L1297.04 27.2059 L1297.04 34.2544 Q1299.71 30.163 1303.32 28.1376 Q1306.96 26.1121 1311.7 26.1121 Q1319.52 26.1121 1323.53 30.9732 Q1327.54 35.7938 1327.54 45.1919 Z\" fill=\"#000000\" fill-rule=\"evenodd\" fill-opacity=\"1\" /><path clip-path=\"url(#clip160)\" d=\"M1372.27 34.0924 L1372.27 9.54393 L1379.72 9.54393 L1379.72 72.576 L1372.27 72.576 L1372.27 65.7705 Q1369.92 69.8214 1366.31 71.8063 Q1362.75 73.7508 1357.72 73.7508 Q1349.5 73.7508 1344.31 67.1883 Q1339.17 60.6258 1339.17 49.9314 Q1339.17 39.2371 1344.31 32.6746 Q1349.5 26.1121 1357.72 26.1121 Q1362.75 26.1121 1366.31 28.0971 Q1369.92 30.0415 1372.27 34.0924 M1346.87 49.9314 Q1346.87 58.1548 1350.23 62.8538 Q1353.63 67.5124 1359.55 67.5124 Q1365.46 67.5124 1368.86 62.8538 Q1372.27 58.1548 1372.27 49.9314 Q1372.27 41.7081 1368.86 37.0496 Q1365.46 32.3505 1359.55 32.3505 Q1353.63 32.3505 1350.23 37.0496 Q1346.87 41.7081 1346.87 49.9314 Z\" fill=\"#000000\" fill-rule=\"evenodd\" fill-opacity=\"1\" /><path clip-path=\"url(#clip160)\" d=\"M1460.25 48.0275 L1460.25 51.6733 L1425.98 51.6733 Q1426.47 59.3701 1430.6 63.421 Q1434.77 67.4314 1442.18 67.4314 Q1446.48 67.4314 1450.49 66.3781 Q1454.54 65.3249 1458.51 63.2184 L1458.51 70.267 Q1454.5 71.9684 1450.29 72.8596 Q1446.07 73.7508 1441.74 73.7508 Q1430.88 73.7508 1424.52 67.4314 Q1418.2 61.1119 1418.2 50.3365 Q1418.2 39.1965 1424.2 32.6746 Q1430.23 26.1121 1440.44 26.1121 Q1449.6 26.1121 1454.9 32.0264 Q1460.25 37.9003 1460.25 48.0275 M1452.8 45.84 Q1452.72 39.7232 1449.35 36.0774 Q1446.03 32.4315 1440.52 32.4315 Q1434.28 32.4315 1430.52 35.9558 Q1426.79 39.4801 1426.22 45.8805 L1452.8 45.84 Z\" fill=\"#000000\" fill-rule=\"evenodd\" fill-opacity=\"1\" /><path clip-path=\"url(#clip160)\" d=\"M1510.2 45.1919 L1510.2 72.576 L1502.75 72.576 L1502.75 45.4349 Q1502.75 38.994 1500.23 35.7938 Q1497.72 32.5936 1492.7 32.5936 Q1486.66 32.5936 1483.18 36.4419 Q1479.7 40.2903 1479.7 46.9338 L1479.7 72.576 L1472.2 72.576 L1472.2 27.2059 L1479.7 27.2059 L1479.7 34.2544 Q1482.37 30.163 1485.97 28.1376 Q1489.62 26.1121 1494.36 26.1121 Q1502.18 26.1121 1506.19 30.9732 Q1510.2 35.7938 1510.2 45.1919 Z\" fill=\"#000000\" fill-rule=\"evenodd\" fill-opacity=\"1\" /><path clip-path=\"url(#clip160)\" d=\"M1563.87 48.0275 L1563.87 51.6733 L1529.6 51.6733 Q1530.09 59.3701 1534.22 63.421 Q1538.39 67.4314 1545.81 67.4314 Q1550.1 67.4314 1554.11 66.3781 Q1558.16 65.3249 1562.13 63.2184 L1562.13 70.267 Q1558.12 71.9684 1553.91 72.8596 Q1549.7 73.7508 1545.36 73.7508 Q1534.5 73.7508 1528.14 67.4314 Q1521.82 61.1119 1521.82 50.3365 Q1521.82 39.1965 1527.82 32.6746 Q1533.86 26.1121 1544.06 26.1121 Q1553.22 26.1121 1558.53 32.0264 Q1563.87 37.9003 1563.87 48.0275 M1556.42 45.84 Q1556.34 39.7232 1552.98 36.0774 Q1549.65 32.4315 1544.15 32.4315 Q1537.91 32.4315 1534.14 35.9558 Q1530.41 39.4801 1529.85 45.8805 L1556.42 45.84 Z\" fill=\"#000000\" fill-rule=\"evenodd\" fill-opacity=\"1\" /><path clip-path=\"url(#clip160)\" d=\"M1602.4 34.1734 Q1601.14 33.4443 1599.64 33.1202 Q1598.18 32.7556 1596.4 32.7556 Q1590.08 32.7556 1586.68 36.8875 Q1583.32 40.9789 1583.32 48.6757 L1583.32 72.576 L1575.82 72.576 L1575.82 27.2059 L1583.32 27.2059 L1583.32 34.2544 Q1585.67 30.1225 1589.43 28.1376 Q1593.2 26.1121 1598.59 26.1121 Q1599.36 26.1121 1600.29 26.2337 Q1601.22 26.3147 1602.36 26.5172 L1602.4 34.1734 Z\" fill=\"#000000\" fill-rule=\"evenodd\" fill-opacity=\"1\" /><path clip-path=\"url(#clip160)\" d=\"M1638.61 49.3643 Q1638.61 41.2625 1635.25 36.8065 Q1631.93 32.3505 1625.89 32.3505 Q1619.9 32.3505 1616.54 36.8065 Q1613.21 41.2625 1613.21 49.3643 Q1613.21 57.4256 1616.54 61.8816 Q1619.9 66.3376 1625.89 66.3376 Q1631.93 66.3376 1635.25 61.8816 Q1638.61 57.4256 1638.61 49.3643 M1646.07 66.9452 Q1646.07 78.5308 1640.92 84.1616 Q1635.78 89.8329 1625.16 89.8329 Q1621.23 89.8329 1617.75 89.2252 Q1614.27 88.6581 1610.99 87.4428 L1610.99 80.1917 Q1614.27 81.9741 1617.47 82.8248 Q1620.67 83.6755 1623.99 83.6755 Q1631.32 83.6755 1634.97 79.8271 Q1638.61 76.0193 1638.61 68.282 L1638.61 64.5957 Q1636.3 68.6061 1632.7 70.5911 Q1629.09 72.576 1624.07 72.576 Q1615.72 72.576 1610.62 66.2161 Q1605.52 59.8562 1605.52 49.3643 Q1605.52 38.832 1610.62 32.472 Q1615.72 26.1121 1624.07 26.1121 Q1629.09 26.1121 1632.7 28.0971 Q1636.3 30.082 1638.61 34.0924 L1638.61 27.2059 L1646.07 27.2059 L1646.07 66.9452 Z\" fill=\"#000000\" fill-rule=\"evenodd\" fill-opacity=\"1\" /><path clip-path=\"url(#clip160)\" d=\"M1680.3 76.7889 Q1677.14 84.8907 1674.14 87.3618 Q1671.14 89.8329 1666.12 89.8329 L1660.16 89.8329 L1660.16 83.5945 L1664.54 83.5945 Q1667.62 83.5945 1669.32 82.1361 Q1671.02 80.6778 1673.09 75.2496 L1674.42 71.8468 L1656.07 27.2059 L1663.97 27.2059 L1678.15 62.6918 L1692.33 27.2059 L1700.23 27.2059 L1680.3 76.7889 Z\" fill=\"#000000\" fill-rule=\"evenodd\" fill-opacity=\"1\" /><circle clip-path=\"url(#clip162)\" cx=\"302.342\" cy=\"1386.4\" r=\"14\" fill=\"#009af9\" fill-rule=\"evenodd\" fill-opacity=\"1\" stroke=\"#000000\" stroke-opacity=\"1\" stroke-width=\"3.2\"/>\n<circle clip-path=\"url(#clip162)\" cx=\"370.986\" cy=\"1335.04\" r=\"14\" fill=\"#009af9\" fill-rule=\"evenodd\" fill-opacity=\"1\" stroke=\"#000000\" stroke-opacity=\"1\" stroke-width=\"3.2\"/>\n<circle clip-path=\"url(#clip162)\" cx=\"439.631\" cy=\"1284.34\" r=\"14\" fill=\"#009af9\" fill-rule=\"evenodd\" fill-opacity=\"1\" stroke=\"#000000\" stroke-opacity=\"1\" stroke-width=\"3.2\"/>\n<circle clip-path=\"url(#clip162)\" cx=\"508.275\" cy=\"1234.29\" r=\"14\" fill=\"#009af9\" fill-rule=\"evenodd\" fill-opacity=\"1\" stroke=\"#000000\" stroke-opacity=\"1\" stroke-width=\"3.2\"/>\n<circle clip-path=\"url(#clip162)\" cx=\"576.92\" cy=\"1184.89\" r=\"14\" fill=\"#009af9\" fill-rule=\"evenodd\" fill-opacity=\"1\" stroke=\"#000000\" stroke-opacity=\"1\" stroke-width=\"3.2\"/>\n<circle clip-path=\"url(#clip162)\" cx=\"645.565\" cy=\"1136.14\" r=\"14\" fill=\"#009af9\" fill-rule=\"evenodd\" fill-opacity=\"1\" stroke=\"#000000\" stroke-opacity=\"1\" stroke-width=\"3.2\"/>\n<circle clip-path=\"url(#clip162)\" cx=\"714.209\" cy=\"1088.03\" r=\"14\" fill=\"#009af9\" fill-rule=\"evenodd\" fill-opacity=\"1\" stroke=\"#000000\" stroke-opacity=\"1\" stroke-width=\"3.2\"/>\n<circle clip-path=\"url(#clip162)\" cx=\"782.854\" cy=\"1040.56\" r=\"14\" fill=\"#009af9\" fill-rule=\"evenodd\" fill-opacity=\"1\" stroke=\"#000000\" stroke-opacity=\"1\" stroke-width=\"3.2\"/>\n<circle clip-path=\"url(#clip162)\" cx=\"851.498\" cy=\"993.722\" r=\"14\" fill=\"#009af9\" fill-rule=\"evenodd\" fill-opacity=\"1\" stroke=\"#000000\" stroke-opacity=\"1\" stroke-width=\"3.2\"/>\n<circle clip-path=\"url(#clip162)\" cx=\"920.143\" cy=\"947.523\" r=\"14\" fill=\"#009af9\" fill-rule=\"evenodd\" fill-opacity=\"1\" stroke=\"#000000\" stroke-opacity=\"1\" stroke-width=\"3.2\"/>\n<circle clip-path=\"url(#clip162)\" cx=\"988.788\" cy=\"901.961\" r=\"14\" fill=\"#009af9\" fill-rule=\"evenodd\" fill-opacity=\"1\" stroke=\"#000000\" stroke-opacity=\"1\" stroke-width=\"3.2\"/>\n<circle clip-path=\"url(#clip162)\" cx=\"1057.43\" cy=\"857.034\" r=\"14\" fill=\"#009af9\" fill-rule=\"evenodd\" fill-opacity=\"1\" stroke=\"#000000\" stroke-opacity=\"1\" stroke-width=\"3.2\"/>\n<circle clip-path=\"url(#clip162)\" cx=\"1126.08\" cy=\"812.743\" r=\"14\" fill=\"#009af9\" fill-rule=\"evenodd\" fill-opacity=\"1\" stroke=\"#000000\" stroke-opacity=\"1\" stroke-width=\"3.2\"/>\n<circle clip-path=\"url(#clip162)\" cx=\"1194.72\" cy=\"769.09\" r=\"14\" fill=\"#009af9\" fill-rule=\"evenodd\" fill-opacity=\"1\" stroke=\"#000000\" stroke-opacity=\"1\" stroke-width=\"3.2\"/>\n<circle clip-path=\"url(#clip162)\" cx=\"1263.37\" cy=\"726.075\" r=\"14\" fill=\"#009af9\" fill-rule=\"evenodd\" fill-opacity=\"1\" stroke=\"#000000\" stroke-opacity=\"1\" stroke-width=\"3.2\"/>\n<circle clip-path=\"url(#clip162)\" cx=\"1332.01\" cy=\"683.701\" r=\"14\" fill=\"#009af9\" fill-rule=\"evenodd\" fill-opacity=\"1\" stroke=\"#000000\" stroke-opacity=\"1\" stroke-width=\"3.2\"/>\n<circle clip-path=\"url(#clip162)\" cx=\"1400.66\" cy=\"641.971\" r=\"14\" fill=\"#009af9\" fill-rule=\"evenodd\" fill-opacity=\"1\" stroke=\"#000000\" stroke-opacity=\"1\" stroke-width=\"3.2\"/>\n<circle clip-path=\"url(#clip162)\" cx=\"1469.3\" cy=\"600.888\" r=\"14\" fill=\"#009af9\" fill-rule=\"evenodd\" fill-opacity=\"1\" stroke=\"#000000\" stroke-opacity=\"1\" stroke-width=\"3.2\"/>\n<circle clip-path=\"url(#clip162)\" cx=\"1537.94\" cy=\"560.457\" r=\"14\" fill=\"#009af9\" fill-rule=\"evenodd\" fill-opacity=\"1\" stroke=\"#000000\" stroke-opacity=\"1\" stroke-width=\"3.2\"/>\n<circle clip-path=\"url(#clip162)\" cx=\"1606.59\" cy=\"520.68\" r=\"14\" fill=\"#009af9\" fill-rule=\"evenodd\" fill-opacity=\"1\" stroke=\"#000000\" stroke-opacity=\"1\" stroke-width=\"3.2\"/>\n<circle clip-path=\"url(#clip162)\" cx=\"1675.23\" cy=\"481.564\" r=\"14\" fill=\"#009af9\" fill-rule=\"evenodd\" fill-opacity=\"1\" stroke=\"#000000\" stroke-opacity=\"1\" stroke-width=\"3.2\"/>\n<circle clip-path=\"url(#clip162)\" cx=\"1743.88\" cy=\"443.113\" r=\"14\" fill=\"#009af9\" fill-rule=\"evenodd\" fill-opacity=\"1\" stroke=\"#000000\" stroke-opacity=\"1\" stroke-width=\"3.2\"/>\n<circle clip-path=\"url(#clip162)\" cx=\"1812.52\" cy=\"405.335\" r=\"14\" fill=\"#009af9\" fill-rule=\"evenodd\" fill-opacity=\"1\" stroke=\"#000000\" stroke-opacity=\"1\" stroke-width=\"3.2\"/>\n<circle clip-path=\"url(#clip162)\" cx=\"1881.17\" cy=\"368.234\" r=\"14\" fill=\"#009af9\" fill-rule=\"evenodd\" fill-opacity=\"1\" stroke=\"#000000\" stroke-opacity=\"1\" stroke-width=\"3.2\"/>\n<circle clip-path=\"url(#clip162)\" cx=\"1949.81\" cy=\"331.818\" r=\"14\" fill=\"#009af9\" fill-rule=\"evenodd\" fill-opacity=\"1\" stroke=\"#000000\" stroke-opacity=\"1\" stroke-width=\"3.2\"/>\n<circle clip-path=\"url(#clip162)\" cx=\"2018.46\" cy=\"296.094\" r=\"14\" fill=\"#009af9\" fill-rule=\"evenodd\" fill-opacity=\"1\" stroke=\"#000000\" stroke-opacity=\"1\" stroke-width=\"3.2\"/>\n<circle clip-path=\"url(#clip162)\" cx=\"2087.1\" cy=\"261.068\" r=\"14\" fill=\"#009af9\" fill-rule=\"evenodd\" fill-opacity=\"1\" stroke=\"#000000\" stroke-opacity=\"1\" stroke-width=\"3.2\"/>\n<circle clip-path=\"url(#clip162)\" cx=\"2155.75\" cy=\"226.749\" r=\"14\" fill=\"#009af9\" fill-rule=\"evenodd\" fill-opacity=\"1\" stroke=\"#000000\" stroke-opacity=\"1\" stroke-width=\"3.2\"/>\n<circle clip-path=\"url(#clip162)\" cx=\"2224.39\" cy=\"193.143\" r=\"14\" fill=\"#009af9\" fill-rule=\"evenodd\" fill-opacity=\"1\" stroke=\"#000000\" stroke-opacity=\"1\" stroke-width=\"3.2\"/>\n<circle clip-path=\"url(#clip162)\" cx=\"2293.04\" cy=\"160.256\" r=\"14\" fill=\"#009af9\" fill-rule=\"evenodd\" fill-opacity=\"1\" stroke=\"#000000\" stroke-opacity=\"1\" stroke-width=\"3.2\"/>\n</svg>\n"
     },
     "metadata": {}
    },
    {
     "output_type": "stream",
     "name": "stdout",
     "text": [
      "elapsed_time is 380871 milliseconds.\n"
     ]
    }
   ],
   "metadata": {}
  },
  {
   "cell_type": "code",
   "execution_count": null,
   "source": [],
   "outputs": [],
   "metadata": {}
  }
 ],
 "metadata": {
  "orig_nbformat": 4,
  "language_info": {
   "file_extension": ".jl",
   "name": "julia",
   "mimetype": "application/julia",
   "version": "1.6.1"
  },
  "kernelspec": {
   "name": "julia-1.6",
   "display_name": "Julia 1.6.1",
   "language": "julia"
  }
 },
 "nbformat": 4,
 "nbformat_minor": 2
}