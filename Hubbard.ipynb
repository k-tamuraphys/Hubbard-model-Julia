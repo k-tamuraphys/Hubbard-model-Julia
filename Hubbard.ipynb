{
 "cells": [
  {
   "cell_type": "markdown",
   "source": [
    "## 線形代数ライブラリの使用"
   ],
   "metadata": {}
  },
  {
   "cell_type": "code",
   "execution_count": 77,
   "source": [
    "using LinearAlgebra\n",
    "using Combinatorics\n",
    "using SparseArrays"
   ],
   "outputs": [],
   "metadata": {}
  },
  {
   "cell_type": "markdown",
   "source": [
    "## **Pauli 行列**"
   ],
   "metadata": {}
  },
  {
   "cell_type": "code",
   "execution_count": 2,
   "source": [
    "const σ⁰ = [\n",
    "    1.0 0.0\n",
    "    0.0 1.0\n",
    "];\n",
    "\n",
    "const σ¹ = [\n",
    "    0.0 1.0\n",
    "    1.0 0.0\n",
    "];\n",
    "\n",
    "const σ² = [\n",
    "    0.0 -1.0im\n",
    "    1.0im 0.0\n",
    "];\n",
    "\n",
    "const σ³ = [\n",
    "    1.0 0.0\n",
    "    0.0 -1.0\n",
    "];\n",
    "\n",
    "const σ⁺ = [\n",
    "    0.0 1.0\n",
    "    0.0 0.0\n",
    "];\n",
    "\n",
    "const σ⁻ = [\n",
    "    0.0 0.0\n",
    "    1.0 0.0\n",
    "];"
   ],
   "outputs": [],
   "metadata": {}
  },
  {
   "cell_type": "markdown",
   "source": [
    "## **Jordan-Wigner 変換**"
   ],
   "metadata": {}
  },
  {
   "cell_type": "markdown",
   "source": [
    "$$\n",
    "\\begin{align*}\n",
    "c_k = (-\\sigma^3_1) \\otimes (-\\sigma^3_2) \\otimes \\cdots \\otimes (-\\sigma^3_{k-1}) \\otimes \\sigma^-_k \\otimes \\sigma^0_{k+1} \\otimes \\cdots \\otimes \\sigma^0_{N} \n",
    "\\end{align*}\n",
    "$$\n",
    "具体的な行列要素は\n",
    "$$\n",
    "\\begin{align*}\n",
    "(c_k)_{(i_1, \\dots, i_N), (j_1, \\dots, j_N)} = (-1)^{k-1} (-1)^{i_1 + i_2 + \\cdots + i_{k-1}} \\delta_{(i_1, \\dots, i_{k-1}), (j_1, \\dots, j_{k-1})} \\delta_{(i_{k+1}, \\dots, i_N), (j_{k+1}, \\dots, j_N)} \\delta_{i_k, 1} \\delta_{j_k, 0}\n",
    "\\end{align*}\n",
    "$$\n",
    "で与えられる。ただし 添字は$i = 0, 1$を取るものとする。"
   ],
   "metadata": {}
  },
  {
   "cell_type": "code",
   "execution_count": 215,
   "source": [
    "function JordanWigner(num_sites::Integer, index::Integer)::Array{Real, 2}\n",
    "    \"\"\"\n",
    "    Args:\n",
    "        num_sites (Int): the number of lattice sites\n",
    "        index (Int): lattice intex\n",
    "    Returns:\n",
    "        Matrix{Float64}\n",
    "    \"\"\"\n",
    "    pauli_strings = [-σ³ for i in 1:index-1]\n",
    "    append!(pauli_strings, [σ⁻]) # ! は破壊的処理(pythonで言うところの in_place = True) を意味する\n",
    "    append!(pauli_strings, [σ⁰ for i in index+1:num_sites])\n",
    "    return kron(pauli_strings...)\n",
    "end;\n",
    "\n",
    "function cop(num_modes::Integer, index::Integer)\n",
    "    dim = 2^num_modes\n",
    "    cop_mat = spzeros(dim, dim) #ゼロで初期化\n",
    "    base = reverse([2^i for i in 0:num_modes-1])\n",
    "    for binary_str in Iterators.product(collect(Iterators.repeated([0 1], num_modes-1))...)\n",
    "        binary_list = collect(binary_str)\n",
    "        insert!(binary_list, index, 1) # [i_1 ... i_k=1 ... i_N]という Array の作成\n",
    "        ind_left = dot(binary_list, base) + 1 # ２進数表記から整数へ変換(1から始まることに注意)\n",
    "        binary_list[index] = 0 # [i_1 ... i_k=0 ... i_N] という Array の作成\n",
    "        ind_right = dot(binary_list, base) + 1 # ２進数表記から整数へ変換(1から始まることに注意)\n",
    "        sgn = sum(binary_list[1:index-1]) + index - 1 \n",
    "        cop_mat[ind_left, ind_right] = (-1)^sgn　# 行列要素を代入\n",
    "    end\n",
    "\n",
    "    return cop_mat\n",
    "end;\n",
    "\n",
    "function cdg(num_modes::Integer, index::Integer)\n",
    "    return cop(num_modes, index)'\n",
    "end;\n",
    "\n",
    "function nop(num_modes::Integer, index::Integer)\n",
    "    return cdg(num_modes, index)*cop(num_modes, index)\n",
    "end;"
   ],
   "outputs": [],
   "metadata": {}
  },
  {
   "cell_type": "markdown",
   "source": [
    "## 粒子数セクターを取り出すための関数"
   ],
   "metadata": {}
  },
  {
   "cell_type": "code",
   "execution_count": 230,
   "source": [
    "function get_index_from_n(n::Integer, num_strings::Integer) # ２進数表記した時に各桁の和が n になる整数を返す\n",
    "    seed_vector = zeros(Integer, num_strings)\n",
    "    for i in 1:n\n",
    "        seed_vector[i] = 1\n",
    "    end\n",
    "    base = reverse([2^i for i in 0:num_strings-1])\n",
    "\n",
    "    return [dot(binary_string, base) for binary_string in unique(permutations(seed_vector))]\n",
    "end;"
   ],
   "outputs": [],
   "metadata": {}
  },
  {
   "cell_type": "markdown",
   "source": [
    "## **1次元鎖上の Fermi-Hubbard 模型**"
   ],
   "metadata": {}
  },
  {
   "cell_type": "code",
   "execution_count": 231,
   "source": [
    "function fermi_hubbard_model(num_sites::Integer, num_particles::Integer, t::Number, onsite_interaction::Number, boundary_condition=\"open\")\n",
    "    num_modes = 2*num_sites\n",
    "    indices = get_index_from_n(num_particles, num_modes) .+ 1\n",
    "    dim = 2^num_modes\n",
    "    hop_ham = spzeros(dim, dim);\n",
    "    for i in 1:num_sites-1\n",
    "        hop_ham += t*(cdg(num_modes, 2*i-1)*cop(num_modes, 2*i+1) + cdg(num_modes, 2*i)*cop(num_modes, 2*i+2))\n",
    "        hop_ham += conj(t)*(cdg(num_modes, 2*i+1)*cop(num_modes, 2*i-1)+ cdg(num_modes, 2*i+2)*cop(num_modes, 2*i))\n",
    "        hop_ham += onsite_interaction*nop(num_modes, 2*i-1)*nop(num_modes, 2*i)\n",
    "    end\n",
    "    hop_ham += onsite_interaction*nop(num_modes, 2*num_sites-1)*nop(num_modes, 2*num_sites)\n",
    "\n",
    "    if boundary_condition == \"periodic\"\n",
    "        hop_ham += t*(cdg(num_modes, 2*num_sites-1)*cop(num_modes, 1) + cdg(num_modes, 2*num_sites)*cop(num_modes, 2))\n",
    "        hop_ham += conj(t)*(cdg(num_modes, 1)*cop(num_modes, 2*num_sites-1) + cdg(num_modes, 2)*cop(num_modes, 2*num_sites))\n",
    "    end\n",
    "    return hop_ham[indices, indices]\n",
    "end;"
   ],
   "outputs": [],
   "metadata": {}
  },
  {
   "cell_type": "code",
   "execution_count": 237,
   "source": [
    "fhm_ham = fermi_hubbard_model(5, 2, -1, 5)\n",
    "eigen(Matrix(fhm_ham))"
   ],
   "outputs": [
    {
     "output_type": "execute_result",
     "data": {
      "text/plain": [
       "Eigen{Float64, Float64, Matrix{Float64}, Vector{Float64}}\n",
       "values:\n",
       "45-element Vector{Float64}:\n",
       " 12.04559486222365\n",
       " 12.267949192431118\n",
       " 12.267949192431125\n",
       " 12.267949192431129\n",
       " 12.97329688278526\n",
       " 13.267949192431118\n",
       " 13.267949192431125\n",
       " 13.267949192431125\n",
       " 13.612205304744585\n",
       " 13.999999999999998\n",
       " 14.0\n",
       " 14.000000000000005\n",
       " 14.01356642560259\n",
       "  ⋮\n",
       " 16.732050807568864\n",
       " 16.732050807568864\n",
       " 16.732050807568882\n",
       " 17.462745391944164\n",
       " 17.73205080756888\n",
       " 17.732050807568882\n",
       " 17.732050807568886\n",
       " 19.999999999999993\n",
       " 20.148974580307225\n",
       " 20.51273596120879\n",
       " 20.934259175768407\n",
       " 21.271135682312092\n",
       "vectors:\n",
       "45×45 Matrix{Float64}:\n",
       " -0.0274002     5.55112e-17  -1.73472e-16  …  -0.339492      0.16916\n",
       " -4.49462e-17   0.0411866     0.0063478        3.20412e-19   2.53831e-20\n",
       "  0.108976      0.0554085    -0.0457315       -0.158587      0.107513\n",
       "  1.32789e-16  -0.112524     -0.0173425        6.61755e-19   1.59181e-19\n",
       " -0.202897     -0.151379      0.124941        -0.0450878     0.0492362\n",
       " -2.01999e-16   0.15371       0.0236903    …   1.43304e-18   5.71721e-19\n",
       "  0.234876      0.206787     -0.170672        -0.00759788    0.0190552\n",
       "  1.67312e-16  -0.112524     -0.0173425        2.08201e-18   1.06973e-18\n",
       " -0.159        -0.151379      0.124941        -1.97758e-16   0.0060771\n",
       " -0.108976      0.0554085    -0.0457315        0.158587     -0.107513\n",
       "  6.95747e-17  -0.0576889    -0.0833157    …  -9.07907e-20  -2.99751e-19\n",
       "  0.202897     -0.151379      0.124941         0.0450878    -0.0492362\n",
       " -2.05552e-16   0.157609      0.227623         2.61259e-18  -1.87978e-18\n",
       "  ⋮                                        ⋱                \n",
       "  4.01014e-16  -0.112524     -0.0173425        6.51858e-17   3.91546e-17\n",
       " -0.202897     -0.151379      0.124941         0.0450878     0.0492362\n",
       " -0.255587      0.151379     -0.124941     …  -0.101378     -0.182199\n",
       "  3.79655e-16  -0.157609     -0.227623         2.27354e-16  -1.18695e-16\n",
       "  0.202897     -0.151379      0.124941        -0.0450878    -0.0492362\n",
       " -6.64991e-16   0.157609      0.227623         6.24157e-17  -1.56255e-16\n",
       " -0.0916632    -1.52656e-16  -5.55112e-17      0.556515      0.455831\n",
       " -5.55112e-16   0.0411866     0.0063478    …  -1.45717e-16   3.88578e-16\n",
       "  0.108976      0.0554085    -0.0457315        0.158587      0.107513\n",
       " -0.108976      0.0554085    -0.0457315       -0.158587     -0.107513\n",
       "  1.11022e-16  -0.0576889    -0.0833157       -3.33067e-16   0.0\n",
       " -0.0274002    -7.97412e-17   1.25361e-17      0.339492      0.16916"
      ]
     },
     "metadata": {},
     "execution_count": 237
    }
   ],
   "metadata": {}
  },
  {
   "cell_type": "code",
   "execution_count": null,
   "source": [],
   "outputs": [],
   "metadata": {}
  }
 ],
 "metadata": {
  "orig_nbformat": 4,
  "language_info": {
   "file_extension": ".jl",
   "name": "julia",
   "mimetype": "application/julia",
   "version": "1.6.1"
  },
  "kernelspec": {
   "name": "julia-1.6",
   "display_name": "Julia 1.6.1",
   "language": "julia"
  }
 },
 "nbformat": 4,
 "nbformat_minor": 2
}