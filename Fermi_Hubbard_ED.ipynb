{
 "cells": [
  {
   "cell_type": "code",
   "execution_count": 1,
   "source": [
    "using LinearAlgebra #線形代数パッケージ\n",
    "using Combinatorics #組み合わせ順列を扱うパッケージ\n",
    "using SparseArrays #疎行列を扱うパッケージ\n",
    "using Arpack #大規模な固有値問題のためのパッケージ"
   ],
   "outputs": [],
   "metadata": {}
  },
  {
   "cell_type": "markdown",
   "source": [
    "## **Jordan-Wigner 変換**"
   ],
   "metadata": {}
  },
  {
   "cell_type": "code",
   "execution_count": 26,
   "source": [
    "\"\"\"\n",
    "    jordan_wigner(num_modes::Integer, index::Integer)\n",
    "\n",
    "define a fermionic anihilation operator with index `index` among `num_modes` modes using the Jordan-Wigner transformation.\n",
    "\"\"\"\n",
    "function jordan_wigner(num_modes::Integer, index::Integer)\n",
    "    σ⁰ = [\n",
    "        1.0 0.0\n",
    "        0.0 1.0\n",
    "    ] |> sparse;\n",
    "    σ³ = [\n",
    "        1.0 0.0\n",
    "        0.0 -1.0\n",
    "    ] |> sparse;\n",
    "    σ⁻ = [\n",
    "        0.0 0.0\n",
    "        1.0 0.0\n",
    "    ] |> sparse;\n",
    "    pauli_strings = [-σ³ for i in 1:index-1]\n",
    "    append!(pauli_strings, [σ⁻]) # ! は破壊的処理(pythonで言うところの in_place = True) を意味する\n",
    "    append!(pauli_strings, [σ⁰ for i in index+1:num_modes])\n",
    "    return kron(pauli_strings...)\n",
    "end;"
   ],
   "outputs": [],
   "metadata": {}
  },
  {
   "cell_type": "code",
   "execution_count": 62,
   "source": [
    "@doc jordan_wigner"
   ],
   "outputs": [
    {
     "output_type": "execute_result",
     "data": {
      "text/plain": [
       "\u001b[36m  jordan_wigner(num_modes::Integer, index::Integer)\u001b[39m\n",
       "\n",
       "  define a fermionic anihilation operator with index \u001b[36mindex\u001b[39m among \u001b[36mnum_modes\u001b[39m\n",
       "  modes using the Jordan-Wigner transformation."
      ],
      "text/markdown": [
       "```\n",
       "jordan_wigner(num_modes::Integer, index::Integer)\n",
       "```\n",
       "\n",
       "define a fermionic anihilation operator with index `index` among `num_modes` modes using the Jordan-Wigner transformation.\n"
      ],
      "text/latex": [
       "\\begin{verbatim}\n",
       "jordan_wigner(num_modes::Integer, index::Integer)\n",
       "\\end{verbatim}\n",
       "define a fermionic anihilation operator with index \\texttt{index} among \\texttt{num\\_modes} modes using the Jordan-Wigner transformation.\n",
       "\n"
      ]
     },
     "metadata": {},
     "execution_count": 62
    }
   ],
   "metadata": {}
  },
  {
   "cell_type": "code",
   "execution_count": 69,
   "source": [
    "\"\"\"\n",
    "    get_index_from_nlist(nlist::Vector{Int}, num_sites::Int)\n",
    "\n",
    "get an array of integers such that when they are represented in terms of binary, the number of zeros corresponds to the pair of integers given by `nlist`. The number of digis in the binary representation is `length(nlist)*num_sites`.\n",
    "\n",
    "# Examples\n",
    "```jldoctest\n",
    "julia> nlist = [2, 1];\n",
    "\n",
    "julia> num_sites = 3;\n",
    "\n",
    "julia> 9-element Vector{Int64}:\n",
    "7\n",
    "13\n",
    "37\n",
    "19\n",
    "25\n",
    "49\n",
    "22\n",
    "28\n",
    "52\n",
    "```\n",
    "\"\"\"\n",
    "function get_index_from_nlist(nlist::Vector{Int}, num_sites::Int)::Vector{Int}\n",
    "    l = length(nlist)\n",
    "    num_digits = l*num_sites\n",
    "    base = reverse([2^i for i in 0:num_digits-1])\n",
    "    binary_array = Array{Any}(nothing, l)\n",
    "    for s in 1:l\n",
    "        seed_vector = ones(Integer, num_sites)\n",
    "        for i in 1:nlist[s]\n",
    "            seed_vector[i] = 0\n",
    "        end\n",
    "        binary_array[s] = unique(permutations(seed_vector)) \n",
    "    end\n",
    "    return_array = Int[]\n",
    "    for n_set in collect(Iterators.product(binary_array...))\n",
    "        h = hcat(n_set...)'\n",
    "        h = collect(Base.Flatten(h))\n",
    "        append!(return_array, dot(h, base))\n",
    "    end\n",
    "    return return_array\n",
    "end;"
   ],
   "outputs": [],
   "metadata": {}
  },
  {
   "cell_type": "markdown",
   "source": [
    "## **1次元鎖上の Fermi-Hubbard 模型**"
   ],
   "metadata": {}
  },
  {
   "cell_type": "code",
   "execution_count": 75,
   "source": [
    "\"\"\"\n",
    "    fermi_hubbard_model(num_sites::Integer, t::Number, onsite_interaction::Real; kwargs...)\n",
    "\n",
    "returns the Hamiltonian of the Fermi-Hubbard model on a one-dimensional chain.\n",
    "\n",
    "# Arguments\n",
    "- `num_sites::Integer`: the number of sites\n",
    "- `t::Number`: hopping parameter\n",
    "- `onsite_interaction::Real`: parameter for the on-site interaction\n",
    "- `boundary_condition::String=\"open\"`: boundary condition\n",
    "- `particle_num:Union{Integer, Nothing}=nothing`: specify the number of particle. If it is nothing, the function returns the Hamiltonian in the full Hilbert space\n",
    "- `nup::Union{Integer, Nothing}=nothing`: the number of up spins\n",
    "- `ndown::Union{Integer, Nothing}=nothing` the number of down spins\n",
    "\"\"\"\n",
    "function fermi_hubbard_model(num_sites::Integer, t::Number, onsite_interaction::Real; boundary_condition::String=\"open\", particle_num::Union{Integer, Nothing}=nothing, nup::Union{Integer, Nothing}=nothing, ndown::Union{Integer, Nothing}=nothing)\n",
    "    num_modes = 2*num_sites # the number of spin degrees of freedom times the number of sites\n",
    "    dim = 2^num_modes # the dimension of the Hilbert space\n",
    "    ham = spzeros(dim, dim) # initialize the Hamiltonian \n",
    "    cop_vec = [JordanWigner(num_modes, i) for i in 1:num_modes] # define the fermionic anihilation operators\n",
    "    cdg_vec = adjoint.(cop_vec) # define the fermionic creation operators\n",
    "    nop_vec = [cdg_vec[i]*cop_vec[i] for i in 1:num_modes] # define the number operators\n",
    "    for i in 1:num_sites-1\n",
    "        add_ham = t*(cdg_vec[2*i-1]*cop_vec[2*i+1] + cdg_vec[2*i]*cop_vec[2*i+2]) # hopping term\n",
    "        add_ham += adjoint(add_ham) # hopping term\n",
    "        add_ham += onsite_interaction*nop_vec[2*i-1]*nop_vec[2*i] # interaction term\n",
    "        ham += add_ham\n",
    "    end\n",
    "    ham += onsite_interaction*nop_vec[2*num_sites-1]*nop_vec[2*num_sites]\n",
    "\n",
    "    # boundary condition\n",
    "    if boundary_condition == \"periodic\" && num_sites > 2\n",
    "        add_ham = t*(cdg_vec[2*num_sites-1]*cop_vec[1] + cdg_vec[2*num_sites]*cop_vec[2])\n",
    "        add_ham += adjoint(add_ham)\n",
    "        ham += add_ham\n",
    "    end\n",
    "\n",
    "    if particle_num == nothing \n",
    "        return ham\n",
    "    else \n",
    "        if nup == nothing && ndown == nothing \n",
    "            indices = get_index_from_nlist([particle_num], num_modes) .+ 1\n",
    "            return ham[indices, indices]\n",
    "        elseif  typeof(nup) <: Integer && typeof(ndown) <: Integer \n",
    "            if nup + ndown == particle_num\n",
    "                indices = get_index_from_nlist([nup, ndown], num_sites) .+ 1\n",
    "                return ham[indices, indices]\n",
    "            else\n",
    "                println(\"$(nup) + $(ndown) is not $(particle_num).\")\n",
    "            end\n",
    "        else\n",
    "            println(\"nup and ndown must be Integer or Nothing, simulataneously.\")\n",
    "        end\n",
    "    end\n",
    "end;\n",
    "\n",
    "\"\"\"\n",
    "    lowest_energy(hamiltonian; kwargs...)\n",
    "get the lowest energy of `hamiltonian`.\n",
    "\n",
    "# Arguments\n",
    "- `hamiltonian`: target hamiltonian\n",
    "- `sparse::Bool=true`: if false, it converts `hamilaonian` to a dense matrix\n",
    "\"\"\"\n",
    "function lowest_energy(hamiltonian; sparse=true)::Real\n",
    "    if sparse == true\n",
    "        e, _ = eigs(hamiltonian, nev=1, which=:SR)\n",
    "        return e[1]\n",
    "    elseif sparse == false\n",
    "        ham = Hermitian(Matrix(hamiltonian))\n",
    "        e, _ = eigen(ham, 1:1)\n",
    "        return e[1]\n",
    "    end\n",
    "end;"
   ],
   "outputs": [],
   "metadata": {}
  },
  {
   "cell_type": "markdown",
   "source": [
    "## **対角化**"
   ],
   "metadata": {}
  },
  {
   "cell_type": "code",
   "execution_count": 80,
   "source": [
    "num_sites = 6\n",
    "t = -1.0\n",
    "u = 1.0\n",
    "@time fhm_ham = fermi_hubbard_model(num_sites, t, u, particle_num=6, nup=3, ndown=3)\n",
    "@time gs_energy = lowest_energy(fhm_ham, sparse=true)\n",
    "println(\"The ground state energy is $(gs_energy).\")"
   ],
   "outputs": [
    {
     "output_type": "stream",
     "name": "stdout",
     "text": [
      "  0.010057 seconds (16.20 k allocations: 12.250 MiB)\n",
      "  0.008998 seconds (462 allocations: 105.672 KiB)\n",
      "The ground state energy is -5.628893198968257.\n"
     ]
    }
   ],
   "metadata": {}
  },
  {
   "cell_type": "code",
   "execution_count": 81,
   "source": [
    "\"\"\"\n",
    "    u_dependence(num_sites::Integer, t::Number, umin::Real, umax::Real, length::Integer; kwargs...)\n",
    "calculate the ground-state energies for given parameters\n",
    "\n",
    "# Arguments\n",
    "- `num_sites::Integer`: the number of sites \n",
    "- `t::Number`: hopping parameter\n",
    "- `umin::Real`: the minimum value of the interaction parameters\n",
    "- `umax::Real`: the maximum value of the interaction parameters\n",
    "- `length::Integer`: the number of points\n",
    "- `boundary_condition::String=\"open\"`: boundary condition \n",
    "- `particle_num::Union{Integer, Nothing}=nothing`: the number of particles\n",
    "- `nup::Union{Integer, Nothing}=nothing`: the number of up spins\n",
    "- `ndown::Union{Integer, Nothing}=nothing` the number of down spins\n",
    "\"\"\"\n",
    "function u_dependence(num_sites::Integer, t::Number, umin::Real, umax::Real, length::Integer; boundary_condition::String=\"open\", particle_num::Union{Integer, Nothing}=nothing, nup::Union{Integer, Nothing}=nothing, ndown::Union{Integer, Nothing}=nothing)::Vector{Real}\n",
    "    energies = Real[]\n",
    "    for onsite_interaction in range(umin, umax, length=length)\n",
    "        fhm_ham = fermi_hubbard_model(\n",
    "            num_sites,\n",
    "            t,\n",
    "            onsite_interaction,\n",
    "            boundary_condition=boundary_condition,\n",
    "            particle_num=particle_num,\n",
    "            nup=nup,\n",
    "            ndown=ndown\n",
    "        )\n",
    "        e = lowest_energy(fhm_ham)\n",
    "        append!(energies, e)\n",
    "    end\n",
    "    return energies\n",
    "end;"
   ],
   "outputs": [],
   "metadata": {}
  },
  {
   "cell_type": "code",
   "execution_count": 82,
   "source": [
    "using Plots"
   ],
   "outputs": [],
   "metadata": {}
  },
  {
   "cell_type": "code",
   "execution_count": 92,
   "source": [
    "num_size = 10\n",
    "particle_num = 10\n",
    "nup = 5\n",
    "ndown = 5\n",
    "t = -1.0\n",
    "umin = -1.5\n",
    "umax = 1.5\n",
    "Δu = 0.1\n",
    "l = Int(floor((umax - umin)/Δu))\n",
    "u_list = collect(range(umin, umax, length=l))\n",
    "energies = u_dependence(\n",
    "    num_size,\n",
    "    t,\n",
    "    umin,\n",
    "    umax,\n",
    "    l,\n",
    "    boundary_condition=\"periodic\",\n",
    "    particle_num=particle_num,\n",
    "    nup=nup,\n",
    "    ndown=ndown\n",
    ")\n",
    "energies = round.(energies, digits=8)\n",
    "scatter(\n",
    "    u_list,\n",
    "    energies,\n",
    "    title=\"U vs ground state energy\",\n",
    "    xlabel=\"U\", \n",
    "    ylabel=\"energy\",\n",
    "    label=\"\"\n",
    ")|> display"
   ],
   "outputs": [
    {
     "output_type": "display_data",
     "data": {
      "image/svg+xml": "<?xml version=\"1.0\" encoding=\"utf-8\"?>\n<svg xmlns=\"http://www.w3.org/2000/svg\" xmlns:xlink=\"http://www.w3.org/1999/xlink\" width=\"600\" height=\"400\" viewBox=\"0 0 2400 1600\">\n<defs>\n  <clipPath id=\"clip350\">\n    <rect x=\"0\" y=\"0\" width=\"2400\" height=\"1600\"/>\n  </clipPath>\n</defs>\n<path clip-path=\"url(#clip350)\" d=\"\nM0 1600 L2400 1600 L2400 0 L0 0  Z\n  \" fill=\"#ffffff\" fill-rule=\"evenodd\" fill-opacity=\"1\"/>\n<defs>\n  <clipPath id=\"clip351\">\n    <rect x=\"480\" y=\"0\" width=\"1681\" height=\"1600\"/>\n  </clipPath>\n</defs>\n<path clip-path=\"url(#clip350)\" d=\"\nM242.621 1423.18 L2352.76 1423.18 L2352.76 123.472 L242.621 123.472  Z\n  \" fill=\"#ffffff\" fill-rule=\"evenodd\" fill-opacity=\"1\"/>\n<defs>\n  <clipPath id=\"clip352\">\n    <rect x=\"242\" y=\"123\" width=\"2111\" height=\"1301\"/>\n  </clipPath>\n</defs>\n<polyline clip-path=\"url(#clip352)\" style=\"stroke:#000000; stroke-linecap:butt; stroke-linejoin:round; stroke-width:2; stroke-opacity:0.1; fill:none\" points=\"\n  302.342,1423.18 302.342,123.472 \n  \"/>\n<polyline clip-path=\"url(#clip352)\" style=\"stroke:#000000; stroke-linecap:butt; stroke-linejoin:round; stroke-width:2; stroke-opacity:0.1; fill:none\" points=\"\n  634.124,1423.18 634.124,123.472 \n  \"/>\n<polyline clip-path=\"url(#clip352)\" style=\"stroke:#000000; stroke-linecap:butt; stroke-linejoin:round; stroke-width:2; stroke-opacity:0.1; fill:none\" points=\"\n  965.906,1423.18 965.906,123.472 \n  \"/>\n<polyline clip-path=\"url(#clip352)\" style=\"stroke:#000000; stroke-linecap:butt; stroke-linejoin:round; stroke-width:2; stroke-opacity:0.1; fill:none\" points=\"\n  1297.69,1423.18 1297.69,123.472 \n  \"/>\n<polyline clip-path=\"url(#clip352)\" style=\"stroke:#000000; stroke-linecap:butt; stroke-linejoin:round; stroke-width:2; stroke-opacity:0.1; fill:none\" points=\"\n  1629.47,1423.18 1629.47,123.472 \n  \"/>\n<polyline clip-path=\"url(#clip352)\" style=\"stroke:#000000; stroke-linecap:butt; stroke-linejoin:round; stroke-width:2; stroke-opacity:0.1; fill:none\" points=\"\n  1961.25,1423.18 1961.25,123.472 \n  \"/>\n<polyline clip-path=\"url(#clip352)\" style=\"stroke:#000000; stroke-linecap:butt; stroke-linejoin:round; stroke-width:2; stroke-opacity:0.1; fill:none\" points=\"\n  2293.04,1423.18 2293.04,123.472 \n  \"/>\n<polyline clip-path=\"url(#clip350)\" style=\"stroke:#000000; stroke-linecap:butt; stroke-linejoin:round; stroke-width:4; stroke-opacity:1; fill:none\" points=\"\n  242.621,1423.18 2352.76,1423.18 \n  \"/>\n<polyline clip-path=\"url(#clip350)\" style=\"stroke:#000000; stroke-linecap:butt; stroke-linejoin:round; stroke-width:4; stroke-opacity:1; fill:none\" points=\"\n  302.342,1423.18 302.342,1404.28 \n  \"/>\n<polyline clip-path=\"url(#clip350)\" style=\"stroke:#000000; stroke-linecap:butt; stroke-linejoin:round; stroke-width:4; stroke-opacity:1; fill:none\" points=\"\n  634.124,1423.18 634.124,1404.28 \n  \"/>\n<polyline clip-path=\"url(#clip350)\" style=\"stroke:#000000; stroke-linecap:butt; stroke-linejoin:round; stroke-width:4; stroke-opacity:1; fill:none\" points=\"\n  965.906,1423.18 965.906,1404.28 \n  \"/>\n<polyline clip-path=\"url(#clip350)\" style=\"stroke:#000000; stroke-linecap:butt; stroke-linejoin:round; stroke-width:4; stroke-opacity:1; fill:none\" points=\"\n  1297.69,1423.18 1297.69,1404.28 \n  \"/>\n<polyline clip-path=\"url(#clip350)\" style=\"stroke:#000000; stroke-linecap:butt; stroke-linejoin:round; stroke-width:4; stroke-opacity:1; fill:none\" points=\"\n  1629.47,1423.18 1629.47,1404.28 \n  \"/>\n<polyline clip-path=\"url(#clip350)\" style=\"stroke:#000000; stroke-linecap:butt; stroke-linejoin:round; stroke-width:4; stroke-opacity:1; fill:none\" points=\"\n  1961.25,1423.18 1961.25,1404.28 \n  \"/>\n<polyline clip-path=\"url(#clip350)\" style=\"stroke:#000000; stroke-linecap:butt; stroke-linejoin:round; stroke-width:4; stroke-opacity:1; fill:none\" points=\"\n  2293.04,1423.18 2293.04,1404.28 \n  \"/>\n<path clip-path=\"url(#clip350)\" d=\"M249.367 1467.02 L279.043 1467.02 L279.043 1470.96 L249.367 1470.96 L249.367 1467.02 Z\" fill=\"#000000\" fill-rule=\"evenodd\" fill-opacity=\"1\" /><path clip-path=\"url(#clip350)\" d=\"M289.946 1479.92 L297.585 1479.92 L297.585 1453.55 L289.275 1455.22 L289.275 1450.96 L297.538 1449.29 L302.214 1449.29 L302.214 1479.92 L309.853 1479.92 L309.853 1483.85 L289.946 1483.85 L289.946 1479.92 Z\" fill=\"#000000\" fill-rule=\"evenodd\" fill-opacity=\"1\" /><path clip-path=\"url(#clip350)\" d=\"M319.298 1477.97 L324.182 1477.97 L324.182 1483.85 L319.298 1483.85 L319.298 1477.97 Z\" fill=\"#000000\" fill-rule=\"evenodd\" fill-opacity=\"1\" /><path clip-path=\"url(#clip350)\" d=\"M334.413 1449.29 L352.77 1449.29 L352.77 1453.23 L338.696 1453.23 L338.696 1461.7 Q339.714 1461.35 340.733 1461.19 Q341.751 1461 342.77 1461 Q348.557 1461 351.936 1464.18 Q355.316 1467.35 355.316 1472.76 Q355.316 1478.34 351.844 1481.44 Q348.371 1484.52 342.052 1484.52 Q339.876 1484.52 337.608 1484.15 Q335.362 1483.78 332.955 1483.04 L332.955 1478.34 Q335.038 1479.48 337.26 1480.03 Q339.483 1480.59 341.959 1480.59 Q345.964 1480.59 348.302 1478.48 Q350.64 1476.38 350.64 1472.76 Q350.64 1469.15 348.302 1467.05 Q345.964 1464.94 341.959 1464.94 Q340.084 1464.94 338.209 1465.36 Q336.358 1465.77 334.413 1466.65 L334.413 1449.29 Z\" fill=\"#000000\" fill-rule=\"evenodd\" fill-opacity=\"1\" /><path clip-path=\"url(#clip350)\" d=\"M580.652 1467.02 L610.328 1467.02 L610.328 1470.96 L580.652 1470.96 L580.652 1467.02 Z\" fill=\"#000000\" fill-rule=\"evenodd\" fill-opacity=\"1\" /><path clip-path=\"url(#clip350)\" d=\"M621.23 1479.92 L628.869 1479.92 L628.869 1453.55 L620.559 1455.22 L620.559 1450.96 L628.823 1449.29 L633.499 1449.29 L633.499 1479.92 L641.138 1479.92 L641.138 1483.85 L621.23 1483.85 L621.23 1479.92 Z\" fill=\"#000000\" fill-rule=\"evenodd\" fill-opacity=\"1\" /><path clip-path=\"url(#clip350)\" d=\"M650.582 1477.97 L655.466 1477.97 L655.466 1483.85 L650.582 1483.85 L650.582 1477.97 Z\" fill=\"#000000\" fill-rule=\"evenodd\" fill-opacity=\"1\" /><path clip-path=\"url(#clip350)\" d=\"M675.651 1452.37 Q672.04 1452.37 670.212 1455.94 Q668.406 1459.48 668.406 1466.61 Q668.406 1473.71 670.212 1477.28 Q672.04 1480.82 675.651 1480.82 Q679.286 1480.82 681.091 1477.28 Q682.92 1473.71 682.92 1466.61 Q682.92 1459.48 681.091 1455.94 Q679.286 1452.37 675.651 1452.37 M675.651 1448.67 Q681.462 1448.67 684.517 1453.27 Q687.596 1457.86 687.596 1466.61 Q687.596 1475.33 684.517 1479.94 Q681.462 1484.52 675.651 1484.52 Q669.841 1484.52 666.763 1479.94 Q663.707 1475.33 663.707 1466.61 Q663.707 1457.86 666.763 1453.27 Q669.841 1448.67 675.651 1448.67 Z\" fill=\"#000000\" fill-rule=\"evenodd\" fill-opacity=\"1\" /><path clip-path=\"url(#clip350)\" d=\"M912.932 1467.02 L942.608 1467.02 L942.608 1470.96 L912.932 1470.96 L912.932 1467.02 Z\" fill=\"#000000\" fill-rule=\"evenodd\" fill-opacity=\"1\" /><path clip-path=\"url(#clip350)\" d=\"M962.7 1452.37 Q959.089 1452.37 957.26 1455.94 Q955.455 1459.48 955.455 1466.61 Q955.455 1473.71 957.26 1477.28 Q959.089 1480.82 962.7 1480.82 Q966.334 1480.82 968.14 1477.28 Q969.969 1473.71 969.969 1466.61 Q969.969 1459.48 968.14 1455.94 Q966.334 1452.37 962.7 1452.37 M962.7 1448.67 Q968.51 1448.67 971.566 1453.27 Q974.644 1457.86 974.644 1466.61 Q974.644 1475.33 971.566 1479.94 Q968.51 1484.52 962.7 1484.52 Q956.89 1484.52 953.811 1479.94 Q950.756 1475.33 950.756 1466.61 Q950.756 1457.86 953.811 1453.27 Q956.89 1448.67 962.7 1448.67 Z\" fill=\"#000000\" fill-rule=\"evenodd\" fill-opacity=\"1\" /><path clip-path=\"url(#clip350)\" d=\"M982.862 1477.97 L987.746 1477.97 L987.746 1483.85 L982.862 1483.85 L982.862 1477.97 Z\" fill=\"#000000\" fill-rule=\"evenodd\" fill-opacity=\"1\" /><path clip-path=\"url(#clip350)\" d=\"M997.978 1449.29 L1016.33 1449.29 L1016.33 1453.23 L1002.26 1453.23 L1002.26 1461.7 Q1003.28 1461.35 1004.3 1461.19 Q1005.32 1461 1006.33 1461 Q1012.12 1461 1015.5 1464.18 Q1018.88 1467.35 1018.88 1472.76 Q1018.88 1478.34 1015.41 1481.44 Q1011.94 1484.52 1005.62 1484.52 Q1003.44 1484.52 1001.17 1484.15 Q998.927 1483.78 996.519 1483.04 L996.519 1478.34 Q998.603 1479.48 1000.82 1480.03 Q1003.05 1480.59 1005.52 1480.59 Q1009.53 1480.59 1011.87 1478.48 Q1014.2 1476.38 1014.2 1472.76 Q1014.2 1469.15 1011.87 1467.05 Q1009.53 1464.94 1005.52 1464.94 Q1003.65 1464.94 1001.77 1465.36 Q999.922 1465.77 997.978 1466.65 L997.978 1449.29 Z\" fill=\"#000000\" fill-rule=\"evenodd\" fill-opacity=\"1\" /><path clip-path=\"url(#clip350)\" d=\"M1275.07 1452.37 Q1271.46 1452.37 1269.63 1455.94 Q1267.83 1459.48 1267.83 1466.61 Q1267.83 1473.71 1269.63 1477.28 Q1271.46 1480.82 1275.07 1480.82 Q1278.71 1480.82 1280.51 1477.28 Q1282.34 1473.71 1282.34 1466.61 Q1282.34 1459.48 1280.51 1455.94 Q1278.71 1452.37 1275.07 1452.37 M1275.07 1448.67 Q1280.88 1448.67 1283.94 1453.27 Q1287.02 1457.86 1287.02 1466.61 Q1287.02 1475.33 1283.94 1479.94 Q1280.88 1484.52 1275.07 1484.52 Q1269.26 1484.52 1266.18 1479.94 Q1263.13 1475.33 1263.13 1466.61 Q1263.13 1457.86 1266.18 1453.27 Q1269.26 1448.67 1275.07 1448.67 Z\" fill=\"#000000\" fill-rule=\"evenodd\" fill-opacity=\"1\" /><path clip-path=\"url(#clip350)\" d=\"M1295.23 1477.97 L1300.12 1477.97 L1300.12 1483.85 L1295.23 1483.85 L1295.23 1477.97 Z\" fill=\"#000000\" fill-rule=\"evenodd\" fill-opacity=\"1\" /><path clip-path=\"url(#clip350)\" d=\"M1320.3 1452.37 Q1316.69 1452.37 1314.86 1455.94 Q1313.06 1459.48 1313.06 1466.61 Q1313.06 1473.71 1314.86 1477.28 Q1316.69 1480.82 1320.3 1480.82 Q1323.94 1480.82 1325.74 1477.28 Q1327.57 1473.71 1327.57 1466.61 Q1327.57 1459.48 1325.74 1455.94 Q1323.94 1452.37 1320.3 1452.37 M1320.3 1448.67 Q1326.11 1448.67 1329.17 1453.27 Q1332.25 1457.86 1332.25 1466.61 Q1332.25 1475.33 1329.17 1479.94 Q1326.11 1484.52 1320.3 1484.52 Q1314.49 1484.52 1311.42 1479.94 Q1308.36 1475.33 1308.36 1466.61 Q1308.36 1457.86 1311.42 1453.27 Q1314.49 1448.67 1320.3 1448.67 Z\" fill=\"#000000\" fill-rule=\"evenodd\" fill-opacity=\"1\" /><path clip-path=\"url(#clip350)\" d=\"M1607.35 1452.37 Q1603.74 1452.37 1601.91 1455.94 Q1600.11 1459.48 1600.11 1466.61 Q1600.11 1473.71 1601.91 1477.28 Q1603.74 1480.82 1607.35 1480.82 Q1610.99 1480.82 1612.79 1477.28 Q1614.62 1473.71 1614.62 1466.61 Q1614.62 1459.48 1612.79 1455.94 Q1610.99 1452.37 1607.35 1452.37 M1607.35 1448.67 Q1613.16 1448.67 1616.22 1453.27 Q1619.3 1457.86 1619.3 1466.61 Q1619.3 1475.33 1616.22 1479.94 Q1613.16 1484.52 1607.35 1484.52 Q1601.54 1484.52 1598.46 1479.94 Q1595.41 1475.33 1595.41 1466.61 Q1595.41 1457.86 1598.46 1453.27 Q1601.54 1448.67 1607.35 1448.67 Z\" fill=\"#000000\" fill-rule=\"evenodd\" fill-opacity=\"1\" /><path clip-path=\"url(#clip350)\" d=\"M1627.51 1477.97 L1632.4 1477.97 L1632.4 1483.85 L1627.51 1483.85 L1627.51 1477.97 Z\" fill=\"#000000\" fill-rule=\"evenodd\" fill-opacity=\"1\" /><path clip-path=\"url(#clip350)\" d=\"M1642.63 1449.29 L1660.99 1449.29 L1660.99 1453.23 L1646.91 1453.23 L1646.91 1461.7 Q1647.93 1461.35 1648.95 1461.19 Q1649.97 1461 1650.99 1461 Q1656.77 1461 1660.15 1464.18 Q1663.53 1467.35 1663.53 1472.76 Q1663.53 1478.34 1660.06 1481.44 Q1656.59 1484.52 1650.27 1484.52 Q1648.09 1484.52 1645.82 1484.15 Q1643.58 1483.78 1641.17 1483.04 L1641.17 1478.34 Q1643.26 1479.48 1645.48 1480.03 Q1647.7 1480.59 1650.18 1480.59 Q1654.18 1480.59 1656.52 1478.48 Q1658.86 1476.38 1658.86 1472.76 Q1658.86 1469.15 1656.52 1467.05 Q1654.18 1464.94 1650.18 1464.94 Q1648.3 1464.94 1646.43 1465.36 Q1644.57 1465.77 1642.63 1466.65 L1642.63 1449.29 Z\" fill=\"#000000\" fill-rule=\"evenodd\" fill-opacity=\"1\" /><path clip-path=\"url(#clip350)\" d=\"M1928.41 1479.92 L1936.04 1479.92 L1936.04 1453.55 L1927.73 1455.22 L1927.73 1450.96 L1936 1449.29 L1940.67 1449.29 L1940.67 1479.92 L1948.31 1479.92 L1948.31 1483.85 L1928.41 1483.85 L1928.41 1479.92 Z\" fill=\"#000000\" fill-rule=\"evenodd\" fill-opacity=\"1\" /><path clip-path=\"url(#clip350)\" d=\"M1957.76 1477.97 L1962.64 1477.97 L1962.64 1483.85 L1957.76 1483.85 L1957.76 1477.97 Z\" fill=\"#000000\" fill-rule=\"evenodd\" fill-opacity=\"1\" /><path clip-path=\"url(#clip350)\" d=\"M1982.83 1452.37 Q1979.22 1452.37 1977.39 1455.94 Q1975.58 1459.48 1975.58 1466.61 Q1975.58 1473.71 1977.39 1477.28 Q1979.22 1480.82 1982.83 1480.82 Q1986.46 1480.82 1988.27 1477.28 Q1990.1 1473.71 1990.1 1466.61 Q1990.1 1459.48 1988.27 1455.94 Q1986.46 1452.37 1982.83 1452.37 M1982.83 1448.67 Q1988.64 1448.67 1991.69 1453.27 Q1994.77 1457.86 1994.77 1466.61 Q1994.77 1475.33 1991.69 1479.94 Q1988.64 1484.52 1982.83 1484.52 Q1977.02 1484.52 1973.94 1479.94 Q1970.88 1475.33 1970.88 1466.61 Q1970.88 1457.86 1973.94 1453.27 Q1977.02 1448.67 1982.83 1448.67 Z\" fill=\"#000000\" fill-rule=\"evenodd\" fill-opacity=\"1\" /><path clip-path=\"url(#clip350)\" d=\"M2260.69 1479.92 L2268.32 1479.92 L2268.32 1453.55 L2260.01 1455.22 L2260.01 1450.96 L2268.28 1449.29 L2272.95 1449.29 L2272.95 1479.92 L2280.59 1479.92 L2280.59 1483.85 L2260.69 1483.85 L2260.69 1479.92 Z\" fill=\"#000000\" fill-rule=\"evenodd\" fill-opacity=\"1\" /><path clip-path=\"url(#clip350)\" d=\"M2290.04 1477.97 L2294.92 1477.97 L2294.92 1483.85 L2290.04 1483.85 L2290.04 1477.97 Z\" fill=\"#000000\" fill-rule=\"evenodd\" fill-opacity=\"1\" /><path clip-path=\"url(#clip350)\" d=\"M2305.15 1449.29 L2323.51 1449.29 L2323.51 1453.23 L2309.44 1453.23 L2309.44 1461.7 Q2310.45 1461.35 2311.47 1461.19 Q2312.49 1461 2313.51 1461 Q2319.3 1461 2322.68 1464.18 Q2326.06 1467.35 2326.06 1472.76 Q2326.06 1478.34 2322.58 1481.44 Q2319.11 1484.52 2312.79 1484.52 Q2310.62 1484.52 2308.35 1484.15 Q2306.1 1483.78 2303.69 1483.04 L2303.69 1478.34 Q2305.78 1479.48 2308 1480.03 Q2310.22 1480.59 2312.7 1480.59 Q2316.7 1480.59 2319.04 1478.48 Q2321.38 1476.38 2321.38 1472.76 Q2321.38 1469.15 2319.04 1467.05 Q2316.7 1464.94 2312.7 1464.94 Q2310.82 1464.94 2308.95 1465.36 Q2307.1 1465.77 2305.15 1466.65 L2305.15 1449.29 Z\" fill=\"#000000\" fill-rule=\"evenodd\" fill-opacity=\"1\" /><path clip-path=\"url(#clip350)\" d=\"M1279.5 1520.52 L1285.96 1520.52 L1285.96 1549.39 Q1285.96 1557.03 1288.73 1560.4 Q1291.5 1563.75 1297.7 1563.75 Q1303.88 1563.75 1306.65 1560.4 Q1309.42 1557.03 1309.42 1549.39 L1309.42 1520.52 L1315.88 1520.52 L1315.88 1550.19 Q1315.88 1559.48 1311.26 1564.22 Q1306.68 1568.97 1297.7 1568.97 Q1288.7 1568.97 1284.08 1564.22 Q1279.5 1559.48 1279.5 1550.19 L1279.5 1520.52 Z\" fill=\"#000000\" fill-rule=\"evenodd\" fill-opacity=\"1\" /><polyline clip-path=\"url(#clip352)\" style=\"stroke:#000000; stroke-linecap:butt; stroke-linejoin:round; stroke-width:2; stroke-opacity:0.1; fill:none\" points=\"\n  242.621,1209.77 2352.76,1209.77 \n  \"/>\n<polyline clip-path=\"url(#clip352)\" style=\"stroke:#000000; stroke-linecap:butt; stroke-linejoin:round; stroke-width:2; stroke-opacity:0.1; fill:none\" points=\"\n  242.621,882.804 2352.76,882.804 \n  \"/>\n<polyline clip-path=\"url(#clip352)\" style=\"stroke:#000000; stroke-linecap:butt; stroke-linejoin:round; stroke-width:2; stroke-opacity:0.1; fill:none\" points=\"\n  242.621,555.834 2352.76,555.834 \n  \"/>\n<polyline clip-path=\"url(#clip352)\" style=\"stroke:#000000; stroke-linecap:butt; stroke-linejoin:round; stroke-width:2; stroke-opacity:0.1; fill:none\" points=\"\n  242.621,228.863 2352.76,228.863 \n  \"/>\n<polyline clip-path=\"url(#clip350)\" style=\"stroke:#000000; stroke-linecap:butt; stroke-linejoin:round; stroke-width:4; stroke-opacity:1; fill:none\" points=\"\n  242.621,1423.18 242.621,123.472 \n  \"/>\n<polyline clip-path=\"url(#clip350)\" style=\"stroke:#000000; stroke-linecap:butt; stroke-linejoin:round; stroke-width:4; stroke-opacity:1; fill:none\" points=\"\n  242.621,1209.77 261.518,1209.77 \n  \"/>\n<polyline clip-path=\"url(#clip350)\" style=\"stroke:#000000; stroke-linecap:butt; stroke-linejoin:round; stroke-width:4; stroke-opacity:1; fill:none\" points=\"\n  242.621,882.804 261.518,882.804 \n  \"/>\n<polyline clip-path=\"url(#clip350)\" style=\"stroke:#000000; stroke-linecap:butt; stroke-linejoin:round; stroke-width:4; stroke-opacity:1; fill:none\" points=\"\n  242.621,555.834 261.518,555.834 \n  \"/>\n<polyline clip-path=\"url(#clip350)\" style=\"stroke:#000000; stroke-linecap:butt; stroke-linejoin:round; stroke-width:4; stroke-opacity:1; fill:none\" points=\"\n  242.621,228.863 261.518,228.863 \n  \"/>\n<path clip-path=\"url(#clip350)\" d=\"M114.584 1210.23 L144.26 1210.23 L144.26 1214.16 L114.584 1214.16 L114.584 1210.23 Z\" fill=\"#000000\" fill-rule=\"evenodd\" fill-opacity=\"1\" /><path clip-path=\"url(#clip350)\" d=\"M155.163 1223.12 L162.802 1223.12 L162.802 1196.75 L154.491 1198.42 L154.491 1194.16 L162.755 1192.49 L167.431 1192.49 L167.431 1223.12 L175.07 1223.12 L175.07 1227.05 L155.163 1227.05 L155.163 1223.12 Z\" fill=\"#000000\" fill-rule=\"evenodd\" fill-opacity=\"1\" /><path clip-path=\"url(#clip350)\" d=\"M195.093 1207.91 Q191.945 1207.91 190.093 1210.06 Q188.264 1212.22 188.264 1215.97 Q188.264 1219.69 190.093 1221.87 Q191.945 1224.02 195.093 1224.02 Q198.241 1224.02 200.07 1221.87 Q201.922 1219.69 201.922 1215.97 Q201.922 1212.22 200.07 1210.06 Q198.241 1207.91 195.093 1207.91 M204.375 1193.26 L204.375 1197.52 Q202.616 1196.68 200.811 1196.24 Q199.028 1195.8 197.269 1195.8 Q192.639 1195.8 190.186 1198.93 Q187.755 1202.05 187.408 1208.37 Q188.774 1206.36 190.834 1205.3 Q192.894 1204.21 195.371 1204.21 Q200.579 1204.21 203.588 1207.38 Q206.621 1210.53 206.621 1215.97 Q206.621 1221.29 203.473 1224.51 Q200.325 1227.73 195.093 1227.73 Q189.098 1227.73 185.926 1223.14 Q182.755 1218.54 182.755 1209.81 Q182.755 1201.61 186.644 1196.75 Q190.533 1191.87 197.084 1191.87 Q198.843 1191.87 200.625 1192.22 Q202.431 1192.56 204.375 1193.26 Z\" fill=\"#000000\" fill-rule=\"evenodd\" fill-opacity=\"1\" /><path clip-path=\"url(#clip350)\" d=\"M114.26 883.255 L143.936 883.255 L143.936 887.191 L114.26 887.191 L114.26 883.255 Z\" fill=\"#000000\" fill-rule=\"evenodd\" fill-opacity=\"1\" /><path clip-path=\"url(#clip350)\" d=\"M154.839 896.149 L162.477 896.149 L162.477 869.783 L154.167 871.45 L154.167 867.191 L162.431 865.524 L167.107 865.524 L167.107 896.149 L174.746 896.149 L174.746 900.084 L154.839 900.084 L154.839 896.149 Z\" fill=\"#000000\" fill-rule=\"evenodd\" fill-opacity=\"1\" /><path clip-path=\"url(#clip350)\" d=\"M197.037 869.598 L185.232 888.047 L197.037 888.047 L197.037 869.598 M195.811 865.524 L201.69 865.524 L201.69 888.047 L206.621 888.047 L206.621 891.936 L201.69 891.936 L201.69 900.084 L197.037 900.084 L197.037 891.936 L181.436 891.936 L181.436 887.422 L195.811 865.524 Z\" fill=\"#000000\" fill-rule=\"evenodd\" fill-opacity=\"1\" /><path clip-path=\"url(#clip350)\" d=\"M116.343 556.285 L146.019 556.285 L146.019 560.22 L116.343 560.22 L116.343 556.285 Z\" fill=\"#000000\" fill-rule=\"evenodd\" fill-opacity=\"1\" /><path clip-path=\"url(#clip350)\" d=\"M156.922 569.178 L164.561 569.178 L164.561 542.813 L156.251 544.479 L156.251 540.22 L164.515 538.554 L169.19 538.554 L169.19 569.178 L176.829 569.178 L176.829 573.114 L156.922 573.114 L156.922 569.178 Z\" fill=\"#000000\" fill-rule=\"evenodd\" fill-opacity=\"1\" /><path clip-path=\"url(#clip350)\" d=\"M190.301 569.178 L206.621 569.178 L206.621 573.114 L184.676 573.114 L184.676 569.178 Q187.338 566.424 191.922 561.794 Q196.528 557.141 197.709 555.799 Q199.954 553.276 200.834 551.54 Q201.737 549.78 201.737 548.091 Q201.737 545.336 199.792 543.6 Q197.871 541.864 194.769 541.864 Q192.57 541.864 190.116 542.628 Q187.686 543.392 184.908 544.942 L184.908 540.22 Q187.732 539.086 190.186 538.507 Q192.639 537.929 194.676 537.929 Q200.047 537.929 203.241 540.614 Q206.436 543.299 206.436 547.79 Q206.436 549.919 205.625 551.841 Q204.838 553.739 202.732 556.331 Q202.153 557.003 199.051 560.22 Q195.95 563.415 190.301 569.178 Z\" fill=\"#000000\" fill-rule=\"evenodd\" fill-opacity=\"1\" /><path clip-path=\"url(#clip350)\" d=\"M114.746 229.314 L144.422 229.314 L144.422 233.25 L114.746 233.25 L114.746 229.314 Z\" fill=\"#000000\" fill-rule=\"evenodd\" fill-opacity=\"1\" /><path clip-path=\"url(#clip350)\" d=\"M155.325 242.208 L162.964 242.208 L162.964 215.842 L154.653 217.509 L154.653 213.25 L162.917 211.583 L167.593 211.583 L167.593 242.208 L175.232 242.208 L175.232 246.143 L155.325 246.143 L155.325 242.208 Z\" fill=\"#000000\" fill-rule=\"evenodd\" fill-opacity=\"1\" /><path clip-path=\"url(#clip350)\" d=\"M194.676 214.662 Q191.065 214.662 189.237 218.227 Q187.431 221.768 187.431 228.898 Q187.431 236.004 189.237 239.569 Q191.065 243.111 194.676 243.111 Q198.311 243.111 200.116 239.569 Q201.945 236.004 201.945 228.898 Q201.945 221.768 200.116 218.227 Q198.311 214.662 194.676 214.662 M194.676 210.958 Q200.487 210.958 203.542 215.565 Q206.621 220.148 206.621 228.898 Q206.621 237.625 203.542 242.231 Q200.487 246.814 194.676 246.814 Q188.866 246.814 185.788 242.231 Q182.732 237.625 182.732 228.898 Q182.732 220.148 185.788 215.565 Q188.866 210.958 194.676 210.958 Z\" fill=\"#000000\" fill-rule=\"evenodd\" fill-opacity=\"1\" /><path clip-path=\"url(#clip350)\" d=\"M44.7161 851.083 L47.5806 851.083 L47.5806 878.01 Q53.6281 877.628 56.8109 874.382 Q59.9619 871.103 59.9619 865.279 Q59.9619 861.905 59.1344 858.754 Q58.3069 855.571 56.6518 852.452 L62.1899 852.452 Q63.5267 855.603 64.227 858.913 Q64.9272 862.223 64.9272 865.629 Q64.9272 874.159 59.9619 879.156 Q54.9967 884.121 46.5303 884.121 Q37.7774 884.121 32.6531 879.41 Q27.4968 874.668 27.4968 866.647 Q27.4968 859.454 32.1438 855.284 Q36.7589 851.083 44.7161 851.083 M42.9973 856.94 Q38.1912 857.003 35.3266 859.645 Q32.4621 862.255 32.4621 866.584 Q32.4621 871.485 35.2312 874.445 Q38.0002 877.373 43.0292 877.819 L42.9973 856.94 Z\" fill=\"#000000\" fill-rule=\"evenodd\" fill-opacity=\"1\" /><path clip-path=\"url(#clip350)\" d=\"M42.4881 811.839 L64.0042 811.839 L64.0042 817.695 L42.679 817.695 Q37.6183 817.695 35.1038 819.668 Q32.5894 821.642 32.5894 825.588 Q32.5894 830.331 35.6131 833.068 Q38.6368 835.805 43.8567 835.805 L64.0042 835.805 L64.0042 841.694 L28.3562 841.694 L28.3562 835.805 L33.8944 835.805 Q30.6797 833.705 29.0883 830.872 Q27.4968 828.007 27.4968 824.283 Q27.4968 818.141 31.3163 814.99 Q35.1038 811.839 42.4881 811.839 Z\" fill=\"#000000\" fill-rule=\"evenodd\" fill-opacity=\"1\" /><path clip-path=\"url(#clip350)\" d=\"M44.7161 769.666 L47.5806 769.666 L47.5806 796.593 Q53.6281 796.211 56.8109 792.964 Q59.9619 789.686 59.9619 783.861 Q59.9619 780.487 59.1344 777.336 Q58.3069 774.154 56.6518 771.034 L62.1899 771.034 Q63.5267 774.185 64.227 777.496 Q64.9272 780.806 64.9272 784.211 Q64.9272 792.741 59.9619 797.738 Q54.9967 802.704 46.5303 802.704 Q37.7774 802.704 32.6531 797.993 Q27.4968 793.251 27.4968 785.23 Q27.4968 778.037 32.1438 773.867 Q36.7589 769.666 44.7161 769.666 M42.9973 775.522 Q38.1912 775.586 35.3266 778.228 Q32.4621 780.838 32.4621 785.166 Q32.4621 790.068 35.2312 793.028 Q38.0002 795.956 43.0292 796.402 L42.9973 775.522 Z\" fill=\"#000000\" fill-rule=\"evenodd\" fill-opacity=\"1\" /><path clip-path=\"url(#clip350)\" d=\"M33.8307 739.397 Q33.2578 740.383 33.0032 741.561 Q32.7167 742.707 32.7167 744.107 Q32.7167 749.073 35.9632 751.746 Q39.1779 754.388 45.2253 754.388 L64.0042 754.388 L64.0042 760.276 L28.3562 760.276 L28.3562 754.388 L33.8944 754.388 Q30.6479 752.542 29.0883 749.582 Q27.4968 746.622 27.4968 742.389 Q27.4968 741.784 27.5923 741.052 Q27.656 740.32 27.8151 739.429 L33.8307 739.397 Z\" fill=\"#000000\" fill-rule=\"evenodd\" fill-opacity=\"1\" /><path clip-path=\"url(#clip350)\" d=\"M45.7664 710.942 Q39.4007 710.942 35.8996 713.584 Q32.3984 716.194 32.3984 720.936 Q32.3984 725.647 35.8996 728.289 Q39.4007 730.899 45.7664 730.899 Q52.1003 730.899 55.6014 728.289 Q59.1026 725.647 59.1026 720.936 Q59.1026 716.194 55.6014 713.584 Q52.1003 710.942 45.7664 710.942 M59.58 705.086 Q68.683 705.086 73.1071 709.128 Q77.5631 713.17 77.5631 721.509 Q77.5631 724.596 77.0857 727.334 Q76.6401 730.071 75.6852 732.649 L69.9879 732.649 Q71.3884 730.071 72.0568 727.557 Q72.7252 725.042 72.7252 722.432 Q72.7252 716.671 69.7015 713.807 Q66.7096 710.942 60.6303 710.942 L57.7339 710.942 Q60.885 712.756 62.4446 715.589 Q64.0042 718.422 64.0042 722.369 Q64.0042 728.925 59.0071 732.936 Q54.01 736.946 45.7664 736.946 Q37.491 736.946 32.4939 732.936 Q27.4968 728.925 27.4968 722.369 Q27.4968 718.422 29.0564 715.589 Q30.616 712.756 33.7671 710.942 L28.3562 710.942 L28.3562 705.086 L59.58 705.086 Z\" fill=\"#000000\" fill-rule=\"evenodd\" fill-opacity=\"1\" /><path clip-path=\"url(#clip350)\" d=\"M67.3143 678.19 Q73.68 680.673 75.6216 683.028 Q77.5631 685.384 77.5631 689.33 L77.5631 694.009 L72.6615 694.009 L72.6615 690.572 Q72.6615 688.153 71.5157 686.816 Q70.3699 685.479 66.1048 683.856 L63.4312 682.806 L28.3562 697.224 L28.3562 691.017 L56.238 679.877 L28.3562 668.737 L28.3562 662.531 L67.3143 678.19 Z\" fill=\"#000000\" fill-rule=\"evenodd\" fill-opacity=\"1\" /><path clip-path=\"url(#clip350)\" d=\"M776.884 12.096 L785.107 12.096 L785.107 48.8377 Q785.107 58.5599 788.631 62.8538 Q792.156 67.1073 800.055 67.1073 Q807.914 67.1073 811.438 62.8538 Q814.962 58.5599 814.962 48.8377 L814.962 12.096 L823.186 12.096 L823.186 49.8504 Q823.186 61.6791 817.312 67.7149 Q811.479 73.7508 800.055 73.7508 Q788.591 73.7508 782.717 67.7149 Q776.884 61.6791 776.884 49.8504 L776.884 12.096 Z\" fill=\"#000000\" fill-rule=\"evenodd\" fill-opacity=\"1\" /><path clip-path=\"url(#clip350)\" d=\"M859.239 27.2059 L867.138 27.2059 L881.316 65.2844 L895.494 27.2059 L903.394 27.2059 L886.38 72.576 L876.253 72.576 L859.239 27.2059 Z\" fill=\"#000000\" fill-rule=\"evenodd\" fill-opacity=\"1\" /><path clip-path=\"url(#clip350)\" d=\"M942.606 28.5427 L942.606 35.5912 Q939.447 33.9709 936.044 33.1607 Q932.641 32.3505 928.995 32.3505 Q923.446 32.3505 920.65 34.0519 Q917.896 35.7533 917.896 39.156 Q917.896 41.7486 919.881 43.2475 Q921.866 44.7058 927.861 46.0426 L930.413 46.6097 Q938.353 48.3111 941.675 51.4303 Q945.037 54.509 945.037 60.0587 Q945.037 66.3781 940.014 70.0644 Q935.031 73.7508 926.281 73.7508 Q922.635 73.7508 918.665 73.0216 Q914.736 72.3329 910.361 70.9151 L910.361 63.2184 Q914.493 65.3654 918.503 66.4591 Q922.514 67.5124 926.443 67.5124 Q931.709 67.5124 934.545 65.73 Q937.381 63.9071 937.381 60.6258 Q937.381 57.5877 935.315 55.9673 Q933.289 54.3469 926.362 52.8481 L923.77 52.2405 Q916.843 50.7821 913.764 47.7845 Q910.685 44.7463 910.685 39.4801 Q910.685 33.0797 915.222 29.5959 Q919.759 26.1121 928.104 26.1121 Q932.236 26.1121 935.882 26.7198 Q939.528 27.3274 942.606 28.5427 Z\" fill=\"#000000\" fill-rule=\"evenodd\" fill-opacity=\"1\" /><path clip-path=\"url(#clip350)\" d=\"M1013.13 49.3643 Q1013.13 41.2625 1009.77 36.8065 Q1006.45 32.3505 1000.41 32.3505 Q994.417 32.3505 991.055 36.8065 Q987.733 41.2625 987.733 49.3643 Q987.733 57.4256 991.055 61.8816 Q994.417 66.3376 1000.41 66.3376 Q1006.45 66.3376 1009.77 61.8816 Q1013.13 57.4256 1013.13 49.3643 M1020.59 66.9452 Q1020.59 78.5308 1015.44 84.1616 Q1010.3 89.8329 999.684 89.8329 Q995.754 89.8329 992.27 89.2252 Q988.787 88.6581 985.505 87.4428 L985.505 80.1917 Q988.787 81.9741 991.987 82.8248 Q995.187 83.6755 998.509 83.6755 Q1005.84 83.6755 1009.49 79.8271 Q1013.13 76.0193 1013.13 68.282 L1013.13 64.5957 Q1010.82 68.6061 1007.22 70.5911 Q1003.61 72.576 998.59 72.576 Q990.245 72.576 985.141 66.2161 Q980.037 59.8562 980.037 49.3643 Q980.037 38.832 985.141 32.472 Q990.245 26.1121 998.59 26.1121 Q1003.61 26.1121 1007.22 28.0971 Q1010.82 30.082 1013.13 34.0924 L1013.13 27.2059 L1020.59 27.2059 L1020.59 66.9452 Z\" fill=\"#000000\" fill-rule=\"evenodd\" fill-opacity=\"1\" /><path clip-path=\"url(#clip350)\" d=\"M1062.23 34.1734 Q1060.97 33.4443 1059.47 33.1202 Q1058.02 32.7556 1056.23 32.7556 Q1049.91 32.7556 1046.51 36.8875 Q1043.15 40.9789 1043.15 48.6757 L1043.15 72.576 L1035.66 72.576 L1035.66 27.2059 L1043.15 27.2059 L1043.15 34.2544 Q1045.5 30.1225 1049.27 28.1376 Q1053.03 26.1121 1058.42 26.1121 Q1059.19 26.1121 1060.12 26.2337 Q1061.05 26.3147 1062.19 26.5172 L1062.23 34.1734 Z\" fill=\"#000000\" fill-rule=\"evenodd\" fill-opacity=\"1\" /><path clip-path=\"url(#clip350)\" d=\"M1085.81 32.4315 Q1079.81 32.4315 1076.33 37.1306 Q1072.84 41.7891 1072.84 49.9314 Q1072.84 58.0738 1076.29 62.7728 Q1079.77 67.4314 1085.81 67.4314 Q1091.76 67.4314 1095.24 62.7323 Q1098.73 58.0333 1098.73 49.9314 Q1098.73 41.8701 1095.24 37.1711 Q1091.76 32.4315 1085.81 32.4315 M1085.81 26.1121 Q1095.53 26.1121 1101.08 32.4315 Q1106.63 38.7509 1106.63 49.9314 Q1106.63 61.0714 1101.08 67.4314 Q1095.53 73.7508 1085.81 73.7508 Q1076.04 73.7508 1070.49 67.4314 Q1064.98 61.0714 1064.98 49.9314 Q1064.98 38.7509 1070.49 32.4315 Q1076.04 26.1121 1085.81 26.1121 Z\" fill=\"#000000\" fill-rule=\"evenodd\" fill-opacity=\"1\" /><path clip-path=\"url(#clip350)\" d=\"M1118.21 54.671 L1118.21 27.2059 L1125.67 27.2059 L1125.67 54.3874 Q1125.67 60.8284 1128.18 64.0691 Q1130.69 67.2693 1135.71 67.2693 Q1141.75 67.2693 1145.23 63.421 Q1148.76 59.5726 1148.76 52.9291 L1148.76 27.2059 L1156.21 27.2059 L1156.21 72.576 L1148.76 72.576 L1148.76 65.6084 Q1146.04 69.7404 1142.44 71.7658 Q1138.87 73.7508 1134.13 73.7508 Q1126.31 73.7508 1122.26 68.8897 Q1118.21 64.0286 1118.21 54.671 M1136.97 26.1121 L1136.97 26.1121 Z\" fill=\"#000000\" fill-rule=\"evenodd\" fill-opacity=\"1\" /><path clip-path=\"url(#clip350)\" d=\"M1209.28 45.1919 L1209.28 72.576 L1201.82 72.576 L1201.82 45.4349 Q1201.82 38.994 1199.31 35.7938 Q1196.8 32.5936 1191.78 32.5936 Q1185.74 32.5936 1182.26 36.4419 Q1178.77 40.2903 1178.77 46.9338 L1178.77 72.576 L1171.28 72.576 L1171.28 27.2059 L1178.77 27.2059 L1178.77 34.2544 Q1181.45 30.163 1185.05 28.1376 Q1188.7 26.1121 1193.44 26.1121 Q1201.26 26.1121 1205.27 30.9732 Q1209.28 35.7938 1209.28 45.1919 Z\" fill=\"#000000\" fill-rule=\"evenodd\" fill-opacity=\"1\" /><path clip-path=\"url(#clip350)\" d=\"M1254 34.0924 L1254 9.54393 L1261.45 9.54393 L1261.45 72.576 L1254 72.576 L1254 65.7705 Q1251.65 69.8214 1248.04 71.8063 Q1244.48 73.7508 1239.46 73.7508 Q1231.23 73.7508 1226.05 67.1883 Q1220.9 60.6258 1220.9 49.9314 Q1220.9 39.2371 1226.05 32.6746 Q1231.23 26.1121 1239.46 26.1121 Q1244.48 26.1121 1248.04 28.0971 Q1251.65 30.0415 1254 34.0924 M1228.6 49.9314 Q1228.6 58.1548 1231.96 62.8538 Q1235.37 67.5124 1241.28 67.5124 Q1247.19 67.5124 1250.6 62.8538 Q1254 58.1548 1254 49.9314 Q1254 41.7081 1250.6 37.0496 Q1247.19 32.3505 1241.28 32.3505 Q1235.37 32.3505 1231.96 37.0496 Q1228.6 41.7081 1228.6 49.9314 Z\" fill=\"#000000\" fill-rule=\"evenodd\" fill-opacity=\"1\" /><path clip-path=\"url(#clip350)\" d=\"M1332.1 28.5427 L1332.1 35.5912 Q1328.94 33.9709 1325.54 33.1607 Q1322.14 32.3505 1318.49 32.3505 Q1312.94 32.3505 1310.14 34.0519 Q1307.39 35.7533 1307.39 39.156 Q1307.39 41.7486 1309.38 43.2475 Q1311.36 44.7058 1317.36 46.0426 L1319.91 46.6097 Q1327.85 48.3111 1331.17 51.4303 Q1334.53 54.509 1334.53 60.0587 Q1334.53 66.3781 1329.51 70.0644 Q1324.53 73.7508 1315.78 73.7508 Q1312.13 73.7508 1308.16 73.0216 Q1304.23 72.3329 1299.86 70.9151 L1299.86 63.2184 Q1303.99 65.3654 1308 66.4591 Q1312.01 67.5124 1315.94 67.5124 Q1321.2 67.5124 1324.04 65.73 Q1326.88 63.9071 1326.88 60.6258 Q1326.88 57.5877 1324.81 55.9673 Q1322.78 54.3469 1315.86 52.8481 L1313.26 52.2405 Q1306.34 50.7821 1303.26 47.7845 Q1300.18 44.7463 1300.18 39.4801 Q1300.18 33.0797 1304.72 29.5959 Q1309.25 26.1121 1317.6 26.1121 Q1321.73 26.1121 1325.38 26.7198 Q1329.02 27.3274 1332.1 28.5427 Z\" fill=\"#000000\" fill-rule=\"evenodd\" fill-opacity=\"1\" /><path clip-path=\"url(#clip350)\" d=\"M1353.77 14.324 L1353.77 27.2059 L1369.13 27.2059 L1369.13 32.9987 L1353.77 32.9987 L1353.77 57.6282 Q1353.77 63.1779 1355.27 64.7578 Q1356.81 66.3376 1361.47 66.3376 L1369.13 66.3376 L1369.13 72.576 L1361.47 72.576 Q1352.84 72.576 1349.56 69.3758 Q1346.28 66.1351 1346.28 57.6282 L1346.28 32.9987 L1340.81 32.9987 L1340.81 27.2059 L1346.28 27.2059 L1346.28 14.324 L1353.77 14.324 Z\" fill=\"#000000\" fill-rule=\"evenodd\" fill-opacity=\"1\" /><path clip-path=\"url(#clip350)\" d=\"M1399.55 49.7694 Q1390.51 49.7694 1387.03 51.8354 Q1383.55 53.9013 1383.55 58.8839 Q1383.55 62.8538 1386.14 65.2034 Q1388.77 67.5124 1393.27 67.5124 Q1399.47 67.5124 1403.19 63.1374 Q1406.96 58.7219 1406.96 51.4303 L1406.96 49.7694 L1399.55 49.7694 M1414.42 46.6907 L1414.42 72.576 L1406.96 72.576 L1406.96 65.6895 Q1404.41 69.8214 1400.6 71.8063 Q1396.79 73.7508 1391.28 73.7508 Q1384.32 73.7508 1380.19 69.8619 Q1376.09 65.9325 1376.09 59.3701 Q1376.09 51.7138 1381.2 47.825 Q1386.34 43.9361 1396.51 43.9361 L1406.96 43.9361 L1406.96 43.2069 Q1406.96 38.0623 1403.56 35.2672 Q1400.2 32.4315 1394.08 32.4315 Q1390.19 32.4315 1386.5 33.3632 Q1382.82 34.295 1379.42 36.1584 L1379.42 29.2718 Q1383.51 27.692 1387.36 26.9223 Q1391.2 26.1121 1394.85 26.1121 Q1404.69 26.1121 1409.55 31.2163 Q1414.42 36.3204 1414.42 46.6907 Z\" fill=\"#000000\" fill-rule=\"evenodd\" fill-opacity=\"1\" /><path clip-path=\"url(#clip350)\" d=\"M1437.14 14.324 L1437.14 27.2059 L1452.49 27.2059 L1452.49 32.9987 L1437.14 32.9987 L1437.14 57.6282 Q1437.14 63.1779 1438.64 64.7578 Q1440.18 66.3376 1444.84 66.3376 L1452.49 66.3376 L1452.49 72.576 L1444.84 72.576 Q1436.21 72.576 1432.93 69.3758 Q1429.65 66.1351 1429.65 57.6282 L1429.65 32.9987 L1424.18 32.9987 L1424.18 27.2059 L1429.65 27.2059 L1429.65 14.324 L1437.14 14.324 Z\" fill=\"#000000\" fill-rule=\"evenodd\" fill-opacity=\"1\" /><path clip-path=\"url(#clip350)\" d=\"M1501.1 48.0275 L1501.1 51.6733 L1466.83 51.6733 Q1467.32 59.3701 1471.45 63.421 Q1475.62 67.4314 1483.04 67.4314 Q1487.33 67.4314 1491.34 66.3781 Q1495.39 65.3249 1499.36 63.2184 L1499.36 70.267 Q1495.35 71.9684 1491.14 72.8596 Q1486.93 73.7508 1482.59 73.7508 Q1471.74 73.7508 1465.38 67.4314 Q1459.06 61.1119 1459.06 50.3365 Q1459.06 39.1965 1465.05 32.6746 Q1471.09 26.1121 1481.3 26.1121 Q1490.45 26.1121 1495.76 32.0264 Q1501.1 37.9003 1501.1 48.0275 M1493.65 45.84 Q1493.57 39.7232 1490.21 36.0774 Q1486.89 32.4315 1481.38 32.4315 Q1475.14 32.4315 1471.37 35.9558 Q1467.64 39.4801 1467.08 45.8805 L1493.65 45.84 Z\" fill=\"#000000\" fill-rule=\"evenodd\" fill-opacity=\"1\" /><path clip-path=\"url(#clip350)\" d=\"M1578.52 48.0275 L1578.52 51.6733 L1544.25 51.6733 Q1544.73 59.3701 1548.86 63.421 Q1553.04 67.4314 1560.45 67.4314 Q1564.74 67.4314 1568.75 66.3781 Q1572.81 65.3249 1576.78 63.2184 L1576.78 70.267 Q1572.76 71.9684 1568.55 72.8596 Q1564.34 73.7508 1560 73.7508 Q1549.15 73.7508 1542.79 67.4314 Q1536.47 61.1119 1536.47 50.3365 Q1536.47 39.1965 1542.46 32.6746 Q1548.5 26.1121 1558.71 26.1121 Q1567.86 26.1121 1573.17 32.0264 Q1578.52 37.9003 1578.52 48.0275 M1571.06 45.84 Q1570.98 39.7232 1567.62 36.0774 Q1564.3 32.4315 1558.79 32.4315 Q1552.55 32.4315 1548.78 35.9558 Q1545.06 39.4801 1544.49 45.8805 L1571.06 45.84 Z\" fill=\"#000000\" fill-rule=\"evenodd\" fill-opacity=\"1\" /><path clip-path=\"url(#clip350)\" d=\"M1628.46 45.1919 L1628.46 72.576 L1621.01 72.576 L1621.01 45.4349 Q1621.01 38.994 1618.5 35.7938 Q1615.99 32.5936 1610.97 32.5936 Q1604.93 32.5936 1601.45 36.4419 Q1597.96 40.2903 1597.96 46.9338 L1597.96 72.576 L1590.47 72.576 L1590.47 27.2059 L1597.96 27.2059 L1597.96 34.2544 Q1600.64 30.163 1604.24 28.1376 Q1607.89 26.1121 1612.63 26.1121 Q1620.44 26.1121 1624.45 30.9732 Q1628.46 35.7938 1628.46 45.1919 Z\" fill=\"#000000\" fill-rule=\"evenodd\" fill-opacity=\"1\" /><path clip-path=\"url(#clip350)\" d=\"M1682.14 48.0275 L1682.14 51.6733 L1647.87 51.6733 Q1648.35 59.3701 1652.49 63.421 Q1656.66 67.4314 1664.07 67.4314 Q1668.37 67.4314 1672.38 66.3781 Q1676.43 65.3249 1680.4 63.2184 L1680.4 70.267 Q1676.39 71.9684 1672.17 72.8596 Q1667.96 73.7508 1663.63 73.7508 Q1652.77 73.7508 1646.41 67.4314 Q1640.09 61.1119 1640.09 50.3365 Q1640.09 39.1965 1646.09 32.6746 Q1652.12 26.1121 1662.33 26.1121 Q1671.49 26.1121 1676.79 32.0264 Q1682.14 37.9003 1682.14 48.0275 M1674.69 45.84 Q1674.6 39.7232 1671.24 36.0774 Q1667.92 32.4315 1662.41 32.4315 Q1656.17 32.4315 1652.41 35.9558 Q1648.68 39.4801 1648.11 45.8805 L1674.69 45.84 Z\" fill=\"#000000\" fill-rule=\"evenodd\" fill-opacity=\"1\" /><path clip-path=\"url(#clip350)\" d=\"M1720.66 34.1734 Q1719.41 33.4443 1717.91 33.1202 Q1716.45 32.7556 1714.67 32.7556 Q1708.35 32.7556 1704.95 36.8875 Q1701.58 40.9789 1701.58 48.6757 L1701.58 72.576 L1694.09 72.576 L1694.09 27.2059 L1701.58 27.2059 L1701.58 34.2544 Q1703.93 30.1225 1707.7 28.1376 Q1711.47 26.1121 1716.86 26.1121 Q1717.63 26.1121 1718.56 26.2337 Q1719.49 26.3147 1720.62 26.5172 L1720.66 34.1734 Z\" fill=\"#000000\" fill-rule=\"evenodd\" fill-opacity=\"1\" /><path clip-path=\"url(#clip350)\" d=\"M1756.88 49.3643 Q1756.88 41.2625 1753.52 36.8065 Q1750.19 32.3505 1744.16 32.3505 Q1738.16 32.3505 1734.8 36.8065 Q1731.48 41.2625 1731.48 49.3643 Q1731.48 57.4256 1734.8 61.8816 Q1738.16 66.3376 1744.16 66.3376 Q1750.19 66.3376 1753.52 61.8816 Q1756.88 57.4256 1756.88 49.3643 M1764.33 66.9452 Q1764.33 78.5308 1759.19 84.1616 Q1754.04 89.8329 1743.43 89.8329 Q1739.5 89.8329 1736.02 89.2252 Q1732.53 88.6581 1729.25 87.4428 L1729.25 80.1917 Q1732.53 81.9741 1735.73 82.8248 Q1738.93 83.6755 1742.25 83.6755 Q1749.59 83.6755 1753.23 79.8271 Q1756.88 76.0193 1756.88 68.282 L1756.88 64.5957 Q1754.57 68.6061 1750.96 70.5911 Q1747.36 72.576 1742.34 72.576 Q1733.99 72.576 1728.89 66.2161 Q1723.78 59.8562 1723.78 49.3643 Q1723.78 38.832 1728.89 32.472 Q1733.99 26.1121 1742.34 26.1121 Q1747.36 26.1121 1750.96 28.0971 Q1754.57 30.082 1756.88 34.0924 L1756.88 27.2059 L1764.33 27.2059 L1764.33 66.9452 Z\" fill=\"#000000\" fill-rule=\"evenodd\" fill-opacity=\"1\" /><path clip-path=\"url(#clip350)\" d=\"M1798.56 76.7889 Q1795.4 84.8907 1792.41 87.3618 Q1789.41 89.8329 1784.38 89.8329 L1778.43 89.8329 L1778.43 83.5945 L1782.8 83.5945 Q1785.88 83.5945 1787.58 82.1361 Q1789.29 80.6778 1791.35 75.2496 L1792.69 71.8468 L1774.34 27.2059 L1782.24 27.2059 L1796.42 62.6918 L1810.59 27.2059 L1818.49 27.2059 L1798.56 76.7889 Z\" fill=\"#000000\" fill-rule=\"evenodd\" fill-opacity=\"1\" /><circle clip-path=\"url(#clip352)\" cx=\"302.342\" cy=\"1386.4\" r=\"14\" fill=\"#009af9\" fill-rule=\"evenodd\" fill-opacity=\"1\" stroke=\"#000000\" stroke-opacity=\"1\" stroke-width=\"3.2\"/>\n<circle clip-path=\"url(#clip352)\" cx=\"370.986\" cy=\"1335.6\" r=\"14\" fill=\"#009af9\" fill-rule=\"evenodd\" fill-opacity=\"1\" stroke=\"#000000\" stroke-opacity=\"1\" stroke-width=\"3.2\"/>\n<circle clip-path=\"url(#clip352)\" cx=\"439.631\" cy=\"1285.44\" r=\"14\" fill=\"#009af9\" fill-rule=\"evenodd\" fill-opacity=\"1\" stroke=\"#000000\" stroke-opacity=\"1\" stroke-width=\"3.2\"/>\n<circle clip-path=\"url(#clip352)\" cx=\"508.275\" cy=\"1235.91\" r=\"14\" fill=\"#009af9\" fill-rule=\"evenodd\" fill-opacity=\"1\" stroke=\"#000000\" stroke-opacity=\"1\" stroke-width=\"3.2\"/>\n<circle clip-path=\"url(#clip352)\" cx=\"576.92\" cy=\"1187.01\" r=\"14\" fill=\"#009af9\" fill-rule=\"evenodd\" fill-opacity=\"1\" stroke=\"#000000\" stroke-opacity=\"1\" stroke-width=\"3.2\"/>\n<circle clip-path=\"url(#clip352)\" cx=\"645.565\" cy=\"1138.73\" r=\"14\" fill=\"#009af9\" fill-rule=\"evenodd\" fill-opacity=\"1\" stroke=\"#000000\" stroke-opacity=\"1\" stroke-width=\"3.2\"/>\n<circle clip-path=\"url(#clip352)\" cx=\"714.209\" cy=\"1091.07\" r=\"14\" fill=\"#009af9\" fill-rule=\"evenodd\" fill-opacity=\"1\" stroke=\"#000000\" stroke-opacity=\"1\" stroke-width=\"3.2\"/>\n<circle clip-path=\"url(#clip352)\" cx=\"782.854\" cy=\"1044.01\" r=\"14\" fill=\"#009af9\" fill-rule=\"evenodd\" fill-opacity=\"1\" stroke=\"#000000\" stroke-opacity=\"1\" stroke-width=\"3.2\"/>\n<circle clip-path=\"url(#clip352)\" cx=\"851.498\" cy=\"997.561\" r=\"14\" fill=\"#009af9\" fill-rule=\"evenodd\" fill-opacity=\"1\" stroke=\"#000000\" stroke-opacity=\"1\" stroke-width=\"3.2\"/>\n<circle clip-path=\"url(#clip352)\" cx=\"920.143\" cy=\"951.714\" r=\"14\" fill=\"#009af9\" fill-rule=\"evenodd\" fill-opacity=\"1\" stroke=\"#000000\" stroke-opacity=\"1\" stroke-width=\"3.2\"/>\n<circle clip-path=\"url(#clip352)\" cx=\"988.788\" cy=\"906.466\" r=\"14\" fill=\"#009af9\" fill-rule=\"evenodd\" fill-opacity=\"1\" stroke=\"#000000\" stroke-opacity=\"1\" stroke-width=\"3.2\"/>\n<circle clip-path=\"url(#clip352)\" cx=\"1057.43\" cy=\"861.815\" r=\"14\" fill=\"#009af9\" fill-rule=\"evenodd\" fill-opacity=\"1\" stroke=\"#000000\" stroke-opacity=\"1\" stroke-width=\"3.2\"/>\n<circle clip-path=\"url(#clip352)\" cx=\"1126.08\" cy=\"817.758\" r=\"14\" fill=\"#009af9\" fill-rule=\"evenodd\" fill-opacity=\"1\" stroke=\"#000000\" stroke-opacity=\"1\" stroke-width=\"3.2\"/>\n<circle clip-path=\"url(#clip352)\" cx=\"1194.72\" cy=\"774.294\" r=\"14\" fill=\"#009af9\" fill-rule=\"evenodd\" fill-opacity=\"1\" stroke=\"#000000\" stroke-opacity=\"1\" stroke-width=\"3.2\"/>\n<circle clip-path=\"url(#clip352)\" cx=\"1263.37\" cy=\"731.422\" r=\"14\" fill=\"#009af9\" fill-rule=\"evenodd\" fill-opacity=\"1\" stroke=\"#000000\" stroke-opacity=\"1\" stroke-width=\"3.2\"/>\n<circle clip-path=\"url(#clip352)\" cx=\"1332.01\" cy=\"689.142\" r=\"14\" fill=\"#009af9\" fill-rule=\"evenodd\" fill-opacity=\"1\" stroke=\"#000000\" stroke-opacity=\"1\" stroke-width=\"3.2\"/>\n<circle clip-path=\"url(#clip352)\" cx=\"1400.66\" cy=\"647.452\" r=\"14\" fill=\"#009af9\" fill-rule=\"evenodd\" fill-opacity=\"1\" stroke=\"#000000\" stroke-opacity=\"1\" stroke-width=\"3.2\"/>\n<circle clip-path=\"url(#clip352)\" cx=\"1469.3\" cy=\"606.355\" r=\"14\" fill=\"#009af9\" fill-rule=\"evenodd\" fill-opacity=\"1\" stroke=\"#000000\" stroke-opacity=\"1\" stroke-width=\"3.2\"/>\n<circle clip-path=\"url(#clip352)\" cx=\"1537.94\" cy=\"565.85\" r=\"14\" fill=\"#009af9\" fill-rule=\"evenodd\" fill-opacity=\"1\" stroke=\"#000000\" stroke-opacity=\"1\" stroke-width=\"3.2\"/>\n<circle clip-path=\"url(#clip352)\" cx=\"1606.59\" cy=\"525.94\" r=\"14\" fill=\"#009af9\" fill-rule=\"evenodd\" fill-opacity=\"1\" stroke=\"#000000\" stroke-opacity=\"1\" stroke-width=\"3.2\"/>\n<circle clip-path=\"url(#clip352)\" cx=\"1675.23\" cy=\"486.626\" r=\"14\" fill=\"#009af9\" fill-rule=\"evenodd\" fill-opacity=\"1\" stroke=\"#000000\" stroke-opacity=\"1\" stroke-width=\"3.2\"/>\n<circle clip-path=\"url(#clip352)\" cx=\"1743.88\" cy=\"447.912\" r=\"14\" fill=\"#009af9\" fill-rule=\"evenodd\" fill-opacity=\"1\" stroke=\"#000000\" stroke-opacity=\"1\" stroke-width=\"3.2\"/>\n<circle clip-path=\"url(#clip352)\" cx=\"1812.52\" cy=\"409.8\" r=\"14\" fill=\"#009af9\" fill-rule=\"evenodd\" fill-opacity=\"1\" stroke=\"#000000\" stroke-opacity=\"1\" stroke-width=\"3.2\"/>\n<circle clip-path=\"url(#clip352)\" cx=\"1881.17\" cy=\"372.295\" r=\"14\" fill=\"#009af9\" fill-rule=\"evenodd\" fill-opacity=\"1\" stroke=\"#000000\" stroke-opacity=\"1\" stroke-width=\"3.2\"/>\n<circle clip-path=\"url(#clip352)\" cx=\"1949.81\" cy=\"335.399\" r=\"14\" fill=\"#009af9\" fill-rule=\"evenodd\" fill-opacity=\"1\" stroke=\"#000000\" stroke-opacity=\"1\" stroke-width=\"3.2\"/>\n<circle clip-path=\"url(#clip352)\" cx=\"2018.46\" cy=\"299.119\" r=\"14\" fill=\"#009af9\" fill-rule=\"evenodd\" fill-opacity=\"1\" stroke=\"#000000\" stroke-opacity=\"1\" stroke-width=\"3.2\"/>\n<circle clip-path=\"url(#clip352)\" cx=\"2087.1\" cy=\"263.459\" r=\"14\" fill=\"#009af9\" fill-rule=\"evenodd\" fill-opacity=\"1\" stroke=\"#000000\" stroke-opacity=\"1\" stroke-width=\"3.2\"/>\n<circle clip-path=\"url(#clip352)\" cx=\"2155.75\" cy=\"228.424\" r=\"14\" fill=\"#009af9\" fill-rule=\"evenodd\" fill-opacity=\"1\" stroke=\"#000000\" stroke-opacity=\"1\" stroke-width=\"3.2\"/>\n<circle clip-path=\"url(#clip352)\" cx=\"2224.39\" cy=\"194.021\" r=\"14\" fill=\"#009af9\" fill-rule=\"evenodd\" fill-opacity=\"1\" stroke=\"#000000\" stroke-opacity=\"1\" stroke-width=\"3.2\"/>\n<circle clip-path=\"url(#clip352)\" cx=\"2293.04\" cy=\"160.256\" r=\"14\" fill=\"#009af9\" fill-rule=\"evenodd\" fill-opacity=\"1\" stroke=\"#000000\" stroke-opacity=\"1\" stroke-width=\"3.2\"/>\n</svg>\n"
     },
     "metadata": {}
    }
   ],
   "metadata": {}
  },
  {
   "cell_type": "code",
   "execution_count": null,
   "source": [],
   "outputs": [],
   "metadata": {}
  }
 ],
 "metadata": {
  "orig_nbformat": 4,
  "language_info": {
   "file_extension": ".jl",
   "name": "julia",
   "mimetype": "application/julia",
   "version": "1.6.1"
  },
  "kernelspec": {
   "name": "julia-1.6",
   "display_name": "Julia 1.6.1",
   "language": "julia"
  }
 },
 "nbformat": 4,
 "nbformat_minor": 2
}